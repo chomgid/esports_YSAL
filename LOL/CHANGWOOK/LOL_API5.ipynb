{
  "cells": [
    {
      "cell_type": "code",
      "execution_count": 10,
      "metadata": {
        "id": "PbNI67ASzatd"
      },
      "outputs": [],
      "source": [
        "import requests\n",
        "import json\n",
        "import time\n",
        "import pandas as pd\n",
        "from tqdm import tqdm\n",
        "import numpy as np\n",
        "\n",
        "api_key = \"RGAPI-4db9ec92-fe26-4751-a36e-d2549939a845\""
      ]
    },
    {
      "cell_type": "code",
      "execution_count": 11,
      "metadata": {},
      "outputs": [],
      "source": [
        "url=\"https://kr.api.riotgames.com/lol/league/v4/entries/RANKED_SOLO_5x5/DIAMOND/III?page=1&api_key=\" + api_key"
      ]
    },
    {
      "cell_type": "code",
      "execution_count": 12,
      "metadata": {},
      "outputs": [
        {
          "name": "stdout",
          "output_type": "stream",
          "text": [
            "건학이\n",
            "llIIIllIlllIlIl\n",
            "SideCharacter\n",
            "원챔충혐오자\n",
            "BTOB 그리워하다\n",
            "나나나눈누\n",
            "마루는갱쥐\n",
            "문자지민\n",
            "리아쥬아\n",
            "vvnvvnvnvn\n",
            "틀니벤틀리\n",
            "W1NGMAN\n",
            "누나 제발\n",
            "프로응애러\n",
            "멍멍왈왈멍멍멍왈\n",
            "박흐이수\n",
            "숟가락 정점\n",
            "닉값제데로함\n",
            "쌍쌍쌍\n",
            "NG 1\n",
            "나는말랑말랑해\n",
            "김홍순3\n",
            "눈 예뻐지고 시포\n",
            "PIXELNU\n",
            "누수액\n",
            "KOR961010\n",
            "탱커챔\n",
            "히 썸\n",
            "응 아잇 어 12번\n",
            "진짜 못참겠는데\n",
            "하이 눈 김주호\n",
            "천국에서 온 자\n",
            "Mannim2\n",
            "비정상적인 팀운\n",
            "싸발연이\n",
            "Smile runway\n",
            "야옹야옹송아지\n",
            "상어 코 때리기\n",
            "나는할수있습니다\n",
            "생 혼\n",
            "뚜 딴\n",
            "쥐종대왕\n",
            "이응빡\n",
            "38지주\n",
            "always 15ff\n",
            "KDF JG\n",
            "23년생원딜러\n",
            "tlswlemwkddls\n",
            "zl존Er락DARK왕\n",
            "Karsc\n",
            "bixin32567904\n",
            "지혈제\n",
            "Round One\n",
            "그 총\n",
            "Vex or Alise\n",
            "말걸지마라잡종\n",
            "5코3성람머스\n",
            "맛따봉\n",
            "겸이 fan\n",
            "jiumeng\n",
            "Park Shin Won\n",
            "FA Silky\n",
            "마스터이금비\n",
            "채원이귀엽지\n",
            "샨테비스탄\n",
            "TES99\n",
            "암살자가요\n",
            "재능의 개화\n",
            "뚱녀만골라팬다\n",
            "잘했써\n",
            "신에게 기도를\n",
            "이렇게까지해야하\n",
            "KR Monster Rat\n",
            "솔랭에정뗌\n",
            "체리콕도둑\n",
            "저어어엉글러\n",
            "kr7\n",
            "허쉬초코토네이도\n",
            "꼬시기만지는유현\n",
            "낮잠zz\n",
            "먹던콩\n",
            "탑라인만가는사람\n",
            "Muteall asher\n",
            "아이스악어청포도\n",
            "와두콩\n",
            "최대30연승\n",
            "Rebirth Cookie\n",
            "겨울을 기다려요\n",
            "톡톡씹히는오렌지\n",
            "Dramaturgy\n",
            "이동혓\n",
            "귤 킹\n",
            "무호흡 웨이트\n",
            "껸과류\n",
            "렁 언\n",
            "자지잡놈\n",
            "Barret M82A1\n",
            "스벅아아얼음도둑\n",
            "이천시민\n",
            "화약통 대신 딱콩\n",
            "갱 그만와주세요\n",
            "붕슨같은게임안해\n",
            "별 수호자 장민혁\n",
            "이즈잡아주세요\n",
            "커리맛 똥\n",
            "빡치면 너도하셈\n",
            "IGOLNIK\n",
            "하오골\n",
            "그님 티 모요\n",
            "숯불돼지고기\n",
            "성민치\n",
            "애기숟가락응애\n",
            "최 효 팔\n",
            "약속된승리의검\n",
            "처음초롱\n",
            "By사탕막대\n",
            "봉담쭈니\n",
            "꿀벌희지닝\n",
            "윤태준2번째계정\n",
            "걍 죽어라\n",
            "천하의 정글러\n",
            "포챠나 인형\n",
            "나답게\n",
            "심점숙\n",
            "와드충전핑와사기\n",
            "무관귀1신\n",
            "평화공원\n",
            "구데기킬러\n",
            "도토리비빔막국수\n",
            "갱플하는 양상국\n",
            "해 명\n",
            "비응신도구\n",
            "낭만없는\n",
            "룡까르\n",
            "이대론안돼\n",
            "벌 헤는 밤\n",
            "눈떠보니여기였음\n",
            "각화초5학년2반\n",
            "인천동양동불주먹\n",
            "아비에무아\n",
            "영딜러\n",
            "신선해팔팔해\n",
            "딩딩고\n",
            "anycoloryoulike\n",
            "붉은 너구리\n",
            "원딜벽느낀사람\n",
            "상남자 권혁\n",
            "이화시장두번째집\n",
            "차광선글라스\n",
            "폐관수련다시시작\n",
            "오홍영입니다\n",
            "평행세계 데프트\n",
            "립 스\n",
            "LMH99\n",
            "표범 너무 귀여워\n",
            "만 섬\n",
            "아들러 심리학자\n",
            "리신머가리\n",
            "엠 돌\n",
            "104080\n",
            "갈비굽는장인\n",
            "박승호\n",
            "맥심모델흑정몬\n",
            "노갱이면머리박음\n",
            "Solace\n",
            "밥음복\n",
            "긍정희망사랑평화\n",
            "채팅게임 롤\n",
            "우 먼\n",
            "나쁜하루보내세요\n",
            "혼자자요\n",
            "조 쯩\n",
            "신형만fan\n",
            "ShoriRama\n",
            "영정이라니\n",
            "묵수언행\n",
            "2007 10 12\n",
            "참을라\n",
            "캣뽀즈\n",
            "Valh4lla\n",
            "죽지못해살다\n",
            "곽두팔남친\n",
            "아이러브유\n",
            "어리둥절엉망진창\n",
            "07 JGKlNG\n",
            "플레티넘 망나니\n",
            "안가싫어부르지마\n",
            "골통분쇄자류성현\n",
            "아프지 않고 싶다\n",
            "퀴여운코콤미\n",
            "노유미 노브라움\n",
            "zsxcasdasd\n",
            "쏘주좋아요\n",
            "HanDy\n",
            "고무통523개\n",
            "아이언탑라이너\n",
            "나 진짜 개못하네\n",
            "키슨데왜벗어\n",
            "꼬 차\n",
            "미미링\n",
            "nnIu\n",
            "지욤이는 못말려\n",
            "황금빛 버터쿠키\n",
            "black sheep wall\n",
            "보호자의감독이필요한게임임니다\n"
          ]
        }
      ],
      "source": [
        "r = requests.get(url)\n",
        "r = r.json()\n",
        "for i in r:\n",
        "    print(i['summonerName'])"
      ]
    },
    {
      "cell_type": "code",
      "execution_count": 13,
      "metadata": {},
      "outputs": [],
      "source": [
        "import getLoLData2"
      ]
    },
    {
      "cell_type": "code",
      "execution_count": 15,
      "metadata": {},
      "outputs": [
        {
          "data": {
            "text/html": [
              "<div>\n",
              "<style scoped>\n",
              "    .dataframe tbody tr th:only-of-type {\n",
              "        vertical-align: middle;\n",
              "    }\n",
              "\n",
              "    .dataframe tbody tr th {\n",
              "        vertical-align: top;\n",
              "    }\n",
              "\n",
              "    .dataframe thead th {\n",
              "        text-align: right;\n",
              "    }\n",
              "</style>\n",
              "<table border=\"1\" class=\"dataframe\">\n",
              "  <thead>\n",
              "    <tr style=\"text-align: right;\">\n",
              "      <th></th>\n",
              "      <th>Unnamed: 0</th>\n",
              "      <th>gameId</th>\n",
              "      <th>blueWins</th>\n",
              "      <th>blueTotalGolds</th>\n",
              "      <th>blueCurrentGolds</th>\n",
              "      <th>blueTotalLevel</th>\n",
              "      <th>blueAvgLevel</th>\n",
              "      <th>blueTotalMinionKills</th>\n",
              "      <th>blueTotalJungleMinionKills</th>\n",
              "      <th>blueTotalDamageToChampion</th>\n",
              "      <th>...</th>\n",
              "      <th>redTowerKills</th>\n",
              "      <th>redMidTowerKills</th>\n",
              "      <th>redTopTowerKills</th>\n",
              "      <th>redBotTowerKills</th>\n",
              "      <th>redInhibitor</th>\n",
              "      <th>redFirstDragon</th>\n",
              "      <th>redDragonType</th>\n",
              "      <th>redDragon</th>\n",
              "      <th>redRiftHeralds</th>\n",
              "      <th>matchMin</th>\n",
              "    </tr>\n",
              "  </thead>\n",
              "  <tbody>\n",
              "    <tr>\n",
              "      <th>0</th>\n",
              "      <td>0</td>\n",
              "      <td>KR_6423633985</td>\n",
              "      <td>False</td>\n",
              "      <td>14483</td>\n",
              "      <td>2723</td>\n",
              "      <td>32</td>\n",
              "      <td>6.4</td>\n",
              "      <td>225</td>\n",
              "      <td>52</td>\n",
              "      <td>6599</td>\n",
              "      <td>...</td>\n",
              "      <td>0</td>\n",
              "      <td>0</td>\n",
              "      <td>0</td>\n",
              "      <td>0</td>\n",
              "      <td>0</td>\n",
              "      <td>0</td>\n",
              "      <td>NaN</td>\n",
              "      <td>0</td>\n",
              "      <td>0</td>\n",
              "      <td>31</td>\n",
              "    </tr>\n",
              "    <tr>\n",
              "      <th>1</th>\n",
              "      <td>1</td>\n",
              "      <td>KR_6411523224</td>\n",
              "      <td>True</td>\n",
              "      <td>15757</td>\n",
              "      <td>1742</td>\n",
              "      <td>33</td>\n",
              "      <td>6.6</td>\n",
              "      <td>215</td>\n",
              "      <td>40</td>\n",
              "      <td>14231</td>\n",
              "      <td>...</td>\n",
              "      <td>0</td>\n",
              "      <td>0</td>\n",
              "      <td>0</td>\n",
              "      <td>0</td>\n",
              "      <td>0</td>\n",
              "      <td>0</td>\n",
              "      <td>NaN</td>\n",
              "      <td>0</td>\n",
              "      <td>1</td>\n",
              "      <td>24</td>\n",
              "    </tr>\n",
              "    <tr>\n",
              "      <th>2</th>\n",
              "      <td>2</td>\n",
              "      <td>KR_6418400578</td>\n",
              "      <td>True</td>\n",
              "      <td>17416</td>\n",
              "      <td>4111</td>\n",
              "      <td>32</td>\n",
              "      <td>6.4</td>\n",
              "      <td>187</td>\n",
              "      <td>44</td>\n",
              "      <td>18027</td>\n",
              "      <td>...</td>\n",
              "      <td>0</td>\n",
              "      <td>0</td>\n",
              "      <td>0</td>\n",
              "      <td>0</td>\n",
              "      <td>0</td>\n",
              "      <td>0</td>\n",
              "      <td>NaN</td>\n",
              "      <td>0</td>\n",
              "      <td>1</td>\n",
              "      <td>32</td>\n",
              "    </tr>\n",
              "    <tr>\n",
              "      <th>3</th>\n",
              "      <td>3</td>\n",
              "      <td>KR_6423206849</td>\n",
              "      <td>False</td>\n",
              "      <td>13497</td>\n",
              "      <td>1472</td>\n",
              "      <td>31</td>\n",
              "      <td>6.2</td>\n",
              "      <td>185</td>\n",
              "      <td>35</td>\n",
              "      <td>9303</td>\n",
              "      <td>...</td>\n",
              "      <td>0</td>\n",
              "      <td>0</td>\n",
              "      <td>0</td>\n",
              "      <td>0</td>\n",
              "      <td>0</td>\n",
              "      <td>0</td>\n",
              "      <td>NaN</td>\n",
              "      <td>0</td>\n",
              "      <td>1</td>\n",
              "      <td>24</td>\n",
              "    </tr>\n",
              "    <tr>\n",
              "      <th>4</th>\n",
              "      <td>4</td>\n",
              "      <td>KR_6419756778</td>\n",
              "      <td>True</td>\n",
              "      <td>16971</td>\n",
              "      <td>3271</td>\n",
              "      <td>32</td>\n",
              "      <td>6.4</td>\n",
              "      <td>195</td>\n",
              "      <td>52</td>\n",
              "      <td>17175</td>\n",
              "      <td>...</td>\n",
              "      <td>0</td>\n",
              "      <td>0</td>\n",
              "      <td>0</td>\n",
              "      <td>0</td>\n",
              "      <td>0</td>\n",
              "      <td>0</td>\n",
              "      <td>NaN</td>\n",
              "      <td>0</td>\n",
              "      <td>0</td>\n",
              "      <td>41</td>\n",
              "    </tr>\n",
              "    <tr>\n",
              "      <th>...</th>\n",
              "      <td>...</td>\n",
              "      <td>...</td>\n",
              "      <td>...</td>\n",
              "      <td>...</td>\n",
              "      <td>...</td>\n",
              "      <td>...</td>\n",
              "      <td>...</td>\n",
              "      <td>...</td>\n",
              "      <td>...</td>\n",
              "      <td>...</td>\n",
              "      <td>...</td>\n",
              "      <td>...</td>\n",
              "      <td>...</td>\n",
              "      <td>...</td>\n",
              "      <td>...</td>\n",
              "      <td>...</td>\n",
              "      <td>...</td>\n",
              "      <td>...</td>\n",
              "      <td>...</td>\n",
              "      <td>...</td>\n",
              "      <td>...</td>\n",
              "    </tr>\n",
              "    <tr>\n",
              "      <th>3827</th>\n",
              "      <td>3827</td>\n",
              "      <td>KR_6421600762</td>\n",
              "      <td>False</td>\n",
              "      <td>16170</td>\n",
              "      <td>2625</td>\n",
              "      <td>32</td>\n",
              "      <td>6.4</td>\n",
              "      <td>197</td>\n",
              "      <td>43</td>\n",
              "      <td>14226</td>\n",
              "      <td>...</td>\n",
              "      <td>0</td>\n",
              "      <td>0</td>\n",
              "      <td>0</td>\n",
              "      <td>0</td>\n",
              "      <td>0</td>\n",
              "      <td>1</td>\n",
              "      <td>CHEMTECH_DRAGON</td>\n",
              "      <td>1</td>\n",
              "      <td>0</td>\n",
              "      <td>22</td>\n",
              "    </tr>\n",
              "    <tr>\n",
              "      <th>3828</th>\n",
              "      <td>3828</td>\n",
              "      <td>KR_6421531877</td>\n",
              "      <td>True</td>\n",
              "      <td>19031</td>\n",
              "      <td>3141</td>\n",
              "      <td>34</td>\n",
              "      <td>6.8</td>\n",
              "      <td>218</td>\n",
              "      <td>36</td>\n",
              "      <td>20123</td>\n",
              "      <td>...</td>\n",
              "      <td>0</td>\n",
              "      <td>0</td>\n",
              "      <td>0</td>\n",
              "      <td>0</td>\n",
              "      <td>0</td>\n",
              "      <td>1</td>\n",
              "      <td>HEXTECH_DRAGON</td>\n",
              "      <td>1</td>\n",
              "      <td>0</td>\n",
              "      <td>23</td>\n",
              "    </tr>\n",
              "    <tr>\n",
              "      <th>3829</th>\n",
              "      <td>3829</td>\n",
              "      <td>KR_6394148020</td>\n",
              "      <td>True</td>\n",
              "      <td>14000</td>\n",
              "      <td>1210</td>\n",
              "      <td>31</td>\n",
              "      <td>6.2</td>\n",
              "      <td>210</td>\n",
              "      <td>47</td>\n",
              "      <td>13929</td>\n",
              "      <td>...</td>\n",
              "      <td>0</td>\n",
              "      <td>0</td>\n",
              "      <td>0</td>\n",
              "      <td>0</td>\n",
              "      <td>0</td>\n",
              "      <td>0</td>\n",
              "      <td>NaN</td>\n",
              "      <td>0</td>\n",
              "      <td>0</td>\n",
              "      <td>29</td>\n",
              "    </tr>\n",
              "    <tr>\n",
              "      <th>3830</th>\n",
              "      <td>3830</td>\n",
              "      <td>KR_6424954348</td>\n",
              "      <td>False</td>\n",
              "      <td>13788</td>\n",
              "      <td>2278</td>\n",
              "      <td>32</td>\n",
              "      <td>6.4</td>\n",
              "      <td>220</td>\n",
              "      <td>56</td>\n",
              "      <td>10192</td>\n",
              "      <td>...</td>\n",
              "      <td>0</td>\n",
              "      <td>0</td>\n",
              "      <td>0</td>\n",
              "      <td>0</td>\n",
              "      <td>0</td>\n",
              "      <td>0</td>\n",
              "      <td>NaN</td>\n",
              "      <td>0</td>\n",
              "      <td>0</td>\n",
              "      <td>22</td>\n",
              "    </tr>\n",
              "    <tr>\n",
              "      <th>3831</th>\n",
              "      <td>3831</td>\n",
              "      <td>KR_6414922449</td>\n",
              "      <td>True</td>\n",
              "      <td>14687</td>\n",
              "      <td>4232</td>\n",
              "      <td>31</td>\n",
              "      <td>6.2</td>\n",
              "      <td>176</td>\n",
              "      <td>44</td>\n",
              "      <td>13750</td>\n",
              "      <td>...</td>\n",
              "      <td>0</td>\n",
              "      <td>0</td>\n",
              "      <td>0</td>\n",
              "      <td>0</td>\n",
              "      <td>0</td>\n",
              "      <td>0</td>\n",
              "      <td>NaN</td>\n",
              "      <td>0</td>\n",
              "      <td>0</td>\n",
              "      <td>26</td>\n",
              "    </tr>\n",
              "  </tbody>\n",
              "</table>\n",
              "<p>3832 rows × 55 columns</p>\n",
              "</div>"
            ],
            "text/plain": [
              "      Unnamed: 0         gameId  blueWins  blueTotalGolds  blueCurrentGolds  \\\n",
              "0              0  KR_6423633985     False           14483              2723   \n",
              "1              1  KR_6411523224      True           15757              1742   \n",
              "2              2  KR_6418400578      True           17416              4111   \n",
              "3              3  KR_6423206849     False           13497              1472   \n",
              "4              4  KR_6419756778      True           16971              3271   \n",
              "...          ...            ...       ...             ...               ...   \n",
              "3827        3827  KR_6421600762     False           16170              2625   \n",
              "3828        3828  KR_6421531877      True           19031              3141   \n",
              "3829        3829  KR_6394148020      True           14000              1210   \n",
              "3830        3830  KR_6424954348     False           13788              2278   \n",
              "3831        3831  KR_6414922449      True           14687              4232   \n",
              "\n",
              "      blueTotalLevel  blueAvgLevel  blueTotalMinionKills  \\\n",
              "0                 32           6.4                   225   \n",
              "1                 33           6.6                   215   \n",
              "2                 32           6.4                   187   \n",
              "3                 31           6.2                   185   \n",
              "4                 32           6.4                   195   \n",
              "...              ...           ...                   ...   \n",
              "3827              32           6.4                   197   \n",
              "3828              34           6.8                   218   \n",
              "3829              31           6.2                   210   \n",
              "3830              32           6.4                   220   \n",
              "3831              31           6.2                   176   \n",
              "\n",
              "      blueTotalJungleMinionKills  blueTotalDamageToChampion  ...  \\\n",
              "0                             52                       6599  ...   \n",
              "1                             40                      14231  ...   \n",
              "2                             44                      18027  ...   \n",
              "3                             35                       9303  ...   \n",
              "4                             52                      17175  ...   \n",
              "...                          ...                        ...  ...   \n",
              "3827                          43                      14226  ...   \n",
              "3828                          36                      20123  ...   \n",
              "3829                          47                      13929  ...   \n",
              "3830                          56                      10192  ...   \n",
              "3831                          44                      13750  ...   \n",
              "\n",
              "      redTowerKills  redMidTowerKills  redTopTowerKills  redBotTowerKills  \\\n",
              "0                 0                 0                 0                 0   \n",
              "1                 0                 0                 0                 0   \n",
              "2                 0                 0                 0                 0   \n",
              "3                 0                 0                 0                 0   \n",
              "4                 0                 0                 0                 0   \n",
              "...             ...               ...               ...               ...   \n",
              "3827              0                 0                 0                 0   \n",
              "3828              0                 0                 0                 0   \n",
              "3829              0                 0                 0                 0   \n",
              "3830              0                 0                 0                 0   \n",
              "3831              0                 0                 0                 0   \n",
              "\n",
              "      redInhibitor  redFirstDragon    redDragonType  redDragon redRiftHeralds  \\\n",
              "0                0               0              NaN          0              0   \n",
              "1                0               0              NaN          0              1   \n",
              "2                0               0              NaN          0              1   \n",
              "3                0               0              NaN          0              1   \n",
              "4                0               0              NaN          0              0   \n",
              "...            ...             ...              ...        ...            ...   \n",
              "3827             0               1  CHEMTECH_DRAGON          1              0   \n",
              "3828             0               1   HEXTECH_DRAGON          1              0   \n",
              "3829             0               0              NaN          0              0   \n",
              "3830             0               0              NaN          0              0   \n",
              "3831             0               0              NaN          0              0   \n",
              "\n",
              "      matchMin  \n",
              "0           31  \n",
              "1           24  \n",
              "2           32  \n",
              "3           24  \n",
              "4           41  \n",
              "...        ...  \n",
              "3827        22  \n",
              "3828        23  \n",
              "3829        29  \n",
              "3830        22  \n",
              "3831        26  \n",
              "\n",
              "[3832 rows x 55 columns]"
            ]
          },
          "execution_count": 15,
          "metadata": {},
          "output_type": "execute_result"
        }
      ],
      "source": [
        "gm15 = pd.read_csv(\"/Users/ichang-ug/Documents/GitHub/esports_YSAL/LOL/Data/GM15.csv\")\n",
        "gm15"
      ]
    },
    {
      "cell_type": "code",
      "execution_count": 16,
      "metadata": {},
      "outputs": [
        {
          "name": "stdout",
          "output_type": "stream",
          "text": [
            "tier, count inputs ignored.\n",
            "downloading TimelineData!\n"
          ]
        },
        {
          "name": "stderr",
          "output_type": "stream",
          "text": [
            "  3%|▎         | 100/3832 [01:03<29:49,  2.09it/s] "
          ]
        },
        {
          "name": "stdout",
          "output_type": "stream",
          "text": [
            "api cost full : infinite loop start\n",
            "loop location :  100\n",
            "try 120 second wait time\n"
          ]
        },
        {
          "name": "stderr",
          "output_type": "stream",
          "text": [
            "  3%|▎         | 101/3832 [03:05<38:12:16, 36.86s/it]"
          ]
        },
        {
          "name": "stdout",
          "output_type": "stream",
          "text": [
            "200\n",
            "total wait time :  121.51143717765808\n",
            "recovery api cost\n"
          ]
        },
        {
          "name": "stderr",
          "output_type": "stream",
          "text": [
            "  5%|▌         | 200/3832 [04:00<31:13,  1.94it/s]   "
          ]
        },
        {
          "name": "stdout",
          "output_type": "stream",
          "text": [
            "api cost full : infinite loop start\n",
            "loop location :  200\n",
            "try 120 second wait time\n"
          ]
        },
        {
          "name": "stderr",
          "output_type": "stream",
          "text": [
            "  5%|▌         | 201/3832 [06:02<37:14:14, 36.92s/it]"
          ]
        },
        {
          "name": "stdout",
          "output_type": "stream",
          "text": [
            "200\n",
            "total wait time :  121.47692894935608\n",
            "recovery api cost\n"
          ]
        },
        {
          "name": "stderr",
          "output_type": "stream",
          "text": [
            "  8%|▊         | 300/3832 [06:59<28:10,  2.09it/s]   "
          ]
        },
        {
          "name": "stdout",
          "output_type": "stream",
          "text": [
            "api cost full : infinite loop start\n",
            "loop location :  300\n",
            "try 120 second wait time\n"
          ]
        },
        {
          "name": "stderr",
          "output_type": "stream",
          "text": [
            "  8%|▊         | 301/3832 [09:01<36:09:09, 36.86s/it]"
          ]
        },
        {
          "name": "stdout",
          "output_type": "stream",
          "text": [
            "200\n",
            "total wait time :  121.52377390861511\n",
            "recovery api cost\n"
          ]
        },
        {
          "name": "stderr",
          "output_type": "stream",
          "text": [
            " 10%|█         | 400/3832 [09:57<34:06,  1.68it/s]   "
          ]
        },
        {
          "name": "stdout",
          "output_type": "stream",
          "text": [
            "api cost full : infinite loop start\n",
            "loop location :  400\n",
            "try 120 second wait time\n"
          ]
        },
        {
          "name": "stderr",
          "output_type": "stream",
          "text": [
            " 10%|█         | 401/3832 [11:59<35:12:24, 36.94s/it]"
          ]
        },
        {
          "name": "stdout",
          "output_type": "stream",
          "text": [
            "200\n",
            "total wait time :  121.48793387413025\n",
            "recovery api cost\n"
          ]
        },
        {
          "name": "stderr",
          "output_type": "stream",
          "text": [
            " 13%|█▎        | 500/3832 [12:57<29:15,  1.90it/s]   "
          ]
        },
        {
          "name": "stdout",
          "output_type": "stream",
          "text": [
            "api cost full : infinite loop start\n",
            "loop location :  500\n",
            "try 120 second wait time\n"
          ]
        },
        {
          "name": "stderr",
          "output_type": "stream",
          "text": [
            " 13%|█▎        | 501/3832 [14:58<34:07:48, 36.89s/it]"
          ]
        },
        {
          "name": "stdout",
          "output_type": "stream",
          "text": [
            "200\n",
            "total wait time :  121.48841881752014\n",
            "recovery api cost\n"
          ]
        },
        {
          "name": "stderr",
          "output_type": "stream",
          "text": [
            " 16%|█▌        | 600/3832 [16:51<35:57,  1.50it/s]   "
          ]
        },
        {
          "name": "stdout",
          "output_type": "stream",
          "text": [
            "api cost full : infinite loop start\n",
            "loop location :  600\n",
            "try 120 second wait time\n"
          ]
        },
        {
          "name": "stderr",
          "output_type": "stream",
          "text": [
            " 16%|█▌        | 601/3832 [18:53<33:12:36, 37.00s/it]"
          ]
        },
        {
          "name": "stdout",
          "output_type": "stream",
          "text": [
            "200\n",
            "total wait time :  121.53481388092041\n",
            "recovery api cost\n"
          ]
        },
        {
          "name": "stderr",
          "output_type": "stream",
          "text": [
            " 18%|█▊        | 700/3832 [20:12<6:40:45,  7.68s/it] "
          ]
        },
        {
          "name": "stdout",
          "output_type": "stream",
          "text": [
            "api cost full : infinite loop start\n",
            "loop location :  700\n",
            "try 120 second wait time\n"
          ]
        },
        {
          "name": "stderr",
          "output_type": "stream",
          "text": [
            " 18%|█▊        | 701/3832 [22:14<36:26:46, 41.91s/it]"
          ]
        },
        {
          "name": "stdout",
          "output_type": "stream",
          "text": [
            "200\n",
            "total wait time :  121.52005910873413\n",
            "recovery api cost\n"
          ]
        },
        {
          "name": "stderr",
          "output_type": "stream",
          "text": [
            " 21%|██        | 800/3832 [23:07<33:50,  1.49it/s]   "
          ]
        },
        {
          "name": "stdout",
          "output_type": "stream",
          "text": [
            "api cost full : infinite loop start\n",
            "loop location :  800\n",
            "try 120 second wait time\n"
          ]
        },
        {
          "name": "stderr",
          "output_type": "stream",
          "text": [
            " 21%|██        | 801/3832 [25:09<31:10:37, 37.03s/it]"
          ]
        },
        {
          "name": "stdout",
          "output_type": "stream",
          "text": [
            "200\n",
            "total wait time :  121.62340116500854\n",
            "recovery api cost\n"
          ]
        },
        {
          "name": "stderr",
          "output_type": "stream",
          "text": [
            " 23%|██▎       | 900/3832 [26:03<27:32,  1.77it/s]   "
          ]
        },
        {
          "name": "stdout",
          "output_type": "stream",
          "text": [
            "api cost full : infinite loop start\n",
            "loop location :  900\n",
            "try 120 second wait time\n"
          ]
        },
        {
          "name": "stderr",
          "output_type": "stream",
          "text": [
            " 24%|██▎       | 901/3832 [28:05<30:09:36, 37.04s/it]"
          ]
        },
        {
          "name": "stdout",
          "output_type": "stream",
          "text": [
            "200\n",
            "total wait time :  121.91754007339478\n",
            "recovery api cost\n"
          ]
        },
        {
          "name": "stderr",
          "output_type": "stream",
          "text": [
            " 26%|██▌       | 1000/3832 [28:58<25:15,  1.87it/s]  "
          ]
        },
        {
          "name": "stdout",
          "output_type": "stream",
          "text": [
            "api cost full : infinite loop start\n",
            "loop location :  1000\n",
            "try 120 second wait time\n"
          ]
        },
        {
          "name": "stderr",
          "output_type": "stream",
          "text": [
            " 26%|██▌       | 1001/3832 [31:00<29:00:47, 36.89s/it]"
          ]
        },
        {
          "name": "stdout",
          "output_type": "stream",
          "text": [
            "200\n",
            "total wait time :  121.48403787612915\n",
            "recovery api cost\n"
          ]
        },
        {
          "name": "stderr",
          "output_type": "stream",
          "text": [
            " 29%|██▊       | 1100/3832 [31:57<22:57,  1.98it/s]   "
          ]
        },
        {
          "name": "stdout",
          "output_type": "stream",
          "text": [
            "api cost full : infinite loop start\n",
            "loop location :  1100\n",
            "try 120 second wait time\n"
          ]
        },
        {
          "name": "stderr",
          "output_type": "stream",
          "text": [
            " 29%|██▊       | 1101/3832 [33:59<27:58:51, 36.88s/it]"
          ]
        },
        {
          "name": "stdout",
          "output_type": "stream",
          "text": [
            "200\n",
            "total wait time :  121.50054693222046\n",
            "recovery api cost\n"
          ]
        },
        {
          "name": "stderr",
          "output_type": "stream",
          "text": [
            " 31%|███▏      | 1200/3832 [34:53<27:13,  1.61it/s]   "
          ]
        },
        {
          "name": "stdout",
          "output_type": "stream",
          "text": [
            "api cost full : infinite loop start\n",
            "loop location :  1200\n",
            "try 120 second wait time\n"
          ]
        },
        {
          "name": "stderr",
          "output_type": "stream",
          "text": [
            " 31%|███▏      | 1201/3832 [36:55<27:01:49, 36.99s/it]"
          ]
        },
        {
          "name": "stdout",
          "output_type": "stream",
          "text": [
            "200\n",
            "total wait time :  121.55362677574158\n",
            "recovery api cost\n"
          ]
        },
        {
          "name": "stderr",
          "output_type": "stream",
          "text": [
            " 34%|███▍      | 1300/3832 [37:49<20:13,  2.09it/s]   "
          ]
        },
        {
          "name": "stdout",
          "output_type": "stream",
          "text": [
            "api cost full : infinite loop start\n",
            "loop location :  1300\n",
            "try 120 second wait time\n"
          ]
        },
        {
          "name": "stderr",
          "output_type": "stream",
          "text": [
            " 34%|███▍      | 1301/3832 [39:51<25:58:22, 36.94s/it]"
          ]
        },
        {
          "name": "stdout",
          "output_type": "stream",
          "text": [
            "200\n",
            "total wait time :  121.58952713012695\n",
            "recovery api cost\n"
          ]
        },
        {
          "name": "stderr",
          "output_type": "stream",
          "text": [
            " 37%|███▋      | 1400/3832 [40:47<21:20,  1.90it/s]   "
          ]
        },
        {
          "name": "stdout",
          "output_type": "stream",
          "text": [
            "api cost full : infinite loop start\n",
            "loop location :  1400\n",
            "try 120 second wait time\n"
          ]
        },
        {
          "name": "stderr",
          "output_type": "stream",
          "text": [
            " 37%|███▋      | 1401/3832 [42:49<24:55:29, 36.91s/it]"
          ]
        },
        {
          "name": "stdout",
          "output_type": "stream",
          "text": [
            "200\n",
            "total wait time :  121.56499028205872\n",
            "recovery api cost\n"
          ]
        },
        {
          "name": "stderr",
          "output_type": "stream",
          "text": [
            " 39%|███▉      | 1500/3832 [43:45<19:17,  2.01it/s]   "
          ]
        },
        {
          "name": "stdout",
          "output_type": "stream",
          "text": [
            "api cost full : infinite loop start\n",
            "loop location :  1500\n",
            "try 120 second wait time\n"
          ]
        },
        {
          "name": "stderr",
          "output_type": "stream",
          "text": [
            " 39%|███▉      | 1501/3832 [45:47<23:51:43, 36.85s/it]"
          ]
        },
        {
          "name": "stdout",
          "output_type": "stream",
          "text": [
            "200\n",
            "total wait time :  121.44240403175354\n",
            "recovery api cost\n"
          ]
        },
        {
          "name": "stderr",
          "output_type": "stream",
          "text": [
            " 42%|████▏     | 1600/3832 [46:46<19:16,  1.93it/s]   "
          ]
        },
        {
          "name": "stdout",
          "output_type": "stream",
          "text": [
            "api cost full : infinite loop start\n",
            "loop location :  1600\n",
            "try 120 second wait time\n"
          ]
        },
        {
          "name": "stderr",
          "output_type": "stream",
          "text": [
            " 42%|████▏     | 1601/3832 [48:48<22:52:15, 36.91s/it]"
          ]
        },
        {
          "name": "stdout",
          "output_type": "stream",
          "text": [
            "200\n",
            "total wait time :  121.54668593406677\n",
            "recovery api cost\n"
          ]
        },
        {
          "name": "stderr",
          "output_type": "stream",
          "text": [
            " 44%|████▍     | 1700/3832 [49:41<18:21,  1.93it/s]   "
          ]
        },
        {
          "name": "stdout",
          "output_type": "stream",
          "text": [
            "api cost full : infinite loop start\n",
            "loop location :  1700\n",
            "try 120 second wait time\n"
          ]
        },
        {
          "name": "stderr",
          "output_type": "stream",
          "text": [
            " 44%|████▍     | 1701/3832 [51:43<21:52:34, 36.96s/it]"
          ]
        },
        {
          "name": "stdout",
          "output_type": "stream",
          "text": [
            "200\n",
            "total wait time :  121.75450396537781\n",
            "recovery api cost\n"
          ]
        },
        {
          "name": "stderr",
          "output_type": "stream",
          "text": [
            " 47%|████▋     | 1800/3832 [52:40<16:23,  2.07it/s]   "
          ]
        },
        {
          "name": "stdout",
          "output_type": "stream",
          "text": [
            "api cost full : infinite loop start\n",
            "loop location :  1800\n",
            "try 120 second wait time\n"
          ]
        },
        {
          "name": "stderr",
          "output_type": "stream",
          "text": [
            " 47%|████▋     | 1801/3832 [54:41<20:48:26, 36.88s/it]"
          ]
        },
        {
          "name": "stdout",
          "output_type": "stream",
          "text": [
            "200\n",
            "total wait time :  121.53686618804932\n",
            "recovery api cost\n"
          ]
        },
        {
          "name": "stderr",
          "output_type": "stream",
          "text": [
            " 50%|████▉     | 1900/3832 [55:40<15:14,  2.11it/s]   "
          ]
        },
        {
          "name": "stdout",
          "output_type": "stream",
          "text": [
            "api cost full : infinite loop start\n",
            "loop location :  1900\n",
            "try 120 second wait time\n"
          ]
        },
        {
          "name": "stderr",
          "output_type": "stream",
          "text": [
            " 50%|████▉     | 1901/3832 [57:41<19:46:52, 36.88s/it]"
          ]
        },
        {
          "name": "stdout",
          "output_type": "stream",
          "text": [
            "200\n",
            "total wait time :  121.5031430721283\n",
            "recovery api cost\n"
          ]
        },
        {
          "name": "stderr",
          "output_type": "stream",
          "text": [
            " 52%|█████▏    | 2000/3832 [58:37<16:05,  1.90it/s]   "
          ]
        },
        {
          "name": "stdout",
          "output_type": "stream",
          "text": [
            "api cost full : infinite loop start\n",
            "loop location :  2000\n",
            "try 120 second wait time\n"
          ]
        },
        {
          "name": "stderr",
          "output_type": "stream",
          "text": [
            " 52%|█████▏    | 2001/3832 [1:00:39<18:46:56, 36.93s/it]"
          ]
        },
        {
          "name": "stdout",
          "output_type": "stream",
          "text": [
            "200\n",
            "total wait time :  121.58369207382202\n",
            "recovery api cost\n"
          ]
        },
        {
          "name": "stderr",
          "output_type": "stream",
          "text": [
            " 55%|█████▍    | 2100/3832 [1:01:31<15:21,  1.88it/s]   "
          ]
        },
        {
          "name": "stdout",
          "output_type": "stream",
          "text": [
            "api cost full : infinite loop start\n",
            "loop location :  2100\n",
            "try 120 second wait time\n"
          ]
        },
        {
          "name": "stderr",
          "output_type": "stream",
          "text": [
            " 55%|█████▍    | 2101/3832 [1:03:34<17:49:16, 37.06s/it]"
          ]
        },
        {
          "name": "stdout",
          "output_type": "stream",
          "text": [
            "200\n",
            "total wait time :  122.02677297592163\n",
            "recovery api cost\n"
          ]
        },
        {
          "name": "stderr",
          "output_type": "stream",
          "text": [
            " 57%|█████▋    | 2200/3832 [1:04:34<15:40,  1.74it/s]   "
          ]
        },
        {
          "name": "stdout",
          "output_type": "stream",
          "text": [
            "api cost full : infinite loop start\n",
            "loop location :  2200\n",
            "try 120 second wait time\n"
          ]
        },
        {
          "name": "stderr",
          "output_type": "stream",
          "text": [
            " 57%|█████▋    | 2201/3832 [1:06:36<16:45:04, 36.97s/it]"
          ]
        },
        {
          "name": "stdout",
          "output_type": "stream",
          "text": [
            "200\n",
            "total wait time :  121.51885271072388\n",
            "recovery api cost\n"
          ]
        },
        {
          "name": "stderr",
          "output_type": "stream",
          "text": [
            " 60%|██████    | 2300/3832 [1:07:30<13:31,  1.89it/s]   "
          ]
        },
        {
          "name": "stdout",
          "output_type": "stream",
          "text": [
            "api cost full : infinite loop start\n",
            "loop location :  2300\n",
            "try 120 second wait time\n"
          ]
        },
        {
          "name": "stderr",
          "output_type": "stream",
          "text": [
            " 60%|██████    | 2301/3832 [1:09:32<15:41:57, 36.92s/it]"
          ]
        },
        {
          "name": "stdout",
          "output_type": "stream",
          "text": [
            "200\n",
            "total wait time :  121.55099177360535\n",
            "recovery api cost\n"
          ]
        },
        {
          "name": "stderr",
          "output_type": "stream",
          "text": [
            " 63%|██████▎   | 2400/3832 [1:10:31<12:53,  1.85it/s]   "
          ]
        },
        {
          "name": "stdout",
          "output_type": "stream",
          "text": [
            "api cost full : infinite loop start\n",
            "loop location :  2400\n",
            "try 120 second wait time\n"
          ]
        },
        {
          "name": "stderr",
          "output_type": "stream",
          "text": [
            " 63%|██████▎   | 2401/3832 [1:12:32<14:40:44, 36.93s/it]"
          ]
        },
        {
          "name": "stdout",
          "output_type": "stream",
          "text": [
            "200\n",
            "total wait time :  121.58832907676697\n",
            "recovery api cost\n"
          ]
        },
        {
          "name": "stderr",
          "output_type": "stream",
          "text": [
            " 65%|██████▌   | 2500/3832 [1:13:26<11:49,  1.88it/s]   "
          ]
        },
        {
          "name": "stdout",
          "output_type": "stream",
          "text": [
            "api cost full : infinite loop start\n",
            "loop location :  2500\n",
            "try 120 second wait time\n"
          ]
        },
        {
          "name": "stderr",
          "output_type": "stream",
          "text": [
            " 65%|██████▌   | 2501/3832 [1:15:28<13:40:56, 37.01s/it]"
          ]
        },
        {
          "name": "stdout",
          "output_type": "stream",
          "text": [
            "200\n",
            "total wait time :  121.83528804779053\n",
            "recovery api cost\n"
          ]
        },
        {
          "name": "stderr",
          "output_type": "stream",
          "text": [
            " 68%|██████▊   | 2600/3832 [1:16:28<11:10,  1.84it/s]   "
          ]
        },
        {
          "name": "stdout",
          "output_type": "stream",
          "text": [
            "api cost full : infinite loop start\n",
            "loop location :  2600\n",
            "try 120 second wait time\n"
          ]
        },
        {
          "name": "stderr",
          "output_type": "stream",
          "text": [
            " 68%|██████▊   | 2601/3832 [1:18:30<12:36:55, 36.89s/it]"
          ]
        },
        {
          "name": "stdout",
          "output_type": "stream",
          "text": [
            "200\n",
            "total wait time :  121.46264815330505\n",
            "recovery api cost\n"
          ]
        },
        {
          "name": "stderr",
          "output_type": "stream",
          "text": [
            " 70%|███████   | 2700/3832 [1:19:22<10:12,  1.85it/s]   "
          ]
        },
        {
          "name": "stdout",
          "output_type": "stream",
          "text": [
            "api cost full : infinite loop start\n",
            "loop location :  2700\n",
            "try 120 second wait time\n"
          ]
        },
        {
          "name": "stderr",
          "output_type": "stream",
          "text": [
            " 70%|███████   | 2701/3832 [1:21:24<11:36:21, 36.94s/it]"
          ]
        },
        {
          "name": "stdout",
          "output_type": "stream",
          "text": [
            "200\n",
            "total wait time :  121.6249520778656\n",
            "recovery api cost\n"
          ]
        },
        {
          "name": "stderr",
          "output_type": "stream",
          "text": [
            " 73%|███████▎  | 2800/3832 [1:22:19<09:34,  1.79it/s]   "
          ]
        },
        {
          "name": "stdout",
          "output_type": "stream",
          "text": [
            "api cost full : infinite loop start\n",
            "loop location :  2800\n",
            "try 120 second wait time\n"
          ]
        },
        {
          "name": "stderr",
          "output_type": "stream",
          "text": [
            " 73%|███████▎  | 2801/3832 [1:24:21<10:34:56, 36.95s/it]"
          ]
        },
        {
          "name": "stdout",
          "output_type": "stream",
          "text": [
            "200\n",
            "total wait time :  121.63117098808289\n",
            "recovery api cost\n"
          ]
        },
        {
          "name": "stderr",
          "output_type": "stream",
          "text": [
            " 76%|███████▌  | 2900/3832 [1:25:18<07:50,  1.98it/s]   "
          ]
        },
        {
          "name": "stdout",
          "output_type": "stream",
          "text": [
            "api cost full : infinite loop start\n",
            "loop location :  2900\n",
            "try 120 second wait time\n"
          ]
        },
        {
          "name": "stderr",
          "output_type": "stream",
          "text": [
            " 76%|███████▌  | 2901/3832 [1:27:20<9:32:43, 36.91s/it]"
          ]
        },
        {
          "name": "stdout",
          "output_type": "stream",
          "text": [
            "200\n",
            "total wait time :  121.49531078338623\n",
            "recovery api cost\n"
          ]
        },
        {
          "name": "stderr",
          "output_type": "stream",
          "text": [
            " 78%|███████▊  | 3000/3832 [1:28:15<07:02,  1.97it/s]  "
          ]
        },
        {
          "name": "stdout",
          "output_type": "stream",
          "text": [
            "api cost full : infinite loop start\n",
            "loop location :  3000\n",
            "try 120 second wait time\n"
          ]
        },
        {
          "name": "stderr",
          "output_type": "stream",
          "text": [
            " 78%|███████▊  | 3001/3832 [1:30:17<8:31:09, 36.91s/it]"
          ]
        },
        {
          "name": "stdout",
          "output_type": "stream",
          "text": [
            "200\n",
            "total wait time :  121.57749223709106\n",
            "recovery api cost\n"
          ]
        },
        {
          "name": "stderr",
          "output_type": "stream",
          "text": [
            " 81%|████████  | 3100/3832 [1:31:22<09:56,  1.23it/s]  "
          ]
        },
        {
          "name": "stdout",
          "output_type": "stream",
          "text": [
            "api cost full : infinite loop start\n",
            "loop location :  3100\n",
            "try 120 second wait time\n"
          ]
        },
        {
          "name": "stderr",
          "output_type": "stream",
          "text": [
            " 81%|████████  | 3101/3832 [1:33:24<7:31:49, 37.09s/it]"
          ]
        },
        {
          "name": "stdout",
          "output_type": "stream",
          "text": [
            "200\n",
            "total wait time :  121.50170803070068\n",
            "recovery api cost\n"
          ]
        },
        {
          "name": "stderr",
          "output_type": "stream",
          "text": [
            " 84%|████████▎ | 3200/3832 [1:34:17<05:19,  1.98it/s]  "
          ]
        },
        {
          "name": "stdout",
          "output_type": "stream",
          "text": [
            "api cost full : infinite loop start\n",
            "loop location :  3200\n",
            "try 120 second wait time\n"
          ]
        },
        {
          "name": "stderr",
          "output_type": "stream",
          "text": [
            " 84%|████████▎ | 3201/3832 [1:36:18<6:28:05, 36.90s/it]"
          ]
        },
        {
          "name": "stdout",
          "output_type": "stream",
          "text": [
            "200\n",
            "total wait time :  121.56579303741455\n",
            "recovery api cost\n"
          ]
        },
        {
          "name": "stderr",
          "output_type": "stream",
          "text": [
            " 86%|████████▌ | 3300/3832 [1:37:13<05:29,  1.61it/s]  "
          ]
        },
        {
          "name": "stdout",
          "output_type": "stream",
          "text": [
            "api cost full : infinite loop start\n",
            "loop location :  3300\n",
            "try 120 second wait time\n"
          ]
        },
        {
          "name": "stderr",
          "output_type": "stream",
          "text": [
            " 86%|████████▌ | 3301/3832 [1:39:15<5:27:15, 36.98s/it]"
          ]
        },
        {
          "name": "stdout",
          "output_type": "stream",
          "text": [
            "200\n",
            "total wait time :  121.57279396057129\n",
            "recovery api cost\n"
          ]
        },
        {
          "name": "stderr",
          "output_type": "stream",
          "text": [
            " 89%|████████▊ | 3400/3832 [1:40:14<03:40,  1.96it/s]  "
          ]
        },
        {
          "name": "stdout",
          "output_type": "stream",
          "text": [
            "api cost full : infinite loop start\n",
            "loop location :  3400\n",
            "try 120 second wait time\n"
          ]
        },
        {
          "name": "stderr",
          "output_type": "stream",
          "text": [
            " 89%|████████▉ | 3401/3832 [1:42:16<4:25:14, 36.92s/it]"
          ]
        },
        {
          "name": "stdout",
          "output_type": "stream",
          "text": [
            "200\n",
            "total wait time :  121.62398886680603\n",
            "recovery api cost\n"
          ]
        },
        {
          "name": "stderr",
          "output_type": "stream",
          "text": [
            " 91%|█████████▏| 3500/3832 [1:43:11<03:18,  1.67it/s]  "
          ]
        },
        {
          "name": "stdout",
          "output_type": "stream",
          "text": [
            "api cost full : infinite loop start\n",
            "loop location :  3500\n",
            "try 120 second wait time\n"
          ]
        },
        {
          "name": "stderr",
          "output_type": "stream",
          "text": [
            " 91%|█████████▏| 3501/3832 [1:45:13<3:24:02, 36.99s/it]"
          ]
        },
        {
          "name": "stdout",
          "output_type": "stream",
          "text": [
            "200\n",
            "total wait time :  121.62497735023499\n",
            "recovery api cost\n"
          ]
        },
        {
          "name": "stderr",
          "output_type": "stream",
          "text": [
            " 94%|█████████▍| 3600/3832 [1:46:09<02:42,  1.43it/s]  "
          ]
        },
        {
          "name": "stdout",
          "output_type": "stream",
          "text": [
            "api cost full : infinite loop start\n",
            "loop location :  3600\n",
            "try 120 second wait time\n"
          ]
        },
        {
          "name": "stderr",
          "output_type": "stream",
          "text": [
            " 94%|█████████▍| 3601/3832 [1:48:11<2:22:38, 37.05s/it]"
          ]
        },
        {
          "name": "stdout",
          "output_type": "stream",
          "text": [
            "200\n",
            "total wait time :  121.61693692207336\n",
            "recovery api cost\n"
          ]
        },
        {
          "name": "stderr",
          "output_type": "stream",
          "text": [
            " 97%|█████████▋| 3700/3832 [1:49:05<01:13,  1.79it/s]  "
          ]
        },
        {
          "name": "stdout",
          "output_type": "stream",
          "text": [
            "api cost full : infinite loop start\n",
            "loop location :  3700\n",
            "try 120 second wait time\n"
          ]
        },
        {
          "name": "stderr",
          "output_type": "stream",
          "text": [
            " 97%|█████████▋| 3701/3832 [1:51:07<1:20:40, 36.95s/it]"
          ]
        },
        {
          "name": "stdout",
          "output_type": "stream",
          "text": [
            "200\n",
            "total wait time :  121.59991598129272\n",
            "recovery api cost\n"
          ]
        },
        {
          "name": "stderr",
          "output_type": "stream",
          "text": [
            " 99%|█████████▉| 3800/3832 [1:52:07<00:27,  1.16it/s]  "
          ]
        },
        {
          "name": "stdout",
          "output_type": "stream",
          "text": [
            "api cost full : infinite loop start\n",
            "loop location :  3800\n",
            "try 120 second wait time\n"
          ]
        },
        {
          "name": "stderr",
          "output_type": "stream",
          "text": [
            " 99%|█████████▉| 3801/3832 [1:54:09<19:10, 37.13s/it]"
          ]
        },
        {
          "name": "stdout",
          "output_type": "stream",
          "text": [
            "200\n",
            "total wait time :  121.50240898132324\n",
            "recovery api cost\n"
          ]
        },
        {
          "name": "stderr",
          "output_type": "stream",
          "text": [
            "100%|██████████| 3832/3832 [1:54:26<00:00,  1.79s/it]"
          ]
        },
        {
          "name": "stdout",
          "output_type": "stream",
          "text": [
            "TimelineData downloaded!\n"
          ]
        },
        {
          "name": "stderr",
          "output_type": "stream",
          "text": [
            "\n"
          ]
        }
      ],
      "source": [
        "df = getLoLData2.getTimelineData(api_key, 7,15, count=10, match_input=True, matchId=gm15[\"gameId\"])\n",
        "df.to_csv(\"/Users/ichang-ug/Documents/GitHub/esports_YSAL/LOL/Data//GM15.csv\")"
      ]
    },
    {
      "cell_type": "code",
      "execution_count": null,
      "metadata": {},
      "outputs": [],
      "source": []
    }
  ],
  "metadata": {
    "colab": {
      "provenance": []
    },
    "kernelspec": {
      "display_name": "Python 3",
      "name": "python3"
    },
    "language_info": {
      "codemirror_mode": {
        "name": "ipython",
        "version": 3
      },
      "file_extension": ".py",
      "mimetype": "text/x-python",
      "name": "python",
      "nbconvert_exporter": "python",
      "pygments_lexer": "ipython3",
      "version": "3.10.10"
    }
  },
  "nbformat": 4,
  "nbformat_minor": 0
}
