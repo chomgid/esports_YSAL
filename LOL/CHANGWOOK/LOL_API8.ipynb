{
  "cells": [
    {
      "cell_type": "code",
      "execution_count": 4,
      "metadata": {
        "id": "PbNI67ASzatd"
      },
      "outputs": [],
      "source": [
        "import requests\n",
        "import json\n",
        "import time\n",
        "import pandas as pd\n",
        "from tqdm import tqdm\n",
        "import numpy as np\n",
        "\n",
        "api_key = \"RGAPI-6d579b65-97fe-4a2f-949a-f3cdd3fcda29\""
      ]
    },
    {
      "cell_type": "code",
      "execution_count": 5,
      "metadata": {},
      "outputs": [],
      "source": [
        "url=\"https://kr.api.riotgames.com/lol/league/v4/entries/RANKED_SOLO_5x5/DIAMOND/III?page=1&api_key=\" + api_key"
      ]
    },
    {
      "cell_type": "code",
      "execution_count": 6,
      "metadata": {},
      "outputs": [
        {
          "name": "stdout",
          "output_type": "stream",
          "text": [
            "건학이\n",
            "llIIIllIlllIlIl\n",
            "SideCharacter\n",
            "원챔충혐오자\n",
            "BTOB 그리워하다\n",
            "나나나눈누\n",
            "마루는갱쥐\n",
            "문자지민\n",
            "리아쥬아\n",
            "vvnvvnvnvn\n",
            "틀니벤틀리\n",
            "W1NGMAN\n",
            "누나 제발\n",
            "프로응애러\n",
            "멍멍왈왈멍멍멍왈\n",
            "박흐이수\n",
            "숟가락 정점\n",
            "닉값제데로함\n",
            "쌍쌍쌍\n",
            "NG 1\n",
            "나는말랑말랑해\n",
            "김홍순3\n",
            "눈 예뻐지고 시포\n",
            "PIXELNU\n",
            "누수액\n",
            "KOR961010\n",
            "탱커챔\n",
            "맞기전에 때려요\n",
            "히 썸\n",
            "응 아잇 어 12번\n",
            "진짜 못참겠는데\n",
            "하이 눈 김주호\n",
            "천국에서 온 자\n",
            "Mannim2\n",
            "비정상적인 팀운\n",
            "싸발연이\n",
            "Smile runway\n",
            "야옹야옹송아지\n",
            "상어 코 때리기\n",
            "나는할수있습니다\n",
            "생 혼\n",
            "뚜 딴\n",
            "쥐종대왕\n",
            "이응빡\n",
            "38지주\n",
            "always 15ff\n",
            "KDF JG\n",
            "23년생원딜러\n",
            "tlswlemwkddls\n",
            "zl존Er락DARK왕\n",
            "Karsc\n",
            "bixin32567904\n",
            "지혈제\n",
            "Round One\n",
            "그 총\n",
            "Vex or Alise\n",
            "말걸지마라잡종\n",
            "5코3성람머스\n",
            "맛따봉\n",
            "jiumeng\n",
            "Park Shin Won\n",
            "FA Silky\n",
            "마스터이금비\n",
            "채원이귀엽지\n",
            "샨테비스탄\n",
            "TES99\n",
            "암살자가요\n",
            "재능의 개화\n",
            "뚱녀만골라팬다\n",
            "잘했써\n",
            "이렇게까지해야하\n",
            "KR Monster Rat\n",
            "솔랭에정뗌\n",
            "체리콕도둑\n",
            "저어어엉글러\n",
            "kr7\n",
            "허쉬초코토네이도\n",
            "꼬시기만지는유현\n",
            "낮잠zz\n",
            "먹던콩\n",
            "ADO Fans\n",
            "탑라인만가는사람\n",
            "Muteall asher\n",
            "아이스악어청포도\n",
            "와두콩\n",
            "돌진완\n",
            "Rebirth Cookie\n",
            "겨울을 기다려요\n",
            "톡톡씹히는오렌지\n",
            "Dramaturgy\n",
            "이동혓\n",
            "귤 킹\n",
            "겨울엔 찬물\n",
            "무호흡 웨이트\n",
            "껸과류\n",
            "렁 언\n",
            "자지잡놈\n",
            "Barret M82A1\n",
            "스벅아아얼음도둑\n",
            "이천시민\n",
            "화약통 대신 딱콩\n",
            "갱 그만와주세요\n",
            "붕슨같은게임안해\n",
            "별 수호자 장민혁\n",
            "이즈잡아주세요\n",
            "지금싸우면니가져\n",
            "커리맛 똥\n",
            "빡치면 너도하셈\n",
            "IGOLNIK\n",
            "하오골\n",
            "그님 티 모요\n",
            "숯불돼지고기\n",
            "성민치\n",
            "최 효 팔\n",
            "약속된승리의검\n",
            "처음초롱\n",
            "By사탕막대\n",
            "봉담쭈니\n",
            "꿀벌희지닝\n",
            "윤태준2번째계정\n",
            "걍 죽어라\n",
            "천하의 정글러\n",
            "옥시꽃\n",
            "포챠나 인형\n",
            "나답게\n",
            "심점숙\n",
            "와드충전핑와사기\n",
            "무관귀1신\n",
            "평화공원\n",
            "자크 베놈\n",
            "구데기킬러\n",
            "도토리비빔막국수\n",
            "갱플하는 양상국\n",
            "해 명\n",
            "비응신도구\n",
            "전지적르블랑시점\n",
            "낭만없는\n",
            "이대론안돼\n",
            "벌 헤는 밤\n",
            "눈떠보니여기였음\n",
            "Gwidoo\n",
            "각화초5학년2반\n",
            "인천동양동불주먹\n",
            "아비에무아\n",
            "신선해팔팔해\n",
            "딩딩고\n",
            "anycoloryoulike\n",
            "붉은 너구리\n",
            "원딜벽느낀사람\n",
            "상남자 권혁\n",
            "이화시장두번째집\n",
            "차광선글라스\n",
            "폐관수련다시시작\n",
            "오홍영입니다\n",
            "평행세계 데프트\n",
            "립 스\n",
            "LMH99\n",
            "표범 너무 귀여워\n",
            "만 섬\n",
            "아들러 심리학자\n",
            "리신머가리\n",
            "엠 돌\n",
            "104080\n",
            "갈비굽는장인\n",
            "박승호\n",
            "맥심모델흑정몬\n",
            "노갱이면머리박음\n",
            "Solace\n",
            "밥음복\n",
            "긍정희망사랑평화\n",
            "채팅게임 롤\n",
            "우 먼\n",
            "나쁜하루보내세요\n",
            "혼자자요\n",
            "조 쯩\n",
            "신형만fan\n",
            "ShoriRama\n",
            "영정이라니\n",
            "2007 10 12\n",
            "참을라\n",
            "캣뽀즈\n",
            "Valh4lla\n",
            "죽지못해살다\n",
            "곽두팔남친\n",
            "아이러브유\n",
            "어리둥절엉망진창\n",
            "07 JGKlNG\n",
            "플레티넘 망나니\n",
            "안가싫어부르지마\n",
            "골통분쇄자류성현\n",
            "아프지 않고 싶다\n",
            "퀴여운코콤미\n",
            "노유미 노브라움\n",
            "zsxcasdasd\n",
            "쏘주좋아요\n",
            "HanDy\n",
            "고무통523개\n",
            "나 진짜 개못하네\n",
            "키슨데왜벗어\n",
            "꼬 차\n",
            "미미링\n",
            "nnIu\n",
            "지욤이는 못말려\n",
            "황금빛 버터쿠키\n",
            "black sheep wall\n"
          ]
        }
      ],
      "source": [
        "r = requests.get(url)\n",
        "r = r.json()\n",
        "for i in r:\n",
        "    print(i['summonerName'])"
      ]
    },
    {
      "cell_type": "code",
      "execution_count": 7,
      "metadata": {},
      "outputs": [],
      "source": [
        "import getLoLData2"
      ]
    },
    {
      "cell_type": "code",
      "execution_count": 12,
      "metadata": {},
      "outputs": [
        {
          "data": {
            "text/plain": [
              "0      KR_6443448479\n",
              "1      KR_6444379569\n",
              "2      KR_6434226102\n",
              "3      KR_6387406324\n",
              "4      KR_6436337808\n",
              "           ...      \n",
              "199    KR_6423195686\n",
              "200    KR_6377090521\n",
              "201    KR_6446673972\n",
              "202    KR_6445227069\n",
              "203    KR_6445795082\n",
              "Name: gameId, Length: 204, dtype: object"
            ]
          },
          "execution_count": 12,
          "metadata": {},
          "output_type": "execute_result"
        }
      ],
      "source": [
        "si15 = pd.read_csv(\"/Users/ichang-ug/Documents/GitHub/esports_YSAL/LOL/Data/SI15.csv\")\n",
        "si15[\"gameId\"]"
      ]
    },
    {
      "cell_type": "code",
      "execution_count": 13,
      "metadata": {},
      "outputs": [
        {
          "name": "stdout",
          "output_type": "stream",
          "text": [
            "tier, count inputs ignored.\n",
            "downloading TimelineData!\n"
          ]
        },
        {
          "name": "stderr",
          "output_type": "stream",
          "text": [
            "100%|██████████| 204/204 [04:48<00:00,  1.41s/it]"
          ]
        },
        {
          "name": "stdout",
          "output_type": "stream",
          "text": [
            "TimelineData downloaded!\n"
          ]
        },
        {
          "name": "stderr",
          "output_type": "stream",
          "text": [
            "\n"
          ]
        }
      ],
      "source": [
        "df = getLoLData2.getTimelineData(api_key, 4,10, match_input=True, matchId=si15[\"gameId\"])\n",
        "df.to_csv(\"/Users/ichang-ug/Documents/GitHub/esports_YSAL/LOL/Data/SI15.csv\")"
      ]
    },
    {
      "cell_type": "code",
      "execution_count": null,
      "metadata": {},
      "outputs": [],
      "source": []
    }
  ],
  "metadata": {
    "colab": {
      "provenance": []
    },
    "kernelspec": {
      "display_name": "Python 3",
      "name": "python3"
    },
    "language_info": {
      "codemirror_mode": {
        "name": "ipython",
        "version": 3
      },
      "file_extension": ".py",
      "mimetype": "text/x-python",
      "name": "python",
      "nbconvert_exporter": "python",
      "pygments_lexer": "ipython3",
      "version": "3.10.10"
    }
  },
  "nbformat": 4,
  "nbformat_minor": 0
}
