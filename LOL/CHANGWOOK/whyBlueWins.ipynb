{
  "cells": [
    {
      "cell_type": "code",
      "execution_count": 1,
      "metadata": {
        "id": "timWz8ryRxCs"
      },
      "outputs": [],
      "source": [
        "import pandas as pd\n",
        "import numpy as np\n",
        "from sklearn.model_selection import train_test_split\n",
        "from sklearn.metrics import accuracy_score\n",
        "from sklearn.model_selection import train_test_split\n",
        "from sklearn.metrics import mean_squared_error\n",
        "from sklearn.metrics import f1_score\n",
        "import matplotlib.pyplot as plt\n",
        "import joblib\n",
        "\n",
        "%matplotlib inline"
      ]
    },
    {
      "cell_type": "markdown",
      "metadata": {
        "id": "m1cl73Q4oWJ0"
      },
      "source": [
        "# 데이터 전처리"
      ]
    },
    {
      "cell_type": "code",
      "execution_count": 2,
      "metadata": {
        "colab": {
          "base_uri": "https://localhost:8080/",
          "height": 487
        },
        "id": "1XDVby5Wyaif",
        "outputId": "ab55038f-1c3e-46a0-b355-060328cbac4a"
      },
      "outputs": [],
      "source": [
        "cl15 = pd.read_csv(\"/Users/ichang-ug/Documents/GitHub/esports_YSAL/LOL/Data/CL15_fix.csv\")\n",
        "cl10 = pd.read_csv(\"/Users/ichang-ug/Documents/GitHub/esports_YSAL/LOL/Data/CL10_fix.csv\")\n",
        "gm15 = pd.read_csv(\"/Users/ichang-ug/Documents/GitHub/esports_YSAL/LOL/Data/GM15_fix.csv\")\n",
        "gm10 = pd.read_csv(\"/Users/ichang-ug/Documents/GitHub/esports_YSAL/LOL/Data/GM10_fix.csv\")\n"
      ]
    },
    {
      "cell_type": "code",
      "execution_count": 4,
      "metadata": {},
      "outputs": [
        {
          "name": "stdout",
          "output_type": "stream",
          "text": [
            "0.45627876397107164\n",
            "0.45627876397107164\n",
            "0.4718162839248434\n",
            "0.47190426638917793\n"
          ]
        }
      ],
      "source": [
        "print(np.sum(cl15[\"blueWins\"])/len(cl15))\n",
        "print(np.sum(cl10[\"blueWins\"])/len(cl10))\n",
        "print(np.sum(gm15[\"blueWins\"])/len(gm15))\n",
        "print(np.sum(gm10[\"blueWins\"])/len(gm10))"
      ]
    },
    {
      "cell_type": "code",
      "execution_count": 8,
      "metadata": {},
      "outputs": [],
      "source": [
        "new_cl15 = pd.DataFrame()"
      ]
    },
    {
      "cell_type": "code",
      "execution_count": 9,
      "metadata": {},
      "outputs": [],
      "source": [
        "new_cl15 = pd.concat([cl15[cl15[\"blueWins\"]==0].sample(frac=0.84), cl15[cl15[\"blueWins\"]==1]])"
      ]
    },
    {
      "cell_type": "code",
      "execution_count": 10,
      "metadata": {},
      "outputs": [
        {
          "data": {
            "text/html": [
              "<div>\n",
              "<style scoped>\n",
              "    .dataframe tbody tr th:only-of-type {\n",
              "        vertical-align: middle;\n",
              "    }\n",
              "\n",
              "    .dataframe tbody tr th {\n",
              "        vertical-align: top;\n",
              "    }\n",
              "\n",
              "    .dataframe thead th {\n",
              "        text-align: right;\n",
              "    }\n",
              "</style>\n",
              "<table border=\"1\" class=\"dataframe\">\n",
              "  <thead>\n",
              "    <tr style=\"text-align: right;\">\n",
              "      <th></th>\n",
              "      <th>blueWins</th>\n",
              "      <th>blueTotalGolds</th>\n",
              "      <th>blueTotalLevel</th>\n",
              "      <th>blueTotalMinionKills</th>\n",
              "      <th>blueTotalJungleMinionKills</th>\n",
              "      <th>blueTotalDamageToChampion</th>\n",
              "      <th>blueFirstBlood</th>\n",
              "      <th>blueKill</th>\n",
              "      <th>blueDeath</th>\n",
              "      <th>blueAssist</th>\n",
              "      <th>...</th>\n",
              "      <th>blueAIR_DRAGON</th>\n",
              "      <th>blueEARTH_DRAGON</th>\n",
              "      <th>blueCHEMTECH_DRAGON</th>\n",
              "      <th>blueHEXTECH_DRAGON</th>\n",
              "      <th>redWATER_DRAGON</th>\n",
              "      <th>redFIRE_DRAGON</th>\n",
              "      <th>redAIR_DRAGON</th>\n",
              "      <th>redEARTH_DRAGON</th>\n",
              "      <th>redCHEMTECH_DRAGON</th>\n",
              "      <th>redHEXTECH_DRAGON</th>\n",
              "    </tr>\n",
              "  </thead>\n",
              "  <tbody>\n",
              "    <tr>\n",
              "      <th>1264</th>\n",
              "      <td>0</td>\n",
              "      <td>25312</td>\n",
              "      <td>45</td>\n",
              "      <td>389</td>\n",
              "      <td>60</td>\n",
              "      <td>25765</td>\n",
              "      <td>1</td>\n",
              "      <td>9</td>\n",
              "      <td>13</td>\n",
              "      <td>7</td>\n",
              "      <td>...</td>\n",
              "      <td>0</td>\n",
              "      <td>0</td>\n",
              "      <td>0</td>\n",
              "      <td>0</td>\n",
              "      <td>0</td>\n",
              "      <td>1</td>\n",
              "      <td>0</td>\n",
              "      <td>0</td>\n",
              "      <td>0</td>\n",
              "      <td>0</td>\n",
              "    </tr>\n",
              "    <tr>\n",
              "      <th>480</th>\n",
              "      <td>0</td>\n",
              "      <td>28215</td>\n",
              "      <td>43</td>\n",
              "      <td>354</td>\n",
              "      <td>72</td>\n",
              "      <td>28554</td>\n",
              "      <td>1</td>\n",
              "      <td>15</td>\n",
              "      <td>12</td>\n",
              "      <td>20</td>\n",
              "      <td>...</td>\n",
              "      <td>0</td>\n",
              "      <td>0</td>\n",
              "      <td>0</td>\n",
              "      <td>0</td>\n",
              "      <td>0</td>\n",
              "      <td>0</td>\n",
              "      <td>0</td>\n",
              "      <td>1</td>\n",
              "      <td>0</td>\n",
              "      <td>0</td>\n",
              "    </tr>\n",
              "    <tr>\n",
              "      <th>1397</th>\n",
              "      <td>0</td>\n",
              "      <td>25262</td>\n",
              "      <td>42</td>\n",
              "      <td>322</td>\n",
              "      <td>64</td>\n",
              "      <td>26362</td>\n",
              "      <td>0</td>\n",
              "      <td>10</td>\n",
              "      <td>12</td>\n",
              "      <td>16</td>\n",
              "      <td>...</td>\n",
              "      <td>0</td>\n",
              "      <td>0</td>\n",
              "      <td>0</td>\n",
              "      <td>0</td>\n",
              "      <td>1</td>\n",
              "      <td>0</td>\n",
              "      <td>0</td>\n",
              "      <td>0</td>\n",
              "      <td>0</td>\n",
              "      <td>1</td>\n",
              "    </tr>\n",
              "    <tr>\n",
              "      <th>565</th>\n",
              "      <td>0</td>\n",
              "      <td>26213</td>\n",
              "      <td>47</td>\n",
              "      <td>370</td>\n",
              "      <td>68</td>\n",
              "      <td>33432</td>\n",
              "      <td>1</td>\n",
              "      <td>13</td>\n",
              "      <td>18</td>\n",
              "      <td>11</td>\n",
              "      <td>...</td>\n",
              "      <td>0</td>\n",
              "      <td>0</td>\n",
              "      <td>0</td>\n",
              "      <td>0</td>\n",
              "      <td>0</td>\n",
              "      <td>0</td>\n",
              "      <td>0</td>\n",
              "      <td>0</td>\n",
              "      <td>1</td>\n",
              "      <td>0</td>\n",
              "    </tr>\n",
              "    <tr>\n",
              "      <th>525</th>\n",
              "      <td>0</td>\n",
              "      <td>23939</td>\n",
              "      <td>42</td>\n",
              "      <td>310</td>\n",
              "      <td>77</td>\n",
              "      <td>30846</td>\n",
              "      <td>0</td>\n",
              "      <td>7</td>\n",
              "      <td>17</td>\n",
              "      <td>6</td>\n",
              "      <td>...</td>\n",
              "      <td>0</td>\n",
              "      <td>0</td>\n",
              "      <td>0</td>\n",
              "      <td>0</td>\n",
              "      <td>0</td>\n",
              "      <td>0</td>\n",
              "      <td>0</td>\n",
              "      <td>0</td>\n",
              "      <td>0</td>\n",
              "      <td>0</td>\n",
              "    </tr>\n",
              "    <tr>\n",
              "      <th>...</th>\n",
              "      <td>...</td>\n",
              "      <td>...</td>\n",
              "      <td>...</td>\n",
              "      <td>...</td>\n",
              "      <td>...</td>\n",
              "      <td>...</td>\n",
              "      <td>...</td>\n",
              "      <td>...</td>\n",
              "      <td>...</td>\n",
              "      <td>...</td>\n",
              "      <td>...</td>\n",
              "      <td>...</td>\n",
              "      <td>...</td>\n",
              "      <td>...</td>\n",
              "      <td>...</td>\n",
              "      <td>...</td>\n",
              "      <td>...</td>\n",
              "      <td>...</td>\n",
              "      <td>...</td>\n",
              "      <td>...</td>\n",
              "      <td>...</td>\n",
              "    </tr>\n",
              "    <tr>\n",
              "      <th>1513</th>\n",
              "      <td>1</td>\n",
              "      <td>26445</td>\n",
              "      <td>45</td>\n",
              "      <td>347</td>\n",
              "      <td>70</td>\n",
              "      <td>23012</td>\n",
              "      <td>1</td>\n",
              "      <td>11</td>\n",
              "      <td>7</td>\n",
              "      <td>16</td>\n",
              "      <td>...</td>\n",
              "      <td>0</td>\n",
              "      <td>0</td>\n",
              "      <td>1</td>\n",
              "      <td>0</td>\n",
              "      <td>0</td>\n",
              "      <td>0</td>\n",
              "      <td>0</td>\n",
              "      <td>0</td>\n",
              "      <td>0</td>\n",
              "      <td>1</td>\n",
              "    </tr>\n",
              "    <tr>\n",
              "      <th>1515</th>\n",
              "      <td>1</td>\n",
              "      <td>25085</td>\n",
              "      <td>45</td>\n",
              "      <td>377</td>\n",
              "      <td>70</td>\n",
              "      <td>26942</td>\n",
              "      <td>0</td>\n",
              "      <td>9</td>\n",
              "      <td>11</td>\n",
              "      <td>8</td>\n",
              "      <td>...</td>\n",
              "      <td>1</td>\n",
              "      <td>0</td>\n",
              "      <td>0</td>\n",
              "      <td>0</td>\n",
              "      <td>0</td>\n",
              "      <td>0</td>\n",
              "      <td>0</td>\n",
              "      <td>0</td>\n",
              "      <td>0</td>\n",
              "      <td>0</td>\n",
              "    </tr>\n",
              "    <tr>\n",
              "      <th>1516</th>\n",
              "      <td>1</td>\n",
              "      <td>30554</td>\n",
              "      <td>47</td>\n",
              "      <td>396</td>\n",
              "      <td>102</td>\n",
              "      <td>29471</td>\n",
              "      <td>1</td>\n",
              "      <td>14</td>\n",
              "      <td>10</td>\n",
              "      <td>12</td>\n",
              "      <td>...</td>\n",
              "      <td>0</td>\n",
              "      <td>0</td>\n",
              "      <td>0</td>\n",
              "      <td>1</td>\n",
              "      <td>1</td>\n",
              "      <td>0</td>\n",
              "      <td>0</td>\n",
              "      <td>0</td>\n",
              "      <td>0</td>\n",
              "      <td>0</td>\n",
              "    </tr>\n",
              "    <tr>\n",
              "      <th>1518</th>\n",
              "      <td>1</td>\n",
              "      <td>31522</td>\n",
              "      <td>45</td>\n",
              "      <td>340</td>\n",
              "      <td>60</td>\n",
              "      <td>38168</td>\n",
              "      <td>1</td>\n",
              "      <td>21</td>\n",
              "      <td>9</td>\n",
              "      <td>31</td>\n",
              "      <td>...</td>\n",
              "      <td>0</td>\n",
              "      <td>0</td>\n",
              "      <td>1</td>\n",
              "      <td>0</td>\n",
              "      <td>0</td>\n",
              "      <td>0</td>\n",
              "      <td>0</td>\n",
              "      <td>0</td>\n",
              "      <td>0</td>\n",
              "      <td>1</td>\n",
              "    </tr>\n",
              "    <tr>\n",
              "      <th>1519</th>\n",
              "      <td>1</td>\n",
              "      <td>29826</td>\n",
              "      <td>47</td>\n",
              "      <td>380</td>\n",
              "      <td>95</td>\n",
              "      <td>30348</td>\n",
              "      <td>1</td>\n",
              "      <td>17</td>\n",
              "      <td>4</td>\n",
              "      <td>22</td>\n",
              "      <td>...</td>\n",
              "      <td>0</td>\n",
              "      <td>0</td>\n",
              "      <td>1</td>\n",
              "      <td>0</td>\n",
              "      <td>0</td>\n",
              "      <td>0</td>\n",
              "      <td>0</td>\n",
              "      <td>0</td>\n",
              "      <td>0</td>\n",
              "      <td>0</td>\n",
              "    </tr>\n",
              "  </tbody>\n",
              "</table>\n",
              "<p>1389 rows × 56 columns</p>\n",
              "</div>"
            ],
            "text/plain": [
              "      blueWins  blueTotalGolds  blueTotalLevel  blueTotalMinionKills  \\\n",
              "1264         0           25312              45                   389   \n",
              "480          0           28215              43                   354   \n",
              "1397         0           25262              42                   322   \n",
              "565          0           26213              47                   370   \n",
              "525          0           23939              42                   310   \n",
              "...        ...             ...             ...                   ...   \n",
              "1513         1           26445              45                   347   \n",
              "1515         1           25085              45                   377   \n",
              "1516         1           30554              47                   396   \n",
              "1518         1           31522              45                   340   \n",
              "1519         1           29826              47                   380   \n",
              "\n",
              "      blueTotalJungleMinionKills  blueTotalDamageToChampion  blueFirstBlood  \\\n",
              "1264                          60                      25765               1   \n",
              "480                           72                      28554               1   \n",
              "1397                          64                      26362               0   \n",
              "565                           68                      33432               1   \n",
              "525                           77                      30846               0   \n",
              "...                          ...                        ...             ...   \n",
              "1513                          70                      23012               1   \n",
              "1515                          70                      26942               0   \n",
              "1516                         102                      29471               1   \n",
              "1518                          60                      38168               1   \n",
              "1519                          95                      30348               1   \n",
              "\n",
              "      blueKill  blueDeath  blueAssist  ...  blueAIR_DRAGON  blueEARTH_DRAGON  \\\n",
              "1264         9         13           7  ...               0                 0   \n",
              "480         15         12          20  ...               0                 0   \n",
              "1397        10         12          16  ...               0                 0   \n",
              "565         13         18          11  ...               0                 0   \n",
              "525          7         17           6  ...               0                 0   \n",
              "...        ...        ...         ...  ...             ...               ...   \n",
              "1513        11          7          16  ...               0                 0   \n",
              "1515         9         11           8  ...               1                 0   \n",
              "1516        14         10          12  ...               0                 0   \n",
              "1518        21          9          31  ...               0                 0   \n",
              "1519        17          4          22  ...               0                 0   \n",
              "\n",
              "      blueCHEMTECH_DRAGON  blueHEXTECH_DRAGON  redWATER_DRAGON  \\\n",
              "1264                    0                   0                0   \n",
              "480                     0                   0                0   \n",
              "1397                    0                   0                1   \n",
              "565                     0                   0                0   \n",
              "525                     0                   0                0   \n",
              "...                   ...                 ...              ...   \n",
              "1513                    1                   0                0   \n",
              "1515                    0                   0                0   \n",
              "1516                    0                   1                1   \n",
              "1518                    1                   0                0   \n",
              "1519                    1                   0                0   \n",
              "\n",
              "      redFIRE_DRAGON  redAIR_DRAGON  redEARTH_DRAGON  redCHEMTECH_DRAGON  \\\n",
              "1264               1              0                0                   0   \n",
              "480                0              0                1                   0   \n",
              "1397               0              0                0                   0   \n",
              "565                0              0                0                   1   \n",
              "525                0              0                0                   0   \n",
              "...              ...            ...              ...                 ...   \n",
              "1513               0              0                0                   0   \n",
              "1515               0              0                0                   0   \n",
              "1516               0              0                0                   0   \n",
              "1518               0              0                0                   0   \n",
              "1519               0              0                0                   0   \n",
              "\n",
              "      redHEXTECH_DRAGON  \n",
              "1264                  0  \n",
              "480                   0  \n",
              "1397                  1  \n",
              "565                   0  \n",
              "525                   0  \n",
              "...                 ...  \n",
              "1513                  1  \n",
              "1515                  0  \n",
              "1516                  0  \n",
              "1518                  1  \n",
              "1519                  0  \n",
              "\n",
              "[1389 rows x 56 columns]"
            ]
          },
          "execution_count": 10,
          "metadata": {},
          "output_type": "execute_result"
        }
      ],
      "source": [
        "new_cl15"
      ]
    },
    {
      "cell_type": "markdown",
      "metadata": {},
      "source": []
    },
    {
      "cell_type": "code",
      "execution_count": 12,
      "metadata": {
        "id": "tsN7bKR6gYbq"
      },
      "outputs": [],
      "source": [
        "def train_test(df):\n",
        "  x_train = df.drop(['blueWins', 'matchMin'], axis=1)\n",
        "  y_train = df['blueWins']\n",
        "  return x_train, y_train"
      ]
    },
    {
      "cell_type": "code",
      "execution_count": 13,
      "metadata": {
        "id": "a3FVwOCFgrbY"
      },
      "outputs": [],
      "source": [
        "x_train, y_train = train_test(new_cl15)\n",
        "\n",
        "val_size = 0.2\n",
        "\n",
        "x_train, x_valid, y_train, y_valid = train_test_split(x_train, y_train, test_size=val_size, random_state=42)"
      ]
    },
    {
      "cell_type": "markdown",
      "metadata": {
        "id": "yQLgRXRyUKaR"
      },
      "source": [
        "## LGBM 모델 적용"
      ]
    },
    {
      "cell_type": "code",
      "execution_count": 14,
      "metadata": {
        "id": "C0G7b0Scd8lV"
      },
      "outputs": [],
      "source": [
        "from lightgbm import LGBMClassifier, LGBMRegressor\n",
        "from lightgbm import plot_importance, plot_metric, plot_tree"
      ]
    },
    {
      "cell_type": "code",
      "execution_count": 15,
      "metadata": {
        "colab": {
          "base_uri": "https://localhost:8080/"
        },
        "id": "V30bukxnfhl3",
        "outputId": "e8bf38a8-0e56-4d1d-95bf-07fe47ab5bbb"
      },
      "outputs": [
        {
          "name": "stdout",
          "output_type": "stream",
          "text": [
            "Accuracy:  74.10071942446042\n"
          ]
        }
      ],
      "source": [
        "model = LGBMClassifier()\n",
        "model.fit(x_train, y_train)\n",
        "valid_pred = model.predict(x_valid)\n",
        "accuracy = accuracy_score(y_valid, valid_pred)\n",
        "print(\"Accuracy: \", accuracy*100)"
      ]
    },
    {
      "cell_type": "markdown",
      "metadata": {
        "id": "UPVt9DIviyQH"
      },
      "source": [
        "# 베이지안 optimization"
      ]
    },
    {
      "cell_type": "code",
      "execution_count": 18,
      "metadata": {
        "id": "puIyAOOlixO4"
      },
      "outputs": [],
      "source": [
        "from bayes_opt import BayesianOptimization"
      ]
    },
    {
      "cell_type": "code",
      "execution_count": 19,
      "metadata": {
        "id": "mKycsZEii4pU"
      },
      "outputs": [],
      "source": [
        "# 탐색 대상 함수 (XGBRegressor)\n",
        "def LGBM_cv(max_depth,learning_rate, n_estimators,\n",
        "            min_child_weight, subsample\n",
        "            ,colsample_bytree, silent=True):\n",
        "\n",
        "    # 모델 정의\n",
        "    model = LGBMClassifier(max_depth=int(max_depth),\n",
        "                            learning_rate=learning_rate,\n",
        "                            n_estimators=int(n_estimators),\n",
        "                            min_child_weight=min_child_weight,\n",
        "                            subsample=subsample,\n",
        "                            colsample_bytree=colsample_bytree\n",
        "                            )\n",
        "    # 모델 훈련\n",
        "    model.fit(x_train, y_train)\n",
        "\n",
        "    # 예측값 출력\n",
        "    y_pred= model.predict(x_valid)\n",
        "\n",
        "    return f1_score(y_valid, y_pred)"
      ]
    },
    {
      "cell_type": "code",
      "execution_count": 20,
      "metadata": {
        "colab": {
          "base_uri": "https://localhost:8080/"
        },
        "id": "iBUjlBfWjJ1p",
        "outputId": "a3165f89-2cfa-4acc-f84b-96a306cf3523"
      },
      "outputs": [
        {
          "name": "stdout",
          "output_type": "stream",
          "text": [
            "|   iter    |  target   | colsam... | learni... | max_depth | min_ch... | n_esti... | subsample |\n",
            "-------------------------------------------------------------------------------------------------\n",
            "| \u001b[0m1        \u001b[0m | \u001b[0m0.7655   \u001b[0m | \u001b[0m0.5336   \u001b[0m | \u001b[0m0.2189   \u001b[0m | \u001b[0m3.001    \u001b[0m | \u001b[0m0.907    \u001b[0m | \u001b[0m31.74    \u001b[0m | \u001b[0m0.5462   \u001b[0m |\n",
            "| \u001b[95m2        \u001b[0m | \u001b[95m0.7881   \u001b[0m | \u001b[95m0.349    \u001b[0m | \u001b[95m0.1102   \u001b[0m | \u001b[95m5.777    \u001b[0m | \u001b[95m1.616    \u001b[0m | \u001b[95m53.54    \u001b[0m | \u001b[95m0.8426   \u001b[0m |\n",
            "| \u001b[0m3        \u001b[0m | \u001b[0m0.7593   \u001b[0m | \u001b[0m0.5736   \u001b[0m | \u001b[0m0.2719   \u001b[0m | \u001b[0m6.849    \u001b[0m | \u001b[0m2.075    \u001b[0m | \u001b[0m53.05    \u001b[0m | \u001b[0m0.646    \u001b[0m |\n",
            "| \u001b[0m4        \u001b[0m | \u001b[0m0.7782   \u001b[0m | \u001b[0m0.6782   \u001b[0m | \u001b[0m0.1023   \u001b[0m | \u001b[0m7.641    \u001b[0m | \u001b[0m1.345    \u001b[0m | \u001b[0m33.78    \u001b[0m | \u001b[0m0.6515   \u001b[0m |\n",
            "| \u001b[0m5        \u001b[0m | \u001b[0m0.7526   \u001b[0m | \u001b[0m0.4603   \u001b[0m | \u001b[0m0.2457   \u001b[0m | \u001b[0m6.101    \u001b[0m | \u001b[0m1.633    \u001b[0m | \u001b[0m53.27    \u001b[0m | \u001b[0m0.9138   \u001b[0m |\n",
            "| \u001b[0m6        \u001b[0m | \u001b[0m0.7619   \u001b[0m | \u001b[0m0.5276   \u001b[0m | \u001b[0m0.04547  \u001b[0m | \u001b[0m8.11     \u001b[0m | \u001b[0m2.604    \u001b[0m | \u001b[0m73.03    \u001b[0m | \u001b[0m0.6975   \u001b[0m |\n",
            "| \u001b[0m7        \u001b[0m | \u001b[0m0.7542   \u001b[0m | \u001b[0m0.9334   \u001b[0m | \u001b[0m0.03744  \u001b[0m | \u001b[0m9.907    \u001b[0m | \u001b[0m2.841    \u001b[0m | \u001b[0m21.07    \u001b[0m | \u001b[0m0.727    \u001b[0m |\n",
            "| \u001b[0m8        \u001b[0m | \u001b[0m0.7677   \u001b[0m | \u001b[0m0.7552   \u001b[0m | \u001b[0m0.1763   \u001b[0m | \u001b[0m5.304    \u001b[0m | \u001b[0m2.129    \u001b[0m | \u001b[0m83.79    \u001b[0m | \u001b[0m0.5152   \u001b[0m |\n",
            "| \u001b[0m9        \u001b[0m | \u001b[0m0.7661   \u001b[0m | \u001b[0m0.3614   \u001b[0m | \u001b[0m0.09517  \u001b[0m | \u001b[0m4.115    \u001b[0m | \u001b[0m0.8408   \u001b[0m | \u001b[0m84.92    \u001b[0m | \u001b[0m0.8532   \u001b[0m |\n",
            "| \u001b[0m10       \u001b[0m | \u001b[0m0.7474   \u001b[0m | \u001b[0m0.2037   \u001b[0m | \u001b[0m0.2481   \u001b[0m | \u001b[0m6.587    \u001b[0m | \u001b[0m1.61     \u001b[0m | \u001b[0m79.07    \u001b[0m | \u001b[0m0.9726   \u001b[0m |\n",
            "| \u001b[0m11       \u001b[0m | \u001b[0m0.7671   \u001b[0m | \u001b[0m0.2273   \u001b[0m | \u001b[0m0.2184   \u001b[0m | \u001b[0m9.045    \u001b[0m | \u001b[0m0.9013   \u001b[0m | \u001b[0m87.74    \u001b[0m | \u001b[0m0.711    \u001b[0m |\n",
            "| \u001b[0m12       \u001b[0m | \u001b[0m0.7525   \u001b[0m | \u001b[0m0.9185   \u001b[0m | \u001b[0m0.03506  \u001b[0m | \u001b[0m6.917    \u001b[0m | \u001b[0m0.7644   \u001b[0m | \u001b[0m80.45    \u001b[0m | \u001b[0m0.6189   \u001b[0m |\n",
            "| \u001b[0m13       \u001b[0m | \u001b[0m0.7509   \u001b[0m | \u001b[0m0.9911   \u001b[0m | \u001b[0m0.2263   \u001b[0m | \u001b[0m5.258    \u001b[0m | \u001b[0m1.123    \u001b[0m | \u001b[0m46.09    \u001b[0m | \u001b[0m0.7904   \u001b[0m |\n",
            "| \u001b[0m14       \u001b[0m | \u001b[0m0.7811   \u001b[0m | \u001b[0m0.8067   \u001b[0m | \u001b[0m0.06909  \u001b[0m | \u001b[0m4.634    \u001b[0m | \u001b[0m1.756    \u001b[0m | \u001b[0m81.33    \u001b[0m | \u001b[0m0.9829   \u001b[0m |\n",
            "| \u001b[0m15       \u001b[0m | \u001b[0m0.7432   \u001b[0m | \u001b[0m0.8991   \u001b[0m | \u001b[0m0.2977   \u001b[0m | \u001b[0m5.72     \u001b[0m | \u001b[0m2.589    \u001b[0m | \u001b[0m83.32    \u001b[0m | \u001b[0m0.8625   \u001b[0m |\n",
            "| \u001b[95m16       \u001b[0m | \u001b[95m0.7945   \u001b[0m | \u001b[95m0.2139   \u001b[0m | \u001b[95m0.1061   \u001b[0m | \u001b[95m6.261    \u001b[0m | \u001b[95m0.8613   \u001b[0m | \u001b[95m70.95    \u001b[0m | \u001b[95m0.6987   \u001b[0m |\n",
            "| \u001b[0m17       \u001b[0m | \u001b[0m0.7584   \u001b[0m | \u001b[0m0.6481   \u001b[0m | \u001b[0m0.181    \u001b[0m | \u001b[0m8.074    \u001b[0m | \u001b[0m2.276    \u001b[0m | \u001b[0m54.93    \u001b[0m | \u001b[0m0.8302   \u001b[0m |\n",
            "| \u001b[0m18       \u001b[0m | \u001b[0m0.7755   \u001b[0m | \u001b[0m0.2611   \u001b[0m | \u001b[0m0.2044   \u001b[0m | \u001b[0m7.837    \u001b[0m | \u001b[0m2.057    \u001b[0m | \u001b[0m42.39    \u001b[0m | \u001b[0m0.8086   \u001b[0m |\n",
            "| \u001b[0m19       \u001b[0m | \u001b[0m0.7723   \u001b[0m | \u001b[0m0.8654   \u001b[0m | \u001b[0m0.01214  \u001b[0m | \u001b[0m3.274    \u001b[0m | \u001b[0m2.423    \u001b[0m | \u001b[0m27.23    \u001b[0m | \u001b[0m0.8782   \u001b[0m |\n",
            "| \u001b[0m20       \u001b[0m | \u001b[0m0.7697   \u001b[0m | \u001b[0m0.274    \u001b[0m | \u001b[0m0.2982   \u001b[0m | \u001b[0m6.239    \u001b[0m | \u001b[0m0.418    \u001b[0m | \u001b[0m43.66    \u001b[0m | \u001b[0m0.5583   \u001b[0m |\n",
            "| \u001b[0m21       \u001b[0m | \u001b[0m0.7921   \u001b[0m | \u001b[0m0.3247   \u001b[0m | \u001b[0m0.02925  \u001b[0m | \u001b[0m9.397    \u001b[0m | \u001b[0m0.2947   \u001b[0m | \u001b[0m44.93    \u001b[0m | \u001b[0m0.8203   \u001b[0m |\n",
            "| \u001b[0m22       \u001b[0m | \u001b[0m0.7661   \u001b[0m | \u001b[0m0.5245   \u001b[0m | \u001b[0m0.2226   \u001b[0m | \u001b[0m8.996    \u001b[0m | \u001b[0m2.972    \u001b[0m | \u001b[0m88.36    \u001b[0m | \u001b[0m0.6249   \u001b[0m |\n",
            "| \u001b[0m23       \u001b[0m | \u001b[0m0.7677   \u001b[0m | \u001b[0m0.2116   \u001b[0m | \u001b[0m0.1958   \u001b[0m | \u001b[0m3.116    \u001b[0m | \u001b[0m2.664    \u001b[0m | \u001b[0m95.12    \u001b[0m | \u001b[0m0.6135   \u001b[0m |\n",
            "| \u001b[0m24       \u001b[0m | \u001b[0m0.7729   \u001b[0m | \u001b[0m0.2427   \u001b[0m | \u001b[0m0.1681   \u001b[0m | \u001b[0m6.718    \u001b[0m | \u001b[0m0.1003   \u001b[0m | \u001b[0m42.54    \u001b[0m | \u001b[0m0.7539   \u001b[0m |\n",
            "| \u001b[0m25       \u001b[0m | \u001b[0m0.7698   \u001b[0m | \u001b[0m0.5867   \u001b[0m | \u001b[0m0.2305   \u001b[0m | \u001b[0m8.677    \u001b[0m | \u001b[0m2.343    \u001b[0m | \u001b[0m90.08    \u001b[0m | \u001b[0m0.856    \u001b[0m |\n",
            "| \u001b[0m26       \u001b[0m | \u001b[0m0.7826   \u001b[0m | \u001b[0m0.5028   \u001b[0m | \u001b[0m0.03399  \u001b[0m | \u001b[0m6.55     \u001b[0m | \u001b[0m1.273    \u001b[0m | \u001b[0m22.32    \u001b[0m | \u001b[0m0.578    \u001b[0m |\n",
            "| \u001b[0m27       \u001b[0m | \u001b[0m0.7584   \u001b[0m | \u001b[0m0.7637   \u001b[0m | \u001b[0m0.04881  \u001b[0m | \u001b[0m8.587    \u001b[0m | \u001b[0m1.908    \u001b[0m | \u001b[0m69.37    \u001b[0m | \u001b[0m0.7667   \u001b[0m |\n",
            "| \u001b[0m28       \u001b[0m | \u001b[0m0.7568   \u001b[0m | \u001b[0m0.8562   \u001b[0m | \u001b[0m0.2583   \u001b[0m | \u001b[0m5.895    \u001b[0m | \u001b[0m2.451    \u001b[0m | \u001b[0m99.64    \u001b[0m | \u001b[0m0.8486   \u001b[0m |\n",
            "| \u001b[0m29       \u001b[0m | \u001b[0m0.7687   \u001b[0m | \u001b[0m0.2084   \u001b[0m | \u001b[0m0.2247   \u001b[0m | \u001b[0m7.838    \u001b[0m | \u001b[0m1.988    \u001b[0m | \u001b[0m95.94    \u001b[0m | \u001b[0m0.5775   \u001b[0m |\n",
            "| \u001b[0m30       \u001b[0m | \u001b[0m0.7619   \u001b[0m | \u001b[0m0.9173   \u001b[0m | \u001b[0m0.09564  \u001b[0m | \u001b[0m9.215    \u001b[0m | \u001b[0m0.4689   \u001b[0m | \u001b[0m72.11    \u001b[0m | \u001b[0m0.6415   \u001b[0m |\n",
            "| \u001b[0m31       \u001b[0m | \u001b[0m0.7797   \u001b[0m | \u001b[0m0.2484   \u001b[0m | \u001b[0m0.1368   \u001b[0m | \u001b[0m6.066    \u001b[0m | \u001b[0m2.211    \u001b[0m | \u001b[0m34.16    \u001b[0m | \u001b[0m0.8313   \u001b[0m |\n",
            "| \u001b[0m32       \u001b[0m | \u001b[0m0.7603   \u001b[0m | \u001b[0m0.9708   \u001b[0m | \u001b[0m0.2875   \u001b[0m | \u001b[0m3.847    \u001b[0m | \u001b[0m0.7473   \u001b[0m | \u001b[0m29.77    \u001b[0m | \u001b[0m0.8545   \u001b[0m |\n",
            "| \u001b[0m33       \u001b[0m | \u001b[0m0.7671   \u001b[0m | \u001b[0m0.3761   \u001b[0m | \u001b[0m0.1723   \u001b[0m | \u001b[0m4.419    \u001b[0m | \u001b[0m2.521    \u001b[0m | \u001b[0m44.08    \u001b[0m | \u001b[0m0.5558   \u001b[0m |\n",
            "| \u001b[0m34       \u001b[0m | \u001b[0m0.7645   \u001b[0m | \u001b[0m0.4871   \u001b[0m | \u001b[0m0.1417   \u001b[0m | \u001b[0m3.688    \u001b[0m | \u001b[0m1.45     \u001b[0m | \u001b[0m44.07    \u001b[0m | \u001b[0m0.9526   \u001b[0m |\n",
            "| \u001b[0m35       \u001b[0m | \u001b[0m0.7651   \u001b[0m | \u001b[0m0.4601   \u001b[0m | \u001b[0m0.02235  \u001b[0m | \u001b[0m4.793    \u001b[0m | \u001b[0m0.8458   \u001b[0m | \u001b[0m91.01    \u001b[0m | \u001b[0m0.6896   \u001b[0m |\n",
            "| \u001b[0m36       \u001b[0m | \u001b[0m0.7744   \u001b[0m | \u001b[0m0.2987   \u001b[0m | \u001b[0m0.05746  \u001b[0m | \u001b[0m6.975    \u001b[0m | \u001b[0m0.4388   \u001b[0m | \u001b[0m30.17    \u001b[0m | \u001b[0m0.9852   \u001b[0m |\n",
            "| \u001b[0m37       \u001b[0m | \u001b[0m0.744    \u001b[0m | \u001b[0m0.9124   \u001b[0m | \u001b[0m0.2931   \u001b[0m | \u001b[0m6.152    \u001b[0m | \u001b[0m1.165    \u001b[0m | \u001b[0m95.95    \u001b[0m | \u001b[0m0.791    \u001b[0m |\n",
            "| \u001b[0m38       \u001b[0m | \u001b[0m0.7625   \u001b[0m | \u001b[0m0.9916   \u001b[0m | \u001b[0m0.06586  \u001b[0m | \u001b[0m5.331    \u001b[0m | \u001b[0m2.88     \u001b[0m | \u001b[0m82.1     \u001b[0m | \u001b[0m0.6695   \u001b[0m |\n",
            "| \u001b[0m39       \u001b[0m | \u001b[0m0.7864   \u001b[0m | \u001b[0m0.9917   \u001b[0m | \u001b[0m0.05812  \u001b[0m | \u001b[0m3.271    \u001b[0m | \u001b[0m0.5593   \u001b[0m | \u001b[0m87.21    \u001b[0m | \u001b[0m0.7596   \u001b[0m |\n",
            "| \u001b[0m40       \u001b[0m | \u001b[0m0.7584   \u001b[0m | \u001b[0m0.8414   \u001b[0m | \u001b[0m0.07625  \u001b[0m | \u001b[0m7.151    \u001b[0m | \u001b[0m2.093    \u001b[0m | \u001b[0m61.63    \u001b[0m | \u001b[0m0.6855   \u001b[0m |\n",
            "| \u001b[0m41       \u001b[0m | \u001b[0m0.7542   \u001b[0m | \u001b[0m0.3494   \u001b[0m | \u001b[0m0.2175   \u001b[0m | \u001b[0m7.954    \u001b[0m | \u001b[0m2.341    \u001b[0m | \u001b[0m61.78    \u001b[0m | \u001b[0m0.6356   \u001b[0m |\n",
            "| \u001b[0m42       \u001b[0m | \u001b[0m0.777    \u001b[0m | \u001b[0m0.9944   \u001b[0m | \u001b[0m0.09278  \u001b[0m | \u001b[0m3.642    \u001b[0m | \u001b[0m2.194    \u001b[0m | \u001b[0m91.56    \u001b[0m | \u001b[0m0.9469   \u001b[0m |\n",
            "| \u001b[0m43       \u001b[0m | \u001b[0m0.7641   \u001b[0m | \u001b[0m0.5883   \u001b[0m | \u001b[0m0.188    \u001b[0m | \u001b[0m6.545    \u001b[0m | \u001b[0m1.196    \u001b[0m | \u001b[0m53.38    \u001b[0m | \u001b[0m0.9059   \u001b[0m |\n",
            "| \u001b[0m44       \u001b[0m | \u001b[0m0.7586   \u001b[0m | \u001b[0m0.9272   \u001b[0m | \u001b[0m0.1771   \u001b[0m | \u001b[0m3.248    \u001b[0m | \u001b[0m0.1212   \u001b[0m | \u001b[0m94.6     \u001b[0m | \u001b[0m0.9772   \u001b[0m |\n",
            "| \u001b[0m45       \u001b[0m | \u001b[0m0.7692   \u001b[0m | \u001b[0m0.5408   \u001b[0m | \u001b[0m0.1483   \u001b[0m | \u001b[0m7.606    \u001b[0m | \u001b[0m2.587    \u001b[0m | \u001b[0m31.16    \u001b[0m | \u001b[0m0.9472   \u001b[0m |\n",
            "| \u001b[0m46       \u001b[0m | \u001b[0m0.7415   \u001b[0m | \u001b[0m0.509    \u001b[0m | \u001b[0m0.2722   \u001b[0m | \u001b[0m8.546    \u001b[0m | \u001b[0m2.09     \u001b[0m | \u001b[0m55.08    \u001b[0m | \u001b[0m0.7266   \u001b[0m |\n",
            "| \u001b[0m47       \u001b[0m | \u001b[0m0.7687   \u001b[0m | \u001b[0m0.9464   \u001b[0m | \u001b[0m0.2353   \u001b[0m | \u001b[0m5.802    \u001b[0m | \u001b[0m0.0443   \u001b[0m | \u001b[0m60.31    \u001b[0m | \u001b[0m0.6245   \u001b[0m |\n",
            "| \u001b[0m48       \u001b[0m | \u001b[0m0.7609   \u001b[0m | \u001b[0m0.5104   \u001b[0m | \u001b[0m0.01259  \u001b[0m | \u001b[0m8.268    \u001b[0m | \u001b[0m0.6408   \u001b[0m | \u001b[0m94.91    \u001b[0m | \u001b[0m0.6425   \u001b[0m |\n",
            "| \u001b[0m49       \u001b[0m | \u001b[0m0.7448   \u001b[0m | \u001b[0m0.2642   \u001b[0m | \u001b[0m0.2578   \u001b[0m | \u001b[0m4.638    \u001b[0m | \u001b[0m0.8098   \u001b[0m | \u001b[0m73.43    \u001b[0m | \u001b[0m0.74     \u001b[0m |\n",
            "| \u001b[0m50       \u001b[0m | \u001b[0m0.7566   \u001b[0m | \u001b[0m0.3403   \u001b[0m | \u001b[0m0.1457   \u001b[0m | \u001b[0m6.335    \u001b[0m | \u001b[0m0.0674   \u001b[0m | \u001b[0m60.04    \u001b[0m | \u001b[0m0.6108   \u001b[0m |\n",
            "| \u001b[0m51       \u001b[0m | \u001b[0m0.7677   \u001b[0m | \u001b[0m0.2881   \u001b[0m | \u001b[0m0.107    \u001b[0m | \u001b[0m8.222    \u001b[0m | \u001b[0m2.83     \u001b[0m | \u001b[0m93.01    \u001b[0m | \u001b[0m0.8711   \u001b[0m |\n",
            "| \u001b[0m52       \u001b[0m | \u001b[0m0.7774   \u001b[0m | \u001b[0m0.2271   \u001b[0m | \u001b[0m0.09845  \u001b[0m | \u001b[0m3.381    \u001b[0m | \u001b[0m1.792    \u001b[0m | \u001b[0m82.73    \u001b[0m | \u001b[0m0.633    \u001b[0m |\n",
            "| \u001b[0m53       \u001b[0m | \u001b[0m0.7667   \u001b[0m | \u001b[0m0.5607   \u001b[0m | \u001b[0m0.1958   \u001b[0m | \u001b[0m8.052    \u001b[0m | \u001b[0m0.4659   \u001b[0m | \u001b[0m35.1     \u001b[0m | \u001b[0m0.8405   \u001b[0m |\n",
            "| \u001b[0m54       \u001b[0m | \u001b[0m0.7852   \u001b[0m | \u001b[0m0.3726   \u001b[0m | \u001b[0m0.05301  \u001b[0m | \u001b[0m8.14     \u001b[0m | \u001b[0m1.217    \u001b[0m | \u001b[0m21.85    \u001b[0m | \u001b[0m0.9715   \u001b[0m |\n",
            "| \u001b[0m55       \u001b[0m | \u001b[0m0.7671   \u001b[0m | \u001b[0m0.901    \u001b[0m | \u001b[0m0.1376   \u001b[0m | \u001b[0m6.963    \u001b[0m | \u001b[0m2.631    \u001b[0m | \u001b[0m41.51    \u001b[0m | \u001b[0m0.8292   \u001b[0m |\n",
            "| \u001b[0m56       \u001b[0m | \u001b[0m0.7875   \u001b[0m | \u001b[0m0.2168   \u001b[0m | \u001b[0m0.1207   \u001b[0m | \u001b[0m4.661    \u001b[0m | \u001b[0m2.488    \u001b[0m | \u001b[0m31.6     \u001b[0m | \u001b[0m0.8874   \u001b[0m |\n",
            "| \u001b[0m57       \u001b[0m | \u001b[0m0.7703   \u001b[0m | \u001b[0m0.4083   \u001b[0m | \u001b[0m0.2069   \u001b[0m | \u001b[0m9.616    \u001b[0m | \u001b[0m2.985    \u001b[0m | \u001b[0m29.23    \u001b[0m | \u001b[0m0.8174   \u001b[0m |\n",
            "| \u001b[0m58       \u001b[0m | \u001b[0m0.7918   \u001b[0m | \u001b[0m0.2674   \u001b[0m | \u001b[0m0.1238   \u001b[0m | \u001b[0m7.472    \u001b[0m | \u001b[0m2.016    \u001b[0m | \u001b[0m22.04    \u001b[0m | \u001b[0m0.75     \u001b[0m |\n",
            "| \u001b[0m59       \u001b[0m | \u001b[0m0.7645   \u001b[0m | \u001b[0m0.8771   \u001b[0m | \u001b[0m0.2409   \u001b[0m | \u001b[0m7.391    \u001b[0m | \u001b[0m2.642    \u001b[0m | \u001b[0m64.69    \u001b[0m | \u001b[0m0.6328   \u001b[0m |\n",
            "| \u001b[0m60       \u001b[0m | \u001b[0m0.7797   \u001b[0m | \u001b[0m0.5335   \u001b[0m | \u001b[0m0.1293   \u001b[0m | \u001b[0m5.17     \u001b[0m | \u001b[0m0.1668   \u001b[0m | \u001b[0m52.03    \u001b[0m | \u001b[0m0.594    \u001b[0m |\n",
            "| \u001b[0m61       \u001b[0m | \u001b[0m0.7766   \u001b[0m | \u001b[0m0.3582   \u001b[0m | \u001b[0m0.1133   \u001b[0m | \u001b[0m3.798    \u001b[0m | \u001b[0m1.637    \u001b[0m | \u001b[0m96.59    \u001b[0m | \u001b[0m0.7338   \u001b[0m |\n",
            "| \u001b[0m62       \u001b[0m | \u001b[0m0.7568   \u001b[0m | \u001b[0m0.3731   \u001b[0m | \u001b[0m0.2857   \u001b[0m | \u001b[0m7.265    \u001b[0m | \u001b[0m2.796    \u001b[0m | \u001b[0m33.29    \u001b[0m | \u001b[0m0.5328   \u001b[0m |\n",
            "| \u001b[0m63       \u001b[0m | \u001b[0m0.7645   \u001b[0m | \u001b[0m0.6815   \u001b[0m | \u001b[0m0.2629   \u001b[0m | \u001b[0m3.173    \u001b[0m | \u001b[0m0.6805   \u001b[0m | \u001b[0m90.47    \u001b[0m | \u001b[0m0.9764   \u001b[0m |\n",
            "| \u001b[0m64       \u001b[0m | \u001b[0m0.782    \u001b[0m | \u001b[0m0.4033   \u001b[0m | \u001b[0m0.2839   \u001b[0m | \u001b[0m3.98     \u001b[0m | \u001b[0m0.6642   \u001b[0m | \u001b[0m30.68    \u001b[0m | \u001b[0m0.507    \u001b[0m |\n",
            "| \u001b[0m65       \u001b[0m | \u001b[0m0.7566   \u001b[0m | \u001b[0m0.9639   \u001b[0m | \u001b[0m0.1827   \u001b[0m | \u001b[0m9.97     \u001b[0m | \u001b[0m0.8626   \u001b[0m | \u001b[0m60.95    \u001b[0m | \u001b[0m0.6057   \u001b[0m |\n",
            "| \u001b[0m66       \u001b[0m | \u001b[0m0.7724   \u001b[0m | \u001b[0m0.8629   \u001b[0m | \u001b[0m0.09778  \u001b[0m | \u001b[0m3.147    \u001b[0m | \u001b[0m1.798    \u001b[0m | \u001b[0m43.47    \u001b[0m | \u001b[0m0.7715   \u001b[0m |\n",
            "| \u001b[0m67       \u001b[0m | \u001b[0m0.78     \u001b[0m | \u001b[0m0.7627   \u001b[0m | \u001b[0m0.01537  \u001b[0m | \u001b[0m7.112    \u001b[0m | \u001b[0m1.246    \u001b[0m | \u001b[0m67.51    \u001b[0m | \u001b[0m0.6427   \u001b[0m |\n",
            "| \u001b[0m68       \u001b[0m | \u001b[0m0.7733   \u001b[0m | \u001b[0m0.306    \u001b[0m | \u001b[0m0.1009   \u001b[0m | \u001b[0m4.32     \u001b[0m | \u001b[0m1.001    \u001b[0m | \u001b[0m49.34    \u001b[0m | \u001b[0m0.8562   \u001b[0m |\n",
            "| \u001b[0m69       \u001b[0m | \u001b[0m0.7744   \u001b[0m | \u001b[0m0.4376   \u001b[0m | \u001b[0m0.1416   \u001b[0m | \u001b[0m8.342    \u001b[0m | \u001b[0m2.786    \u001b[0m | \u001b[0m25.63    \u001b[0m | \u001b[0m0.6047   \u001b[0m |\n",
            "| \u001b[0m70       \u001b[0m | \u001b[0m0.7766   \u001b[0m | \u001b[0m0.2472   \u001b[0m | \u001b[0m0.148    \u001b[0m | \u001b[0m3.723    \u001b[0m | \u001b[0m0.3466   \u001b[0m | \u001b[0m88.14    \u001b[0m | \u001b[0m0.7212   \u001b[0m |\n",
            "| \u001b[0m71       \u001b[0m | \u001b[0m0.7918   \u001b[0m | \u001b[0m0.2282   \u001b[0m | \u001b[0m0.01589  \u001b[0m | \u001b[0m4.761    \u001b[0m | \u001b[0m1.783    \u001b[0m | \u001b[0m82.38    \u001b[0m | \u001b[0m0.9057   \u001b[0m |\n",
            "| \u001b[0m72       \u001b[0m | \u001b[0m0.7625   \u001b[0m | \u001b[0m0.5938   \u001b[0m | \u001b[0m0.1621   \u001b[0m | \u001b[0m6.576    \u001b[0m | \u001b[0m0.5006   \u001b[0m | \u001b[0m36.53    \u001b[0m | \u001b[0m0.8998   \u001b[0m |\n",
            "| \u001b[0m73       \u001b[0m | \u001b[0m0.7651   \u001b[0m | \u001b[0m0.5993   \u001b[0m | \u001b[0m0.2942   \u001b[0m | \u001b[0m5.196    \u001b[0m | \u001b[0m2.233    \u001b[0m | \u001b[0m35.95    \u001b[0m | \u001b[0m0.9186   \u001b[0m |\n",
            "| \u001b[0m74       \u001b[0m | \u001b[0m0.7525   \u001b[0m | \u001b[0m0.759    \u001b[0m | \u001b[0m0.1499   \u001b[0m | \u001b[0m6.201    \u001b[0m | \u001b[0m1.323    \u001b[0m | \u001b[0m75.6     \u001b[0m | \u001b[0m0.5195   \u001b[0m |\n",
            "| \u001b[0m75       \u001b[0m | \u001b[0m0.7797   \u001b[0m | \u001b[0m0.3413   \u001b[0m | \u001b[0m0.1925   \u001b[0m | \u001b[0m7.708    \u001b[0m | \u001b[0m0.4192   \u001b[0m | \u001b[0m49.09    \u001b[0m | \u001b[0m0.9352   \u001b[0m |\n",
            "| \u001b[0m76       \u001b[0m | \u001b[0m0.7645   \u001b[0m | \u001b[0m0.4347   \u001b[0m | \u001b[0m0.2889   \u001b[0m | \u001b[0m9.132    \u001b[0m | \u001b[0m0.4346   \u001b[0m | \u001b[0m91.82    \u001b[0m | \u001b[0m0.7838   \u001b[0m |\n",
            "| \u001b[0m77       \u001b[0m | \u001b[0m0.7823   \u001b[0m | \u001b[0m0.7918   \u001b[0m | \u001b[0m0.1074   \u001b[0m | \u001b[0m3.14     \u001b[0m | \u001b[0m1.359    \u001b[0m | \u001b[0m67.56    \u001b[0m | \u001b[0m0.5009   \u001b[0m |\n",
            "| \u001b[0m78       \u001b[0m | \u001b[0m0.7559   \u001b[0m | \u001b[0m0.4521   \u001b[0m | \u001b[0m0.2261   \u001b[0m | \u001b[0m8.942    \u001b[0m | \u001b[0m2.857    \u001b[0m | \u001b[0m57.28    \u001b[0m | \u001b[0m0.9102   \u001b[0m |\n",
            "| \u001b[0m79       \u001b[0m | \u001b[0m0.7619   \u001b[0m | \u001b[0m0.243    \u001b[0m | \u001b[0m0.2707   \u001b[0m | \u001b[0m9.556    \u001b[0m | \u001b[0m1.339    \u001b[0m | \u001b[0m56.06    \u001b[0m | \u001b[0m0.7799   \u001b[0m |\n",
            "| \u001b[0m80       \u001b[0m | \u001b[0m0.7651   \u001b[0m | \u001b[0m0.724    \u001b[0m | \u001b[0m0.22     \u001b[0m | \u001b[0m5.605    \u001b[0m | \u001b[0m1.821    \u001b[0m | \u001b[0m37.26    \u001b[0m | \u001b[0m0.9273   \u001b[0m |\n",
            "| \u001b[0m81       \u001b[0m | \u001b[0m0.7785   \u001b[0m | \u001b[0m0.4301   \u001b[0m | \u001b[0m0.05614  \u001b[0m | \u001b[0m6.344    \u001b[0m | \u001b[0m0.8411   \u001b[0m | \u001b[0m52.01    \u001b[0m | \u001b[0m0.9683   \u001b[0m |\n",
            "| \u001b[0m82       \u001b[0m | \u001b[0m0.7575   \u001b[0m | \u001b[0m0.887    \u001b[0m | \u001b[0m0.03097  \u001b[0m | \u001b[0m5.926    \u001b[0m | \u001b[0m2.23     \u001b[0m | \u001b[0m60.16    \u001b[0m | \u001b[0m0.9355   \u001b[0m |\n",
            "| \u001b[0m83       \u001b[0m | \u001b[0m0.7687   \u001b[0m | \u001b[0m0.7341   \u001b[0m | \u001b[0m0.186    \u001b[0m | \u001b[0m6.94     \u001b[0m | \u001b[0m2.475    \u001b[0m | \u001b[0m93.09    \u001b[0m | \u001b[0m0.7257   \u001b[0m |\n",
            "| \u001b[0m84       \u001b[0m | \u001b[0m0.7797   \u001b[0m | \u001b[0m0.3377   \u001b[0m | \u001b[0m0.1071   \u001b[0m | \u001b[0m4.183    \u001b[0m | \u001b[0m1.207    \u001b[0m | \u001b[0m30.51    \u001b[0m | \u001b[0m0.9029   \u001b[0m |\n",
            "| \u001b[0m85       \u001b[0m | \u001b[0m0.7645   \u001b[0m | \u001b[0m0.3797   \u001b[0m | \u001b[0m0.2846   \u001b[0m | \u001b[0m3.708    \u001b[0m | \u001b[0m1.511    \u001b[0m | \u001b[0m91.3     \u001b[0m | \u001b[0m0.9699   \u001b[0m |\n",
            "| \u001b[0m86       \u001b[0m | \u001b[0m0.7551   \u001b[0m | \u001b[0m0.8819   \u001b[0m | \u001b[0m0.2606   \u001b[0m | \u001b[0m9.032    \u001b[0m | \u001b[0m2.309    \u001b[0m | \u001b[0m85.5     \u001b[0m | \u001b[0m0.6696   \u001b[0m |\n",
            "| \u001b[0m87       \u001b[0m | \u001b[0m0.7609   \u001b[0m | \u001b[0m0.6192   \u001b[0m | \u001b[0m0.2589   \u001b[0m | \u001b[0m6.218    \u001b[0m | \u001b[0m2.944    \u001b[0m | \u001b[0m50.59    \u001b[0m | \u001b[0m0.8485   \u001b[0m |\n",
            "| \u001b[0m88       \u001b[0m | \u001b[0m0.7931   \u001b[0m | \u001b[0m0.3637   \u001b[0m | \u001b[0m0.1735   \u001b[0m | \u001b[0m4.006    \u001b[0m | \u001b[0m1.597    \u001b[0m | \u001b[0m24.49    \u001b[0m | \u001b[0m0.6613   \u001b[0m |\n",
            "| \u001b[0m89       \u001b[0m | \u001b[0m0.78     \u001b[0m | \u001b[0m0.7175   \u001b[0m | \u001b[0m0.07385  \u001b[0m | \u001b[0m6.486    \u001b[0m | \u001b[0m1.126    \u001b[0m | \u001b[0m39.89    \u001b[0m | \u001b[0m0.9416   \u001b[0m |\n",
            "| \u001b[0m90       \u001b[0m | \u001b[0m0.7584   \u001b[0m | \u001b[0m0.6889   \u001b[0m | \u001b[0m0.06549  \u001b[0m | \u001b[0m4.311    \u001b[0m | \u001b[0m0.685    \u001b[0m | \u001b[0m92.3     \u001b[0m | \u001b[0m0.6924   \u001b[0m |\n",
            "| \u001b[0m91       \u001b[0m | \u001b[0m0.7823   \u001b[0m | \u001b[0m0.5329   \u001b[0m | \u001b[0m0.05557  \u001b[0m | \u001b[0m3.694    \u001b[0m | \u001b[0m0.4807   \u001b[0m | \u001b[0m41.82    \u001b[0m | \u001b[0m0.805    \u001b[0m |\n",
            "| \u001b[0m92       \u001b[0m | \u001b[0m0.7755   \u001b[0m | \u001b[0m0.49     \u001b[0m | \u001b[0m0.0455   \u001b[0m | \u001b[0m9.736    \u001b[0m | \u001b[0m1.699    \u001b[0m | \u001b[0m94.97    \u001b[0m | \u001b[0m0.8416   \u001b[0m |\n",
            "| \u001b[0m93       \u001b[0m | \u001b[0m0.7867   \u001b[0m | \u001b[0m0.2973   \u001b[0m | \u001b[0m0.1754   \u001b[0m | \u001b[0m8.013    \u001b[0m | \u001b[0m0.7339   \u001b[0m | \u001b[0m98.37    \u001b[0m | \u001b[0m0.9435   \u001b[0m |\n",
            "| \u001b[0m94       \u001b[0m | \u001b[0m0.7635   \u001b[0m | \u001b[0m0.6295   \u001b[0m | \u001b[0m0.1965   \u001b[0m | \u001b[0m7.151    \u001b[0m | \u001b[0m1.06     \u001b[0m | \u001b[0m37.34    \u001b[0m | \u001b[0m0.5874   \u001b[0m |\n",
            "| \u001b[0m95       \u001b[0m | \u001b[0m0.7635   \u001b[0m | \u001b[0m0.8551   \u001b[0m | \u001b[0m0.1502   \u001b[0m | \u001b[0m8.788    \u001b[0m | \u001b[0m0.4827   \u001b[0m | \u001b[0m36.59    \u001b[0m | \u001b[0m0.7572   \u001b[0m |\n",
            "| \u001b[0m96       \u001b[0m | \u001b[0m0.7852   \u001b[0m | \u001b[0m0.5185   \u001b[0m | \u001b[0m0.1978   \u001b[0m | \u001b[0m8.188    \u001b[0m | \u001b[0m2.722    \u001b[0m | \u001b[0m26.39    \u001b[0m | \u001b[0m0.9826   \u001b[0m |\n",
            "| \u001b[0m97       \u001b[0m | \u001b[0m0.7661   \u001b[0m | \u001b[0m0.2415   \u001b[0m | \u001b[0m0.09788  \u001b[0m | \u001b[0m7.536    \u001b[0m | \u001b[0m2.452    \u001b[0m | \u001b[0m94.37    \u001b[0m | \u001b[0m0.711    \u001b[0m |\n",
            "| \u001b[0m98       \u001b[0m | \u001b[0m0.78     \u001b[0m | \u001b[0m0.6467   \u001b[0m | \u001b[0m0.2789   \u001b[0m | \u001b[0m6.575    \u001b[0m | \u001b[0m1.505    \u001b[0m | \u001b[0m21.71    \u001b[0m | \u001b[0m0.601    \u001b[0m |\n",
            "| \u001b[0m99       \u001b[0m | \u001b[0m0.7789   \u001b[0m | \u001b[0m0.3206   \u001b[0m | \u001b[0m0.1      \u001b[0m | \u001b[0m8.404    \u001b[0m | \u001b[0m0.7672   \u001b[0m | \u001b[0m79.29    \u001b[0m | \u001b[0m0.8485   \u001b[0m |\n",
            "| \u001b[0m100      \u001b[0m | \u001b[0m0.7805   \u001b[0m | \u001b[0m0.2509   \u001b[0m | \u001b[0m0.2126   \u001b[0m | \u001b[0m3.154    \u001b[0m | \u001b[0m1.099    \u001b[0m | \u001b[0m53.45    \u001b[0m | \u001b[0m0.6355   \u001b[0m |\n",
            "| \u001b[0m101      \u001b[0m | \u001b[0m0.7744   \u001b[0m | \u001b[0m0.3963   \u001b[0m | \u001b[0m0.104    \u001b[0m | \u001b[0m5.793    \u001b[0m | \u001b[0m2.603    \u001b[0m | \u001b[0m81.39    \u001b[0m | \u001b[0m0.5939   \u001b[0m |\n",
            "| \u001b[0m102      \u001b[0m | \u001b[0m0.7904   \u001b[0m | \u001b[0m0.2382   \u001b[0m | \u001b[0m0.1676   \u001b[0m | \u001b[0m3.864    \u001b[0m | \u001b[0m1.615    \u001b[0m | \u001b[0m84.54    \u001b[0m | \u001b[0m0.7207   \u001b[0m |\n",
            "=================================================================================================\n"
          ]
        }
      ],
      "source": [
        "pbounds = {'max_depth': (3, 10),\n",
        "                'learning_rate': (0.01, 0.3),\n",
        "                'n_estimators': (20,100),\n",
        "                'min_child_weight': (0, 3),\n",
        "                'subsample': (0.5, 1),\n",
        "                'colsample_bytree' :(0.2, 1)\n",
        "                }\n",
        "\n",
        "lm_bo=BayesianOptimization(f=LGBM_cv, pbounds=pbounds, verbose=2, random_state=1 )    \n",
        "\n",
        "lm_bo.maximize(init_points=2, n_iter=100)"
      ]
    },
    {
      "cell_type": "code",
      "execution_count": 22,
      "metadata": {
        "colab": {
          "base_uri": "https://localhost:8080/"
        },
        "id": "nrYAcz_njTZD",
        "outputId": "81febaca-281d-4a97-c0f1-4fc7cf9c514a"
      },
      "outputs": [
        {
          "name": "stdout",
          "output_type": "stream",
          "text": [
            "{'colsample_bytree': 0.21392451718552563, 'learning_rate': 0.10607337279022755, 'max_depth': 6.260548661935738, 'min_child_weight': 0.8612770647007086, 'n_estimators': 70.94945812283854, 'subsample': 0.6986680113586496}\n"
          ]
        }
      ],
      "source": [
        "print(lm_bo.max['params'])"
      ]
    },
    {
      "cell_type": "code",
      "execution_count": 23,
      "metadata": {
        "colab": {
          "base_uri": "https://localhost:8080/"
        },
        "id": "qLbKnecPjwAK",
        "outputId": "22921312-8b2b-45f0-9eba-ef49f30ad9b9"
      },
      "outputs": [
        {
          "name": "stdout",
          "output_type": "stream",
          "text": [
            "Accuracy:  78.05755395683454\n"
          ]
        }
      ],
      "source": [
        "param = {'colsample_bytree': 0.21392451718552563, 'learning_rate': 0.10607337279022755, 'max_depth': 6, \n",
        "         'min_child_weight': 0.8612770647007086, 'n_estimators':71, 'subsample': 0.6986680113586496}\n",
        "model = LGBMClassifier(**param)\n",
        "model.fit(x_train, y_train)\n",
        "valid_pred = model.predict(x_valid)\n",
        "accuracy = accuracy_score(y_valid, valid_pred)\n",
        "print(\"Accuracy: \", accuracy*100)"
      ]
    },
    {
      "cell_type": "code",
      "execution_count": 28,
      "metadata": {},
      "outputs": [
        {
          "data": {
            "text/plain": [
              "<AxesSubplot: title={'center': 'Feature importance'}, xlabel='Feature importance', ylabel='Features'>"
            ]
          },
          "execution_count": 28,
          "metadata": {},
          "output_type": "execute_result"
        },
        {
          "data": {
            "image/png": "[encoded data removed]",
            "text/plain": [
              "<Figure size 640x480 with 1 Axes>"
            ]
          },
          "metadata": {},
          "output_type": "display_data"
        }
      ],
      "source": [
        "plot_importance(model, max_num_features=10)"
      ]
    },
    {
      "cell_type": "markdown",
      "metadata": {},
      "source": [
        "DATA 불러오기"
      ]
    },
    {
      "cell_type": "code",
      "execution_count": 15,
      "metadata": {},
      "outputs": [],
      "source": [
        "br15 = pd.read_csv(\"/Users/ichang-ug/Documents/GitHub/esports_YSAL/LOL/Data/BR15_fix.csv\")\n",
        "di15 = pd.read_csv(\"/Users/ichang-ug/Documents/GitHub/esports_YSAL/LOL/Data/DI15_fix.csv\")\n",
        "gl15 = pd.read_csv(\"/Users/ichang-ug/Documents/GitHub/esports_YSAL/LOL/Data/GL15_fix.csv\")\n",
        "ir15 = pd.read_csv(\"/Users/ichang-ug/Documents/GitHub/esports_YSAL/LOL/Data/IR15_fix.csv\")\n",
        "pl15 = pd.read_csv(\"/Users/ichang-ug/Documents/GitHub/esports_YSAL/LOL/Data/PL15_fix.csv\")\n",
        "si15 = pd.read_csv(\"/Users/ichang-ug/Documents/GitHub/esports_YSAL/LOL/Data/SI15_fix.csv\")\n",
        "\n",
        "data15 = [ir15, br15, si15, gl15, pl15 ,di15]\n",
        "data_label = [\"ir15\", \"br15\",\"si15\", \"gl15\", \"pl15\" ,\"di15\"]"
      ]
    },
    {
      "cell_type": "code",
      "execution_count": 17,
      "metadata": {},
      "outputs": [
        {
          "name": "stdout",
          "output_type": "stream",
          "text": [
            "ir15\n",
            "Accuracy:  59.5\n",
            "br15\n",
            "Accuracy:  52.736318407960205\n",
            "si15\n",
            "Accuracy:  60.29411764705882\n",
            "gl15\n",
            "Accuracy:  51.243781094527364\n",
            "pl15\n",
            "Accuracy:  68.96551724137932\n",
            "di15\n",
            "Accuracy:  77.83251231527095\n"
          ]
        }
      ],
      "source": [
        "for i,data in enumerate(data15):\n",
        "    x_train = data.drop([\"matchMin\",\"blueWins\"], axis=1)\n",
        "    y_train = data[\"blueWins\"]\n",
        "    y_pred = model.predict(x_train)\n",
        "    accuracy = accuracy_score(y_train, y_pred)\n",
        "    print(data_label[i])\n",
        "    print(\"Accuracy: \", accuracy*100)"
      ]
    },
    {
      "cell_type": "code",
      "execution_count": null,
      "metadata": {},
      "outputs": [],
      "source": []
    }
  ],
  "metadata": {
    "colab": {
      "provenance": [],
      "toc_visible": true
    },
    "kernelspec": {
      "display_name": "Python 3",
      "name": "python3"
    },
    "language_info": {
      "codemirror_mode": {
        "name": "ipython",
        "version": 3
      },
      "file_extension": ".py",
      "mimetype": "text/x-python",
      "name": "python",
      "nbconvert_exporter": "python",
      "pygments_lexer": "ipython3",
      "version": "3.10.10"
    }
  },
  "nbformat": 4,
  "nbformat_minor": 0
}
