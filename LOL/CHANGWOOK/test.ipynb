{
 "cells": [
  {
   "cell_type": "code",
   "execution_count": 7,
   "metadata": {},
   "outputs": [],
   "source": [
    "from getLoLData import getTimelineData"
   ]
  },
  {
   "cell_type": "code",
   "execution_count": 8,
   "metadata": {},
   "outputs": [
    {
     "name": "stdout",
     "output_type": "stream",
     "text": [
      "downloading TimelineData!\n",
      "downloading matchId!\n",
      "downloading puuid!\n",
      "downloading summonerID!\n",
      "summonerId downloaded!\n"
     ]
    },
    {
     "name": "stderr",
     "output_type": "stream",
     "text": [
      " 33%|███▎      | 99/300 [00:30<00:58,  3.42it/s]"
     ]
    },
    {
     "name": "stdout",
     "output_type": "stream",
     "text": [
      "api cost full : infinite loop start\n",
      "loop location :  9jUx4YnkN4ypIwbsHeyS3LDn2WWDC2DTw4qJ14wmyE0e76Q\n",
      "try 120 second wait time\n"
     ]
    },
    {
     "name": "stderr",
     "output_type": "stream",
     "text": [
      " 33%|███▎      | 100/300 [02:30<2:01:19, 36.40s/it]"
     ]
    },
    {
     "name": "stdout",
     "output_type": "stream",
     "text": [
      "200\n",
      "total wait time : 120.28324270248413\n",
      "recovery api cost\n"
     ]
    },
    {
     "name": "stderr",
     "output_type": "stream",
     "text": [
      " 38%|███▊      | 114/300 [02:34<01:37,  1.90it/s]  "
     ]
    },
    {
     "name": "stdout",
     "output_type": "stream",
     "text": [
      "api cost full : infinite loop start\n",
      "loop location :  nwiWYYqMK4RAy1QGVMCUa2iQHBAM-_oYulC-HLP5yCT91Kk\n",
      "try 120 second wait time\n"
     ]
    },
    {
     "name": "stderr",
     "output_type": "stream",
     "text": [
      " 38%|███▊      | 115/300 [04:35<1:52:47, 36.58s/it]"
     ]
    },
    {
     "name": "stdout",
     "output_type": "stream",
     "text": [
      "200\n",
      "total wait time : 120.4726459980011\n",
      "recovery api cost\n"
     ]
    },
    {
     "name": "stderr",
     "output_type": "stream",
     "text": [
      " 55%|█████▌    | 165/300 [04:51<00:37,  3.60it/s]  "
     ]
    },
    {
     "name": "stdout",
     "output_type": "stream",
     "text": [
      "api cost full : infinite loop start\n",
      "loop location :  jfXvUhB4McSpx58bIiMLDrms28BhhWjcc-AJaG41ZbFOjg\n",
      "try 120 second wait time\n"
     ]
    }
   ],
   "source": [
    "df = getTimelineData(\"RGAPI-46815531-94e2-4eca-935a-3ecb13c0474b\", 0, 10)"
   ]
  }
 ],
 "metadata": {
  "kernelspec": {
   "display_name": "Python 3",
   "language": "python",
   "name": "python3"
  },
  "language_info": {
   "codemirror_mode": {
    "name": "ipython",
    "version": 3
   },
   "file_extension": ".py",
   "mimetype": "text/x-python",
   "name": "python",
   "nbconvert_exporter": "python",
   "pygments_lexer": "ipython3",
   "version": "3.10.10"
  },
  "orig_nbformat": 4
 },
 "nbformat": 4,
 "nbformat_minor": 2
}
