{
  "cells": [
    {
      "cell_type": "code",
      "execution_count": 9,
      "metadata": {
        "id": "PbNI67ASzatd"
      },
      "outputs": [],
      "source": [
        "import requests\n",
        "import json\n",
        "import time\n",
        "import pandas as pd\n",
        "from tqdm import tqdm\n",
        "import numpy as np\n",
        "\n",
        "api_key = \"RGAPI-634409ca-df0d-4177-880d-9e9c0930e1b8\""
      ]
    },
    {
      "cell_type": "code",
      "execution_count": 7,
      "metadata": {},
      "outputs": [
        {
          "name": "stderr",
          "output_type": "stream",
          "text": [
            " 60%|██████    | 3/5 [00:01<00:00,  2.18it/s]"
          ]
        },
        {
          "name": "stdout",
          "output_type": "stream",
          "text": [
            "Error\n"
          ]
        },
        {
          "name": "stderr",
          "output_type": "stream",
          "text": [
            "100%|██████████| 5/5 [00:02<00:00,  1.97it/s]\n"
          ]
        }
      ],
      "source": [
        "matchdata = {}\n",
        "matchwins = {}\n",
        "for i in tqdm(matchId):\n",
        "    url = \"https://asia.api.riotgames.com/lol/match/v5/matches/\"+i+\"/timeline?api_key=\"+api_key\n",
        "    r = requests.get(url)\n",
        "\n",
        "    if r.status_code ==200:\n",
        "        pass\n",
        "    elif r.status_code==429:\n",
        "        print('api cost full : infinite loop start')\n",
        "        print('loop location: ' ,i)\n",
        "        start_time=time.time()\n",
        "    \n",
        "        while True:\n",
        "            if r.status_code == 429:\n",
        "                print('try 120 second wait time')\n",
        "                time.sleep (120)\n",
        "                \n",
        "                r = requests.get (match_url)\n",
        "                print(r_match.status_code)\n",
        "            elif r.status_code == 200:\n",
        "                print('total wait time :' , time.time() - start_time)\n",
        "                print('recovery api cost')\n",
        "                break\n",
        "        \n",
        "    try:\n",
        "        matchdata[i]=r.json()['info']['frames'][10]\n",
        "        # matchwins[]\n",
        "    except:\n",
        "        print(\"Error\")\n"
      ]
    },
    {
      "cell_type": "code",
      "execution_count": 2,
      "metadata": {},
      "outputs": [
        {
          "name": "stdout",
          "output_type": "stream",
          "text": [
            "0\n",
            "1\n",
            "2\n",
            "3\n",
            "4\n",
            "5\n",
            "6\n",
            "7\n",
            "8\n",
            "9\n"
          ]
        }
      ],
      "source": [
        "for i in range(10):\n",
        "    print(i)"
      ]
    },
    {
      "cell_type": "code",
      "execution_count": 3,
      "metadata": {},
      "outputs": [],
      "source": [
        "matchId = ['KR_6416085964', 'KR_6416039783', 'KR_6416021626', 'KR_6415864679', 'KR_6415827891']"
      ]
    },
    {
      "cell_type": "code",
      "execution_count": 55,
      "metadata": {},
      "outputs": [
        {
          "name": "stdout",
          "output_type": "stream",
          "text": [
            "downloading Last Data\n"
          ]
        },
        {
          "name": "stderr",
          "output_type": "stream",
          "text": [
            "100%|██████████| 5/5 [00:02<00:00,  2.05it/s]"
          ]
        },
        {
          "name": "stdout",
          "output_type": "stream",
          "text": [
            "TimelineData downloaded!\n"
          ]
        },
        {
          "name": "stderr",
          "output_type": "stream",
          "text": [
            "\n"
          ]
        }
      ],
      "source": [
        "df = getLastData(api_key, 0)"
      ]
    },
    {
      "cell_type": "code",
      "execution_count": 56,
      "metadata": {},
      "outputs": [
        {
          "data": {
            "text/plain": [
              "'EARTH_DRAGON,HEXTECH_DRAGON,CHEMTECH_DRAGON,CHEMTECH_DRAGON'"
            ]
          },
          "execution_count": 56,
          "metadata": {},
          "output_type": "execute_result"
        }
      ],
      "source": [
        "df[\"redDragonType\"][0]"
      ]
    },
    {
      "cell_type": "code",
      "execution_count": 31,
      "metadata": {},
      "outputs": [
        {
          "name": "stdout",
          "output_type": "stream",
          "text": [
            "NO\n"
          ]
        }
      ],
      "source": [
        "h = [0,1,2]\n",
        "try:\n",
        "    h[9]\n",
        "    print(\"yes\")\n",
        "except:\n",
        "    print(\"NO\")"
      ]
    },
    {
      "cell_type": "code",
      "execution_count": 10,
      "metadata": {},
      "outputs": [],
      "source": [
        "from loldata_eda import lolDataEda"
      ]
    },
    {
      "cell_type": "code",
      "execution_count": 14,
      "metadata": {},
      "outputs": [],
      "source": [
        "lolDataEda(\"CL10\")\n"
      ]
    },
    {
      "cell_type": "code",
      "execution_count": 15,
      "metadata": {},
      "outputs": [],
      "source": [
        "lolDataEda(\"CL15\")\n",
        "lolDataEda(\"GM10\")\n",
        "lolDataEda(\"GM15\")"
      ]
    },
    {
      "cell_type": "code",
      "execution_count": 11,
      "metadata": {},
      "outputs": [],
      "source": [
        "df = pd.read_csv(\"/Users/ichang-ug/Documents/GitHub/esports_YSAL/LOL/CHANGWOOK/CL15_last_fix.csv\")"
      ]
    },
    {
      "cell_type": "code",
      "execution_count": 12,
      "metadata": {},
      "outputs": [
        {
          "data": {
            "text/html": [
              "<div>\n",
              "<style scoped>\n",
              "    .dataframe tbody tr th:only-of-type {\n",
              "        vertical-align: middle;\n",
              "    }\n",
              "\n",
              "    .dataframe tbody tr th {\n",
              "        vertical-align: top;\n",
              "    }\n",
              "\n",
              "    .dataframe thead th {\n",
              "        text-align: right;\n",
              "    }\n",
              "</style>\n",
              "<table border=\"1\" class=\"dataframe\">\n",
              "  <thead>\n",
              "    <tr style=\"text-align: right;\">\n",
              "      <th></th>\n",
              "      <th>blueWins</th>\n",
              "      <th>blueTotalGolds</th>\n",
              "      <th>blueTotalLevel</th>\n",
              "      <th>blueTotalMinionKills</th>\n",
              "      <th>blueTotalJungleMinionKills</th>\n",
              "      <th>blueTotalDamageToChampion</th>\n",
              "      <th>blueFirstBlood</th>\n",
              "      <th>blueKill</th>\n",
              "      <th>blueDeath</th>\n",
              "      <th>blueAssist</th>\n",
              "      <th>...</th>\n",
              "      <th>blueAIR_DRAGON</th>\n",
              "      <th>blueEARTH_DRAGON</th>\n",
              "      <th>blueCHEMTECH_DRAGON</th>\n",
              "      <th>blueHEXTECH_DRAGON</th>\n",
              "      <th>redWATER_DRAGON</th>\n",
              "      <th>redFIRE_DRAGON</th>\n",
              "      <th>redAIR_DRAGON</th>\n",
              "      <th>redEARTH_DRAGON</th>\n",
              "      <th>redCHEMTECH_DRAGON</th>\n",
              "      <th>redHEXTECH_DRAGON</th>\n",
              "    </tr>\n",
              "  </thead>\n",
              "  <tbody>\n",
              "    <tr>\n",
              "      <th>0</th>\n",
              "      <td>1</td>\n",
              "      <td>68345</td>\n",
              "      <td>68</td>\n",
              "      <td>821</td>\n",
              "      <td>234</td>\n",
              "      <td>133185</td>\n",
              "      <td>1</td>\n",
              "      <td>34</td>\n",
              "      <td>36</td>\n",
              "      <td>80</td>\n",
              "      <td>...</td>\n",
              "      <td>1</td>\n",
              "      <td>0</td>\n",
              "      <td>1</td>\n",
              "      <td>0</td>\n",
              "      <td>0</td>\n",
              "      <td>0</td>\n",
              "      <td>0</td>\n",
              "      <td>0</td>\n",
              "      <td>1</td>\n",
              "      <td>0</td>\n",
              "    </tr>\n",
              "    <tr>\n",
              "      <th>1</th>\n",
              "      <td>1</td>\n",
              "      <td>45134</td>\n",
              "      <td>59</td>\n",
              "      <td>572</td>\n",
              "      <td>152</td>\n",
              "      <td>82355</td>\n",
              "      <td>0</td>\n",
              "      <td>30</td>\n",
              "      <td>17</td>\n",
              "      <td>39</td>\n",
              "      <td>...</td>\n",
              "      <td>1</td>\n",
              "      <td>0</td>\n",
              "      <td>1</td>\n",
              "      <td>1</td>\n",
              "      <td>0</td>\n",
              "      <td>0</td>\n",
              "      <td>0</td>\n",
              "      <td>0</td>\n",
              "      <td>0</td>\n",
              "      <td>0</td>\n",
              "    </tr>\n",
              "    <tr>\n",
              "      <th>2</th>\n",
              "      <td>1</td>\n",
              "      <td>59883</td>\n",
              "      <td>67</td>\n",
              "      <td>672</td>\n",
              "      <td>234</td>\n",
              "      <td>112250</td>\n",
              "      <td>1</td>\n",
              "      <td>34</td>\n",
              "      <td>30</td>\n",
              "      <td>89</td>\n",
              "      <td>...</td>\n",
              "      <td>0</td>\n",
              "      <td>1</td>\n",
              "      <td>0</td>\n",
              "      <td>0</td>\n",
              "      <td>0</td>\n",
              "      <td>1</td>\n",
              "      <td>0</td>\n",
              "      <td>0</td>\n",
              "      <td>0</td>\n",
              "      <td>1</td>\n",
              "    </tr>\n",
              "    <tr>\n",
              "      <th>3</th>\n",
              "      <td>0</td>\n",
              "      <td>28396</td>\n",
              "      <td>45</td>\n",
              "      <td>445</td>\n",
              "      <td>101</td>\n",
              "      <td>32956</td>\n",
              "      <td>1</td>\n",
              "      <td>9</td>\n",
              "      <td>19</td>\n",
              "      <td>13</td>\n",
              "      <td>...</td>\n",
              "      <td>0</td>\n",
              "      <td>0</td>\n",
              "      <td>0</td>\n",
              "      <td>0</td>\n",
              "      <td>0</td>\n",
              "      <td>0</td>\n",
              "      <td>0</td>\n",
              "      <td>0</td>\n",
              "      <td>0</td>\n",
              "      <td>1</td>\n",
              "    </tr>\n",
              "    <tr>\n",
              "      <th>4</th>\n",
              "      <td>0</td>\n",
              "      <td>57451</td>\n",
              "      <td>67</td>\n",
              "      <td>741</td>\n",
              "      <td>157</td>\n",
              "      <td>102647</td>\n",
              "      <td>1</td>\n",
              "      <td>39</td>\n",
              "      <td>37</td>\n",
              "      <td>51</td>\n",
              "      <td>...</td>\n",
              "      <td>0</td>\n",
              "      <td>1</td>\n",
              "      <td>0</td>\n",
              "      <td>0</td>\n",
              "      <td>0</td>\n",
              "      <td>1</td>\n",
              "      <td>0</td>\n",
              "      <td>0</td>\n",
              "      <td>0</td>\n",
              "      <td>0</td>\n",
              "    </tr>\n",
              "    <tr>\n",
              "      <th>...</th>\n",
              "      <td>...</td>\n",
              "      <td>...</td>\n",
              "      <td>...</td>\n",
              "      <td>...</td>\n",
              "      <td>...</td>\n",
              "      <td>...</td>\n",
              "      <td>...</td>\n",
              "      <td>...</td>\n",
              "      <td>...</td>\n",
              "      <td>...</td>\n",
              "      <td>...</td>\n",
              "      <td>...</td>\n",
              "      <td>...</td>\n",
              "      <td>...</td>\n",
              "      <td>...</td>\n",
              "      <td>...</td>\n",
              "      <td>...</td>\n",
              "      <td>...</td>\n",
              "      <td>...</td>\n",
              "      <td>...</td>\n",
              "      <td>...</td>\n",
              "    </tr>\n",
              "    <tr>\n",
              "      <th>1516</th>\n",
              "      <td>1</td>\n",
              "      <td>44325</td>\n",
              "      <td>54</td>\n",
              "      <td>563</td>\n",
              "      <td>165</td>\n",
              "      <td>60656</td>\n",
              "      <td>1</td>\n",
              "      <td>28</td>\n",
              "      <td>13</td>\n",
              "      <td>40</td>\n",
              "      <td>...</td>\n",
              "      <td>0</td>\n",
              "      <td>0</td>\n",
              "      <td>0</td>\n",
              "      <td>1</td>\n",
              "      <td>1</td>\n",
              "      <td>0</td>\n",
              "      <td>0</td>\n",
              "      <td>0</td>\n",
              "      <td>0</td>\n",
              "      <td>0</td>\n",
              "    </tr>\n",
              "    <tr>\n",
              "      <th>1517</th>\n",
              "      <td>0</td>\n",
              "      <td>33987</td>\n",
              "      <td>46</td>\n",
              "      <td>485</td>\n",
              "      <td>99</td>\n",
              "      <td>44699</td>\n",
              "      <td>1</td>\n",
              "      <td>24</td>\n",
              "      <td>25</td>\n",
              "      <td>31</td>\n",
              "      <td>...</td>\n",
              "      <td>0</td>\n",
              "      <td>0</td>\n",
              "      <td>0</td>\n",
              "      <td>1</td>\n",
              "      <td>0</td>\n",
              "      <td>1</td>\n",
              "      <td>0</td>\n",
              "      <td>0</td>\n",
              "      <td>1</td>\n",
              "      <td>0</td>\n",
              "    </tr>\n",
              "    <tr>\n",
              "      <th>1518</th>\n",
              "      <td>1</td>\n",
              "      <td>42094</td>\n",
              "      <td>50</td>\n",
              "      <td>454</td>\n",
              "      <td>98</td>\n",
              "      <td>79347</td>\n",
              "      <td>1</td>\n",
              "      <td>36</td>\n",
              "      <td>14</td>\n",
              "      <td>61</td>\n",
              "      <td>...</td>\n",
              "      <td>0</td>\n",
              "      <td>0</td>\n",
              "      <td>1</td>\n",
              "      <td>0</td>\n",
              "      <td>0</td>\n",
              "      <td>0</td>\n",
              "      <td>0</td>\n",
              "      <td>0</td>\n",
              "      <td>0</td>\n",
              "      <td>1</td>\n",
              "    </tr>\n",
              "    <tr>\n",
              "      <th>1519</th>\n",
              "      <td>1</td>\n",
              "      <td>29957</td>\n",
              "      <td>43</td>\n",
              "      <td>412</td>\n",
              "      <td>102</td>\n",
              "      <td>37715</td>\n",
              "      <td>1</td>\n",
              "      <td>22</td>\n",
              "      <td>6</td>\n",
              "      <td>30</td>\n",
              "      <td>...</td>\n",
              "      <td>0</td>\n",
              "      <td>0</td>\n",
              "      <td>1</td>\n",
              "      <td>0</td>\n",
              "      <td>0</td>\n",
              "      <td>0</td>\n",
              "      <td>0</td>\n",
              "      <td>0</td>\n",
              "      <td>0</td>\n",
              "      <td>0</td>\n",
              "    </tr>\n",
              "    <tr>\n",
              "      <th>1520</th>\n",
              "      <td>0</td>\n",
              "      <td>27460</td>\n",
              "      <td>44</td>\n",
              "      <td>469</td>\n",
              "      <td>101</td>\n",
              "      <td>30780</td>\n",
              "      <td>0</td>\n",
              "      <td>7</td>\n",
              "      <td>24</td>\n",
              "      <td>8</td>\n",
              "      <td>...</td>\n",
              "      <td>0</td>\n",
              "      <td>0</td>\n",
              "      <td>0</td>\n",
              "      <td>0</td>\n",
              "      <td>0</td>\n",
              "      <td>0</td>\n",
              "      <td>1</td>\n",
              "      <td>0</td>\n",
              "      <td>1</td>\n",
              "      <td>0</td>\n",
              "    </tr>\n",
              "  </tbody>\n",
              "</table>\n",
              "<p>1521 rows × 55 columns</p>\n",
              "</div>"
            ],
            "text/plain": [
              "      blueWins  blueTotalGolds  blueTotalLevel  blueTotalMinionKills  \\\n",
              "0            1           68345              68                   821   \n",
              "1            1           45134              59                   572   \n",
              "2            1           59883              67                   672   \n",
              "3            0           28396              45                   445   \n",
              "4            0           57451              67                   741   \n",
              "...        ...             ...             ...                   ...   \n",
              "1516         1           44325              54                   563   \n",
              "1517         0           33987              46                   485   \n",
              "1518         1           42094              50                   454   \n",
              "1519         1           29957              43                   412   \n",
              "1520         0           27460              44                   469   \n",
              "\n",
              "      blueTotalJungleMinionKills  blueTotalDamageToChampion  blueFirstBlood  \\\n",
              "0                            234                     133185               1   \n",
              "1                            152                      82355               0   \n",
              "2                            234                     112250               1   \n",
              "3                            101                      32956               1   \n",
              "4                            157                     102647               1   \n",
              "...                          ...                        ...             ...   \n",
              "1516                         165                      60656               1   \n",
              "1517                          99                      44699               1   \n",
              "1518                          98                      79347               1   \n",
              "1519                         102                      37715               1   \n",
              "1520                         101                      30780               0   \n",
              "\n",
              "      blueKill  blueDeath  blueAssist  ...  blueAIR_DRAGON  blueEARTH_DRAGON  \\\n",
              "0           34         36          80  ...               1                 0   \n",
              "1           30         17          39  ...               1                 0   \n",
              "2           34         30          89  ...               0                 1   \n",
              "3            9         19          13  ...               0                 0   \n",
              "4           39         37          51  ...               0                 1   \n",
              "...        ...        ...         ...  ...             ...               ...   \n",
              "1516        28         13          40  ...               0                 0   \n",
              "1517        24         25          31  ...               0                 0   \n",
              "1518        36         14          61  ...               0                 0   \n",
              "1519        22          6          30  ...               0                 0   \n",
              "1520         7         24           8  ...               0                 0   \n",
              "\n",
              "      blueCHEMTECH_DRAGON  blueHEXTECH_DRAGON  redWATER_DRAGON  \\\n",
              "0                       1                   0                0   \n",
              "1                       1                   1                0   \n",
              "2                       0                   0                0   \n",
              "3                       0                   0                0   \n",
              "4                       0                   0                0   \n",
              "...                   ...                 ...              ...   \n",
              "1516                    0                   1                1   \n",
              "1517                    0                   1                0   \n",
              "1518                    1                   0                0   \n",
              "1519                    1                   0                0   \n",
              "1520                    0                   0                0   \n",
              "\n",
              "      redFIRE_DRAGON  redAIR_DRAGON  redEARTH_DRAGON  redCHEMTECH_DRAGON  \\\n",
              "0                  0              0                0                   1   \n",
              "1                  0              0                0                   0   \n",
              "2                  1              0                0                   0   \n",
              "3                  0              0                0                   0   \n",
              "4                  1              0                0                   0   \n",
              "...              ...            ...              ...                 ...   \n",
              "1516               0              0                0                   0   \n",
              "1517               1              0                0                   1   \n",
              "1518               0              0                0                   0   \n",
              "1519               0              0                0                   0   \n",
              "1520               0              1                0                   1   \n",
              "\n",
              "      redHEXTECH_DRAGON  \n",
              "0                     0  \n",
              "1                     0  \n",
              "2                     1  \n",
              "3                     1  \n",
              "4                     0  \n",
              "...                 ...  \n",
              "1516                  0  \n",
              "1517                  0  \n",
              "1518                  1  \n",
              "1519                  0  \n",
              "1520                  0  \n",
              "\n",
              "[1521 rows x 55 columns]"
            ]
          },
          "execution_count": 12,
          "metadata": {},
          "output_type": "execute_result"
        }
      ],
      "source": [
        "df"
      ]
    },
    {
      "cell_type": "code",
      "execution_count": 10,
      "metadata": {},
      "outputs": [],
      "source": [
        "url=\"https://kr.api.riotgames.com/lol/league/v4/entries/RANKED_SOLO_5x5/DIAMOND/III?page=1&api_key=\" + api_key"
      ]
    },
    {
      "cell_type": "code",
      "execution_count": 11,
      "metadata": {},
      "outputs": [
        {
          "name": "stdout",
          "output_type": "stream",
          "text": [
            "나는동네북이라네\n",
            "건학이\n",
            "llIIIllIlllIlIl\n",
            "jikbakgurl\n",
            "펜타닐마약바니걸\n",
            "나나나눈누\n",
            "리아쥬아\n",
            "해가 아름다웠어\n",
            "W1NGMAN\n",
            "누나 제발\n",
            "프로응애러\n",
            "Seasons Change\n",
            "숟가락 정점\n",
            "닉값제데로함\n",
            "벌레들과 춤을\n",
            "땡스기빙데이\n",
            "쌍쌍쌍\n",
            "심신비정상인\n",
            "족밥처럼 굴지마\n",
            "김홍순3\n",
            "Chovy 팬입니다\n",
            "싸우고싶다\n",
            "눈 예뻐지고 시포\n",
            "PIXELNU\n",
            "누수액\n",
            "KOR961010\n",
            "탱커챔\n",
            "작은 미어캣\n",
            "진짜 못참겠는데\n",
            "하이 눈 김주호\n",
            "다이아들다주거\n",
            "천국에서 온 자\n",
            "Mannim2\n",
            "비정상적인 팀운\n",
            "싸발연이\n",
            "Eqecx\n",
            "야옹야옹송아지\n",
            "상어 코 때리기\n",
            "마산 조루왕\n",
            "세화여고 이요원\n",
            "SEK4\n",
            "나는할수있습니다\n",
            "생 혼\n",
            "뚜 딴\n",
            "쥐종대왕\n",
            "llllIIIIIllllll\n",
            "원천징수영끌7천\n",
            "이응빡\n",
            "데마시아 컷\n",
            "23년생원딜러\n",
            "tlswlemwkddls\n",
            "zl존Er락DARK왕\n",
            "Karsc\n",
            "배고파요헝그리\n",
            "bixin32567904\n",
            "잠시만놀게\n",
            "Round One\n",
            "폭유 정욱\n",
            "그 총\n",
            "말걸지마라잡종\n",
            "오뚜기300분미트볼\n",
            "5코3성람머스\n",
            "깽 랑\n",
            "뭘그래뻐이보노\n",
            "이재명식 누누\n",
            "얼굴완전작음\n",
            "jiumeng\n",
            "Park Shin Won\n",
            "FA Silky\n",
            "마스터이금비\n",
            "채원이귀엽지\n",
            "겜에정떨어진사람\n",
            "샨테비스탄\n",
            "빨간색banana\n",
            "백 산\n",
            "HappY Game DotaX\n",
            "TES99\n",
            "암살자가요\n",
            "재능의 개화\n",
            "뚱녀만골라팬다\n",
            "잘했써\n",
            "코르키개안좋음\n",
            "이렇게까지해야하\n",
            "체리콕도둑\n",
            "저어어엉글러\n",
            "똥  뿌  직\n",
            "kr7\n",
            "허쉬초코토네이도\n",
            "상호리\n",
            "꼬시기만지는유현\n",
            "FreeBro\n",
            "낮잠zz\n",
            "먹던콩\n",
            "탑라인만가는사람\n",
            "와두콩\n",
            "돌진완\n",
            "쥬지튼튼영운이\n",
            "Rebirth Cookie\n",
            "겨울을 기다려요\n",
            "Dramaturgy\n",
            "이동혓\n",
            "해물탕수육\n",
            "땅진이입니다\n",
            "귤 킹\n",
            "겨울엔 찬물\n",
            "껸과류\n",
            "빈둥빙둥\n",
            "임영록\n",
            "자지잡놈\n",
            "건들면터지는원딜\n",
            "두엔날드자두\n",
            "푸욜뿌욜\n",
            "단대미쳐패는놈\n",
            "상호민교뜨뜨\n",
            "화약통 대신 딱콩\n",
            "리아리토\n",
            "이즈잡아주세요\n",
            "가나다나가나다나\n",
            "커리맛 똥\n",
            "빡치면 너도하셈\n",
            "IGOLNIK\n",
            "그님 티 모요\n",
            "숯불돼지고기\n",
            "강프로식사잡숴써\n",
            "성민치\n",
            "최 효 팔\n",
            "약속된승리의검\n",
            "By사탕막대\n",
            "봉담쭈니\n",
            "prideofmyparents\n",
            "윤태준2번째계정\n",
            "천하의 정글러\n",
            "포챠나 인형\n",
            "나답게\n",
            "무관귀1신\n",
            "평화공원\n",
            "자크 베놈\n",
            "구데기킬러\n",
            "동 빙\n",
            "도토리비빔막국수\n",
            "실패한 삶의 남자\n",
            "레드보리\n",
            "yangfanchuhai\n",
            "비응신도구\n",
            "Seopport\n",
            "전지적르블랑시점\n",
            "낭만없는\n",
            "이대론안돼\n",
            "벌 헤는 밤\n",
            "여왕의 진가\n",
            "뚱스라이팅\n",
            "김재환3\n",
            "인천동양동불주먹\n",
            "열정 그리고 냉정\n",
            "anycoloryoulike\n",
            "붉은 너구리\n",
            "원딜벽느낀사람\n",
            "상남자 권혁\n",
            "이화시장두번째집\n",
            "y3n\n",
            "차광선글라스\n",
            "폐관수련다시시작\n",
            "진심모드 반수민\n",
            "Ie0 messi\n",
            "오홍영입니다\n",
            "립 스\n",
            "유빈이 지켜 줘\n",
            "용현핸섬\n",
            "리신머가리\n",
            "엠 돌\n",
            "잠실여고 수아\n",
            "첫판노갱\n",
            "갈비굽는장인\n",
            "Imagine that\n",
            "T1 김예원\n",
            "Solace\n",
            "밥음복\n",
            "syrahW\n",
            "아이오니아\n",
            "채팅게임 롤\n",
            "23년4월24일와라\n",
            "나쁜하루보내세요\n",
            "cs에민감한사람\n",
            "a1dc\n",
            "혼자자요\n",
            "조 쯩\n",
            "신형만fan\n",
            "2007 10 12\n",
            "참을라\n",
            "캣뽀즈\n",
            "Valh4lla\n",
            "곽두팔남친\n",
            "아이러브유\n",
            "어리둥절엉망진창\n",
            "플레티넘 망나니\n",
            "안가싫어부르지마\n",
            "lllIlIIlIlIIl\n",
            "골통분쇄자류성현\n",
            "잘해보고 싶은데\n",
            "세우스입니다\n",
            "첫눈에 그대와\n",
            "덜비빈비빕밥\n",
            "퀴여운코콤미\n",
            "노유미 노브라움\n",
            "zsxcasdasd\n"
          ]
        }
      ],
      "source": [
        "r = requests.get(url)\n",
        "r = r.json()\n",
        "for i in r:\n",
        "    print(i['summonerName'])"
      ]
    },
    {
      "cell_type": "code",
      "execution_count": 14,
      "metadata": {},
      "outputs": [
        {
          "name": "stdout",
          "output_type": "stream",
          "text": [
            "{'status': {'message': 'Forbidden', 'status_code': 403}}\n"
          ]
        }
      ],
      "source": [
        "print(r)"
      ]
    },
    {
      "cell_type": "code",
      "execution_count": 2,
      "metadata": {},
      "outputs": [],
      "source": [
        "import getLoLData2"
      ]
    },
    {
      "cell_type": "code",
      "execution_count": 14,
      "metadata": {},
      "outputs": [
        {
          "name": "stdout",
          "output_type": "stream",
          "text": [
            "downloading summonerID!\n",
            "summonerId downloaded!\n",
            "downloading puuid!\n"
          ]
        },
        {
          "name": "stderr",
          "output_type": "stream",
          "text": [
            " 47%|████▋     | 96/205 [01:00<01:02,  1.74it/s]"
          ]
        },
        {
          "name": "stdout",
          "output_type": "stream",
          "text": [
            "api cost full : infinite loop start\n",
            "loop location :  _7FPqJKvmw9Q_IZFkR__snhwQ7Spp8G8pZgtc44oJtoUgORe\n",
            "try 120 second wait time\n"
          ]
        },
        {
          "name": "stderr",
          "output_type": "stream",
          "text": [
            " 47%|████▋     | 97/205 [03:01<1:06:19, 36.85s/it]"
          ]
        },
        {
          "name": "stdout",
          "output_type": "stream",
          "text": [
            "200\n",
            "total wait time : 120.5239770412445\n",
            "recovery api cost\n"
          ]
        },
        {
          "name": "stderr",
          "output_type": "stream",
          "text": [
            " 96%|█████████▌| 196/205 [03:50<00:04,  1.87it/s] "
          ]
        },
        {
          "name": "stdout",
          "output_type": "stream",
          "text": [
            "api cost full : infinite loop start\n",
            "loop location :  qYY_8f9ctyDngvdw5rFvHCdZOM7oML_fM3aNFjPAUC-4-SRT\n",
            "try 120 second wait time\n"
          ]
        },
        {
          "name": "stderr",
          "output_type": "stream",
          "text": [
            " 96%|█████████▌| 197/205 [05:52<04:54, 36.83s/it]"
          ]
        },
        {
          "name": "stdout",
          "output_type": "stream",
          "text": [
            "200\n",
            "total wait time : 121.11199998855591\n",
            "recovery api cost\n"
          ]
        },
        {
          "name": "stderr",
          "output_type": "stream",
          "text": [
            "100%|██████████| 205/205 [05:56<00:00,  1.74s/it]\n"
          ]
        },
        {
          "name": "stdout",
          "output_type": "stream",
          "text": [
            "puuid downloaded!\n",
            "downloading matchId!\n"
          ]
        },
        {
          "name": "stderr",
          "output_type": "stream",
          "text": [
            " 49%|████▉     | 100/205 [00:57<00:38,  2.76it/s]"
          ]
        },
        {
          "name": "stdout",
          "output_type": "stream",
          "text": [
            "api cost full : infinite loop start\n",
            "loop location:  OdGyn47Ug7qhntWvjaY-rQb0mhpfd2c-2LCOQzjXHFYTf_VzLzhbHqWKHA87K5NX93r0MsgkvrIVgA\n",
            "try 120 second wait time\n"
          ]
        },
        {
          "name": "stderr",
          "output_type": "stream",
          "text": [
            " 49%|████▉     | 101/205 [02:58<1:03:17, 36.52s/it]"
          ]
        },
        {
          "name": "stdout",
          "output_type": "stream",
          "text": [
            "200\n",
            "total wait time : 120.47443914413452\n",
            "recovery api cost\n"
          ]
        },
        {
          "name": "stderr",
          "output_type": "stream",
          "text": [
            " 98%|█████████▊| 200/205 [03:55<00:03,  1.46it/s]  "
          ]
        },
        {
          "name": "stdout",
          "output_type": "stream",
          "text": [
            "api cost full : infinite loop start\n",
            "loop location:  hwGm1NO7HJbgVfJMrJL2EonKPMXM8sfFfQHrsBmnei35EWpiKDeldJeBZlvVv6OyXA7BUn0jeLHMCw\n",
            "try 120 second wait time\n"
          ]
        },
        {
          "name": "stderr",
          "output_type": "stream",
          "text": [
            " 98%|█████████▊| 201/205 [05:57<02:27, 36.89s/it]"
          ]
        },
        {
          "name": "stdout",
          "output_type": "stream",
          "text": [
            "200\n",
            "total wait time : 120.76224708557129\n",
            "recovery api cost\n"
          ]
        },
        {
          "name": "stderr",
          "output_type": "stream",
          "text": [
            "100%|██████████| 205/205 [06:00<00:00,  1.76s/it]\n"
          ]
        },
        {
          "name": "stdout",
          "output_type": "stream",
          "text": [
            "matchId downloaded!\n",
            "downloading TimelineData!\n"
          ]
        },
        {
          "name": "stderr",
          "output_type": "stream",
          "text": [
            " 46%|████▋     | 95/205 [01:21<01:16,  1.43it/s]"
          ]
        },
        {
          "name": "stdout",
          "output_type": "stream",
          "text": [
            "api cost full : infinite loop start\n",
            "loop location :  95\n",
            "try 120 second wait time\n"
          ]
        },
        {
          "name": "stderr",
          "output_type": "stream",
          "text": [
            " 47%|████▋     | 96/205 [03:23<1:07:42, 37.27s/it]"
          ]
        },
        {
          "name": "stdout",
          "output_type": "stream",
          "text": [
            "200\n",
            "total wait time :  122.3023419380188\n",
            "recovery api cost\n"
          ]
        },
        {
          "name": "stderr",
          "output_type": "stream",
          "text": [
            " 95%|█████████▌| 195/205 [04:39<00:06,  1.54it/s] "
          ]
        },
        {
          "name": "stdout",
          "output_type": "stream",
          "text": [
            "api cost full : infinite loop start\n",
            "loop location :  195\n",
            "try 120 second wait time\n"
          ]
        },
        {
          "name": "stderr",
          "output_type": "stream",
          "text": [
            " 96%|█████████▌| 196/205 [06:42<05:37, 37.45s/it]"
          ]
        },
        {
          "name": "stdout",
          "output_type": "stream",
          "text": [
            "200\n",
            "total wait time :  122.63534903526306\n",
            "recovery api cost\n"
          ]
        },
        {
          "name": "stderr",
          "output_type": "stream",
          "text": [
            "100%|██████████| 205/205 [06:50<00:00,  2.00s/it]"
          ]
        },
        {
          "name": "stdout",
          "output_type": "stream",
          "text": [
            "TimelineData downloaded!\n"
          ]
        },
        {
          "name": "stderr",
          "output_type": "stream",
          "text": [
            "\n"
          ]
        }
      ],
      "source": [
        "df = getLoLData2.getTimelineData(api_key, 4,15)\n",
        "df.to_csv(\"/Users/ichang-ug/Documents/GitHub/esports_YSAL/LOL/Data/PL_15.csv\")"
      ]
    },
    {
      "cell_type": "code",
      "execution_count": null,
      "metadata": {},
      "outputs": [],
      "source": []
    }
  ],
  "metadata": {
    "colab": {
      "provenance": []
    },
    "kernelspec": {
      "display_name": "Python 3",
      "name": "python3"
    },
    "language_info": {
      "codemirror_mode": {
        "name": "ipython",
        "version": 3
      },
      "file_extension": ".py",
      "mimetype": "text/x-python",
      "name": "python",
      "nbconvert_exporter": "python",
      "pygments_lexer": "ipython3",
      "version": "3.10.10"
    }
  },
  "nbformat": 4,
  "nbformat_minor": 0
}
