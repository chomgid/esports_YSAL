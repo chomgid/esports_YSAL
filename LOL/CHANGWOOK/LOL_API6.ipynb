{
  "cells": [
    {
      "cell_type": "code",
      "execution_count": 1,
      "metadata": {
        "id": "PbNI67ASzatd"
      },
      "outputs": [],
      "source": [
        "import requests\n",
        "import json\n",
        "import time\n",
        "import pandas as pd\n",
        "from tqdm import tqdm\n",
        "import numpy as np\n",
        "\n",
        "api_key = \"RGAPI-def75b24-3914-4a63-83e3-8bfd24f2c617\""
      ]
    },
    {
      "cell_type": "code",
      "execution_count": 7,
      "metadata": {},
      "outputs": [
        {
          "name": "stderr",
          "output_type": "stream",
          "text": [
            " 60%|██████    | 3/5 [00:01<00:00,  2.18it/s]"
          ]
        },
        {
          "name": "stdout",
          "output_type": "stream",
          "text": [
            "Error\n"
          ]
        },
        {
          "name": "stderr",
          "output_type": "stream",
          "text": [
            "100%|██████████| 5/5 [00:02<00:00,  1.97it/s]\n"
          ]
        }
      ],
      "source": [
        "matchdata = {}\n",
        "matchwins = {}\n",
        "for i in tqdm(matchId):\n",
        "    url = \"https://asia.api.riotgames.com/lol/match/v5/matches/\"+i+\"/timeline?api_key=\"+api_key\n",
        "    r = requests.get(url)\n",
        "\n",
        "    if r.status_code ==200:\n",
        "        pass\n",
        "    elif r.status_code==429:\n",
        "        print('api cost full : infinite loop start')\n",
        "        print('loop location: ' ,i)\n",
        "        start_time=time.time()\n",
        "    \n",
        "        while True:\n",
        "            if r.status_code == 429:\n",
        "                print('try 120 second wait time')\n",
        "                time.sleep (120)\n",
        "                \n",
        "                r = requests.get (match_url)\n",
        "                print(r_match.status_code)\n",
        "            elif r.status_code == 200:\n",
        "                print('total wait time :' , time.time() - start_time)\n",
        "                print('recovery api cost')\n",
        "                break\n",
        "        \n",
        "    try:\n",
        "        matchdata[i]=r.json()['info']['frames'][10]\n",
        "        # matchwins[]\n",
        "    except:\n",
        "        print(\"Error\")\n"
      ]
    },
    {
      "cell_type": "code",
      "execution_count": 2,
      "metadata": {},
      "outputs": [
        {
          "name": "stdout",
          "output_type": "stream",
          "text": [
            "0\n",
            "1\n",
            "2\n",
            "3\n",
            "4\n",
            "5\n",
            "6\n",
            "7\n",
            "8\n",
            "9\n"
          ]
        }
      ],
      "source": [
        "for i in range(10):\n",
        "    print(i)"
      ]
    },
    {
      "cell_type": "code",
      "execution_count": 3,
      "metadata": {},
      "outputs": [],
      "source": [
        "matchId = ['KR_6416085964', 'KR_6416039783', 'KR_6416021626', 'KR_6415864679', 'KR_6415827891']"
      ]
    },
    {
      "cell_type": "code",
      "execution_count": 55,
      "metadata": {},
      "outputs": [
        {
          "name": "stdout",
          "output_type": "stream",
          "text": [
            "downloading Last Data\n"
          ]
        },
        {
          "name": "stderr",
          "output_type": "stream",
          "text": [
            "100%|██████████| 5/5 [00:02<00:00,  2.05it/s]"
          ]
        },
        {
          "name": "stdout",
          "output_type": "stream",
          "text": [
            "TimelineData downloaded!\n"
          ]
        },
        {
          "name": "stderr",
          "output_type": "stream",
          "text": [
            "\n"
          ]
        }
      ],
      "source": [
        "df = getLastData(api_key, 0)"
      ]
    },
    {
      "cell_type": "code",
      "execution_count": 56,
      "metadata": {},
      "outputs": [
        {
          "data": {
            "text/plain": [
              "'EARTH_DRAGON,HEXTECH_DRAGON,CHEMTECH_DRAGON,CHEMTECH_DRAGON'"
            ]
          },
          "execution_count": 56,
          "metadata": {},
          "output_type": "execute_result"
        }
      ],
      "source": [
        "df[\"redDragonType\"][0]"
      ]
    },
    {
      "cell_type": "code",
      "execution_count": 31,
      "metadata": {},
      "outputs": [
        {
          "name": "stdout",
          "output_type": "stream",
          "text": [
            "NO\n"
          ]
        }
      ],
      "source": [
        "h = [0,1,2]\n",
        "try:\n",
        "    h[9]\n",
        "    print(\"yes\")\n",
        "except:\n",
        "    print(\"NO\")"
      ]
    },
    {
      "cell_type": "code",
      "execution_count": 10,
      "metadata": {},
      "outputs": [],
      "source": [
        "from loldata_eda import lolDataEda"
      ]
    },
    {
      "cell_type": "code",
      "execution_count": 14,
      "metadata": {},
      "outputs": [],
      "source": [
        "lolDataEda(\"CL10\")\n"
      ]
    },
    {
      "cell_type": "code",
      "execution_count": 15,
      "metadata": {},
      "outputs": [],
      "source": [
        "lolDataEda(\"CL15\")\n",
        "lolDataEda(\"GM10\")\n",
        "lolDataEda(\"GM15\")"
      ]
    },
    {
      "cell_type": "code",
      "execution_count": 11,
      "metadata": {},
      "outputs": [],
      "source": [
        "df = pd.read_csv(\"/Users/ichang-ug/Documents/GitHub/esports_YSAL/LOL/CHANGWOOK/CL15_last_fix.csv\")"
      ]
    },
    {
      "cell_type": "code",
      "execution_count": 12,
      "metadata": {},
      "outputs": [
        {
          "data": {
            "text/html": [
              "<div>\n",
              "<style scoped>\n",
              "    .dataframe tbody tr th:only-of-type {\n",
              "        vertical-align: middle;\n",
              "    }\n",
              "\n",
              "    .dataframe tbody tr th {\n",
              "        vertical-align: top;\n",
              "    }\n",
              "\n",
              "    .dataframe thead th {\n",
              "        text-align: right;\n",
              "    }\n",
              "</style>\n",
              "<table border=\"1\" class=\"dataframe\">\n",
              "  <thead>\n",
              "    <tr style=\"text-align: right;\">\n",
              "      <th></th>\n",
              "      <th>blueWins</th>\n",
              "      <th>blueTotalGolds</th>\n",
              "      <th>blueTotalLevel</th>\n",
              "      <th>blueTotalMinionKills</th>\n",
              "      <th>blueTotalJungleMinionKills</th>\n",
              "      <th>blueTotalDamageToChampion</th>\n",
              "      <th>blueFirstBlood</th>\n",
              "      <th>blueKill</th>\n",
              "      <th>blueDeath</th>\n",
              "      <th>blueAssist</th>\n",
              "      <th>...</th>\n",
              "      <th>blueAIR_DRAGON</th>\n",
              "      <th>blueEARTH_DRAGON</th>\n",
              "      <th>blueCHEMTECH_DRAGON</th>\n",
              "      <th>blueHEXTECH_DRAGON</th>\n",
              "      <th>redWATER_DRAGON</th>\n",
              "      <th>redFIRE_DRAGON</th>\n",
              "      <th>redAIR_DRAGON</th>\n",
              "      <th>redEARTH_DRAGON</th>\n",
              "      <th>redCHEMTECH_DRAGON</th>\n",
              "      <th>redHEXTECH_DRAGON</th>\n",
              "    </tr>\n",
              "  </thead>\n",
              "  <tbody>\n",
              "    <tr>\n",
              "      <th>0</th>\n",
              "      <td>1</td>\n",
              "      <td>68345</td>\n",
              "      <td>68</td>\n",
              "      <td>821</td>\n",
              "      <td>234</td>\n",
              "      <td>133185</td>\n",
              "      <td>1</td>\n",
              "      <td>34</td>\n",
              "      <td>36</td>\n",
              "      <td>80</td>\n",
              "      <td>...</td>\n",
              "      <td>1</td>\n",
              "      <td>0</td>\n",
              "      <td>1</td>\n",
              "      <td>0</td>\n",
              "      <td>0</td>\n",
              "      <td>0</td>\n",
              "      <td>0</td>\n",
              "      <td>0</td>\n",
              "      <td>1</td>\n",
              "      <td>0</td>\n",
              "    </tr>\n",
              "    <tr>\n",
              "      <th>1</th>\n",
              "      <td>1</td>\n",
              "      <td>45134</td>\n",
              "      <td>59</td>\n",
              "      <td>572</td>\n",
              "      <td>152</td>\n",
              "      <td>82355</td>\n",
              "      <td>0</td>\n",
              "      <td>30</td>\n",
              "      <td>17</td>\n",
              "      <td>39</td>\n",
              "      <td>...</td>\n",
              "      <td>1</td>\n",
              "      <td>0</td>\n",
              "      <td>1</td>\n",
              "      <td>1</td>\n",
              "      <td>0</td>\n",
              "      <td>0</td>\n",
              "      <td>0</td>\n",
              "      <td>0</td>\n",
              "      <td>0</td>\n",
              "      <td>0</td>\n",
              "    </tr>\n",
              "    <tr>\n",
              "      <th>2</th>\n",
              "      <td>1</td>\n",
              "      <td>59883</td>\n",
              "      <td>67</td>\n",
              "      <td>672</td>\n",
              "      <td>234</td>\n",
              "      <td>112250</td>\n",
              "      <td>1</td>\n",
              "      <td>34</td>\n",
              "      <td>30</td>\n",
              "      <td>89</td>\n",
              "      <td>...</td>\n",
              "      <td>0</td>\n",
              "      <td>1</td>\n",
              "      <td>0</td>\n",
              "      <td>0</td>\n",
              "      <td>0</td>\n",
              "      <td>1</td>\n",
              "      <td>0</td>\n",
              "      <td>0</td>\n",
              "      <td>0</td>\n",
              "      <td>1</td>\n",
              "    </tr>\n",
              "    <tr>\n",
              "      <th>3</th>\n",
              "      <td>0</td>\n",
              "      <td>28396</td>\n",
              "      <td>45</td>\n",
              "      <td>445</td>\n",
              "      <td>101</td>\n",
              "      <td>32956</td>\n",
              "      <td>1</td>\n",
              "      <td>9</td>\n",
              "      <td>19</td>\n",
              "      <td>13</td>\n",
              "      <td>...</td>\n",
              "      <td>0</td>\n",
              "      <td>0</td>\n",
              "      <td>0</td>\n",
              "      <td>0</td>\n",
              "      <td>0</td>\n",
              "      <td>0</td>\n",
              "      <td>0</td>\n",
              "      <td>0</td>\n",
              "      <td>0</td>\n",
              "      <td>1</td>\n",
              "    </tr>\n",
              "    <tr>\n",
              "      <th>4</th>\n",
              "      <td>0</td>\n",
              "      <td>57451</td>\n",
              "      <td>67</td>\n",
              "      <td>741</td>\n",
              "      <td>157</td>\n",
              "      <td>102647</td>\n",
              "      <td>1</td>\n",
              "      <td>39</td>\n",
              "      <td>37</td>\n",
              "      <td>51</td>\n",
              "      <td>...</td>\n",
              "      <td>0</td>\n",
              "      <td>1</td>\n",
              "      <td>0</td>\n",
              "      <td>0</td>\n",
              "      <td>0</td>\n",
              "      <td>1</td>\n",
              "      <td>0</td>\n",
              "      <td>0</td>\n",
              "      <td>0</td>\n",
              "      <td>0</td>\n",
              "    </tr>\n",
              "    <tr>\n",
              "      <th>...</th>\n",
              "      <td>...</td>\n",
              "      <td>...</td>\n",
              "      <td>...</td>\n",
              "      <td>...</td>\n",
              "      <td>...</td>\n",
              "      <td>...</td>\n",
              "      <td>...</td>\n",
              "      <td>...</td>\n",
              "      <td>...</td>\n",
              "      <td>...</td>\n",
              "      <td>...</td>\n",
              "      <td>...</td>\n",
              "      <td>...</td>\n",
              "      <td>...</td>\n",
              "      <td>...</td>\n",
              "      <td>...</td>\n",
              "      <td>...</td>\n",
              "      <td>...</td>\n",
              "      <td>...</td>\n",
              "      <td>...</td>\n",
              "      <td>...</td>\n",
              "    </tr>\n",
              "    <tr>\n",
              "      <th>1516</th>\n",
              "      <td>1</td>\n",
              "      <td>44325</td>\n",
              "      <td>54</td>\n",
              "      <td>563</td>\n",
              "      <td>165</td>\n",
              "      <td>60656</td>\n",
              "      <td>1</td>\n",
              "      <td>28</td>\n",
              "      <td>13</td>\n",
              "      <td>40</td>\n",
              "      <td>...</td>\n",
              "      <td>0</td>\n",
              "      <td>0</td>\n",
              "      <td>0</td>\n",
              "      <td>1</td>\n",
              "      <td>1</td>\n",
              "      <td>0</td>\n",
              "      <td>0</td>\n",
              "      <td>0</td>\n",
              "      <td>0</td>\n",
              "      <td>0</td>\n",
              "    </tr>\n",
              "    <tr>\n",
              "      <th>1517</th>\n",
              "      <td>0</td>\n",
              "      <td>33987</td>\n",
              "      <td>46</td>\n",
              "      <td>485</td>\n",
              "      <td>99</td>\n",
              "      <td>44699</td>\n",
              "      <td>1</td>\n",
              "      <td>24</td>\n",
              "      <td>25</td>\n",
              "      <td>31</td>\n",
              "      <td>...</td>\n",
              "      <td>0</td>\n",
              "      <td>0</td>\n",
              "      <td>0</td>\n",
              "      <td>1</td>\n",
              "      <td>0</td>\n",
              "      <td>1</td>\n",
              "      <td>0</td>\n",
              "      <td>0</td>\n",
              "      <td>1</td>\n",
              "      <td>0</td>\n",
              "    </tr>\n",
              "    <tr>\n",
              "      <th>1518</th>\n",
              "      <td>1</td>\n",
              "      <td>42094</td>\n",
              "      <td>50</td>\n",
              "      <td>454</td>\n",
              "      <td>98</td>\n",
              "      <td>79347</td>\n",
              "      <td>1</td>\n",
              "      <td>36</td>\n",
              "      <td>14</td>\n",
              "      <td>61</td>\n",
              "      <td>...</td>\n",
              "      <td>0</td>\n",
              "      <td>0</td>\n",
              "      <td>1</td>\n",
              "      <td>0</td>\n",
              "      <td>0</td>\n",
              "      <td>0</td>\n",
              "      <td>0</td>\n",
              "      <td>0</td>\n",
              "      <td>0</td>\n",
              "      <td>1</td>\n",
              "    </tr>\n",
              "    <tr>\n",
              "      <th>1519</th>\n",
              "      <td>1</td>\n",
              "      <td>29957</td>\n",
              "      <td>43</td>\n",
              "      <td>412</td>\n",
              "      <td>102</td>\n",
              "      <td>37715</td>\n",
              "      <td>1</td>\n",
              "      <td>22</td>\n",
              "      <td>6</td>\n",
              "      <td>30</td>\n",
              "      <td>...</td>\n",
              "      <td>0</td>\n",
              "      <td>0</td>\n",
              "      <td>1</td>\n",
              "      <td>0</td>\n",
              "      <td>0</td>\n",
              "      <td>0</td>\n",
              "      <td>0</td>\n",
              "      <td>0</td>\n",
              "      <td>0</td>\n",
              "      <td>0</td>\n",
              "    </tr>\n",
              "    <tr>\n",
              "      <th>1520</th>\n",
              "      <td>0</td>\n",
              "      <td>27460</td>\n",
              "      <td>44</td>\n",
              "      <td>469</td>\n",
              "      <td>101</td>\n",
              "      <td>30780</td>\n",
              "      <td>0</td>\n",
              "      <td>7</td>\n",
              "      <td>24</td>\n",
              "      <td>8</td>\n",
              "      <td>...</td>\n",
              "      <td>0</td>\n",
              "      <td>0</td>\n",
              "      <td>0</td>\n",
              "      <td>0</td>\n",
              "      <td>0</td>\n",
              "      <td>0</td>\n",
              "      <td>1</td>\n",
              "      <td>0</td>\n",
              "      <td>1</td>\n",
              "      <td>0</td>\n",
              "    </tr>\n",
              "  </tbody>\n",
              "</table>\n",
              "<p>1521 rows × 55 columns</p>\n",
              "</div>"
            ],
            "text/plain": [
              "      blueWins  blueTotalGolds  blueTotalLevel  blueTotalMinionKills  \\\n",
              "0            1           68345              68                   821   \n",
              "1            1           45134              59                   572   \n",
              "2            1           59883              67                   672   \n",
              "3            0           28396              45                   445   \n",
              "4            0           57451              67                   741   \n",
              "...        ...             ...             ...                   ...   \n",
              "1516         1           44325              54                   563   \n",
              "1517         0           33987              46                   485   \n",
              "1518         1           42094              50                   454   \n",
              "1519         1           29957              43                   412   \n",
              "1520         0           27460              44                   469   \n",
              "\n",
              "      blueTotalJungleMinionKills  blueTotalDamageToChampion  blueFirstBlood  \\\n",
              "0                            234                     133185               1   \n",
              "1                            152                      82355               0   \n",
              "2                            234                     112250               1   \n",
              "3                            101                      32956               1   \n",
              "4                            157                     102647               1   \n",
              "...                          ...                        ...             ...   \n",
              "1516                         165                      60656               1   \n",
              "1517                          99                      44699               1   \n",
              "1518                          98                      79347               1   \n",
              "1519                         102                      37715               1   \n",
              "1520                         101                      30780               0   \n",
              "\n",
              "      blueKill  blueDeath  blueAssist  ...  blueAIR_DRAGON  blueEARTH_DRAGON  \\\n",
              "0           34         36          80  ...               1                 0   \n",
              "1           30         17          39  ...               1                 0   \n",
              "2           34         30          89  ...               0                 1   \n",
              "3            9         19          13  ...               0                 0   \n",
              "4           39         37          51  ...               0                 1   \n",
              "...        ...        ...         ...  ...             ...               ...   \n",
              "1516        28         13          40  ...               0                 0   \n",
              "1517        24         25          31  ...               0                 0   \n",
              "1518        36         14          61  ...               0                 0   \n",
              "1519        22          6          30  ...               0                 0   \n",
              "1520         7         24           8  ...               0                 0   \n",
              "\n",
              "      blueCHEMTECH_DRAGON  blueHEXTECH_DRAGON  redWATER_DRAGON  \\\n",
              "0                       1                   0                0   \n",
              "1                       1                   1                0   \n",
              "2                       0                   0                0   \n",
              "3                       0                   0                0   \n",
              "4                       0                   0                0   \n",
              "...                   ...                 ...              ...   \n",
              "1516                    0                   1                1   \n",
              "1517                    0                   1                0   \n",
              "1518                    1                   0                0   \n",
              "1519                    1                   0                0   \n",
              "1520                    0                   0                0   \n",
              "\n",
              "      redFIRE_DRAGON  redAIR_DRAGON  redEARTH_DRAGON  redCHEMTECH_DRAGON  \\\n",
              "0                  0              0                0                   1   \n",
              "1                  0              0                0                   0   \n",
              "2                  1              0                0                   0   \n",
              "3                  0              0                0                   0   \n",
              "4                  1              0                0                   0   \n",
              "...              ...            ...              ...                 ...   \n",
              "1516               0              0                0                   0   \n",
              "1517               1              0                0                   1   \n",
              "1518               0              0                0                   0   \n",
              "1519               0              0                0                   0   \n",
              "1520               0              1                0                   1   \n",
              "\n",
              "      redHEXTECH_DRAGON  \n",
              "0                     0  \n",
              "1                     0  \n",
              "2                     1  \n",
              "3                     1  \n",
              "4                     0  \n",
              "...                 ...  \n",
              "1516                  0  \n",
              "1517                  0  \n",
              "1518                  1  \n",
              "1519                  0  \n",
              "1520                  0  \n",
              "\n",
              "[1521 rows x 55 columns]"
            ]
          },
          "execution_count": 12,
          "metadata": {},
          "output_type": "execute_result"
        }
      ],
      "source": [
        "df"
      ]
    },
    {
      "cell_type": "code",
      "execution_count": 6,
      "metadata": {},
      "outputs": [],
      "source": [
        "url=\"https://kr.api.riotgames.com/lol/league/v4/entries/RANKED_SOLO_5x5/DIAMOND/III?page=\"+ str(50) +\"&api_key=\" + api_key"
      ]
    },
    {
      "cell_type": "code",
      "execution_count": 7,
      "metadata": {},
      "outputs": [],
      "source": [
        "r = requests.get(url)"
      ]
    },
    {
      "cell_type": "code",
      "execution_count": 16,
      "metadata": {},
      "outputs": [],
      "source": [
        "import getLoLData2"
      ]
    },
    {
      "cell_type": "code",
      "execution_count": 17,
      "metadata": {},
      "outputs": [
        {
          "name": "stdout",
          "output_type": "stream",
          "text": [
            "downloading summonerID!\n"
          ]
        },
        {
          "ename": "KeyError",
          "evalue": "'entries'",
          "output_type": "error",
          "traceback": [
            "\u001b[0;31m---------------------------------------------------------------------------\u001b[0m",
            "\u001b[0;31mKeyError\u001b[0m                                  Traceback (most recent call last)",
            "Cell \u001b[0;32mIn[17], line 1\u001b[0m\n\u001b[0;32m----> 1\u001b[0m getLoLData2\u001b[39m.\u001b[39;49mgetSumId(api_key, \u001b[39m3\u001b[39;49m)\n",
            "File \u001b[0;32m~/Documents/GitHub/esports_YSAL/LOL/CHANGWOOK/getLoLData2.py:44\u001b[0m, in \u001b[0;36mgetSumId\u001b[0;34m(api_key, tier)\u001b[0m\n\u001b[1;32m     41\u001b[0m summonerId \u001b[39m=\u001b[39m {}\n\u001b[1;32m     43\u001b[0m r \u001b[39m=\u001b[39m requests\u001b[39m.\u001b[39mget(url)\n\u001b[0;32m---> 44\u001b[0m r \u001b[39m=\u001b[39m r\u001b[39m.\u001b[39;49mjson()[\u001b[39m'\u001b[39;49m\u001b[39mentries\u001b[39;49m\u001b[39m'\u001b[39;49m]\n\u001b[1;32m     45\u001b[0m \u001b[39mfor\u001b[39;00m i \u001b[39min\u001b[39;00m r:\n\u001b[1;32m     46\u001b[0m     summonerId[i[\u001b[39m'\u001b[39m\u001b[39msummonerName\u001b[39m\u001b[39m'\u001b[39m]] \u001b[39m=\u001b[39m i[\u001b[39m'\u001b[39m\u001b[39msummonerId\u001b[39m\u001b[39m'\u001b[39m]\n",
            "\u001b[0;31mKeyError\u001b[0m: 'entries'"
          ]
        }
      ],
      "source": [
        "getLoLData2.getSumId(api_key, 3)"
      ]
    },
    {
      "cell_type": "code",
      "execution_count": null,
      "metadata": {},
      "outputs": [],
      "source": []
    }
  ],
  "metadata": {
    "colab": {
      "provenance": []
    },
    "kernelspec": {
      "display_name": "Python 3",
      "name": "python3"
    },
    "language_info": {
      "codemirror_mode": {
        "name": "ipython",
        "version": 3
      },
      "file_extension": ".py",
      "mimetype": "text/x-python",
      "name": "python",
      "nbconvert_exporter": "python",
      "pygments_lexer": "ipython3",
      "version": "3.10.10"
    }
  },
  "nbformat": 4,
  "nbformat_minor": 0
}
