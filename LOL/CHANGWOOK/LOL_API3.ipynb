{
  "cells": [
    {
      "cell_type": "code",
      "execution_count": 1,
      "metadata": {
        "id": "PbNI67ASzatd"
      },
      "outputs": [],
      "source": [
        "import requests\n",
        "import json\n",
        "import time\n",
        "import pandas as pd\n",
        "from tqdm import tqdm\n",
        "import numpy as np\n",
        "\n",
        "api_key = \"RGAPI-fc28ab1c-d5a7-4ff7-a3cb-c7deb2595551\""
      ]
    },
    {
      "cell_type": "code",
      "execution_count": 5,
      "metadata": {},
      "outputs": [],
      "source": [
        "import getLoLData2"
      ]
    },
    {
      "cell_type": "code",
      "execution_count": 6,
      "metadata": {},
      "outputs": [
        {
          "data": {
            "text/html": [
              "<div>\n",
              "<style scoped>\n",
              "    .dataframe tbody tr th:only-of-type {\n",
              "        vertical-align: middle;\n",
              "    }\n",
              "\n",
              "    .dataframe tbody tr th {\n",
              "        vertical-align: top;\n",
              "    }\n",
              "\n",
              "    .dataframe thead th {\n",
              "        text-align: right;\n",
              "    }\n",
              "</style>\n",
              "<table border=\"1\" class=\"dataframe\">\n",
              "  <thead>\n",
              "    <tr style=\"text-align: right;\">\n",
              "      <th></th>\n",
              "      <th>Unnamed: 0</th>\n",
              "      <th>gameId</th>\n",
              "      <th>blueWins</th>\n",
              "      <th>blueTotalGolds</th>\n",
              "      <th>blueCurrentGolds</th>\n",
              "      <th>blueTotalLevel</th>\n",
              "      <th>blueAvgLevel</th>\n",
              "      <th>blueTotalMinionKills</th>\n",
              "      <th>blueTotalJungleMinionKills</th>\n",
              "      <th>blueTotalDamageToChampion</th>\n",
              "      <th>...</th>\n",
              "      <th>redTowerKills</th>\n",
              "      <th>redMidTowerKills</th>\n",
              "      <th>redTopTowerKills</th>\n",
              "      <th>redBotTowerKills</th>\n",
              "      <th>redInhibitor</th>\n",
              "      <th>redFirstDragon</th>\n",
              "      <th>redDragonType</th>\n",
              "      <th>redDragon</th>\n",
              "      <th>redRiftHeralds</th>\n",
              "      <th>matchMin</th>\n",
              "    </tr>\n",
              "  </thead>\n",
              "  <tbody>\n",
              "    <tr>\n",
              "      <th>0</th>\n",
              "      <td>0</td>\n",
              "      <td>KR_6419756778</td>\n",
              "      <td>True</td>\n",
              "      <td>28431</td>\n",
              "      <td>5816</td>\n",
              "      <td>46</td>\n",
              "      <td>9.2</td>\n",
              "      <td>361</td>\n",
              "      <td>80</td>\n",
              "      <td>25870</td>\n",
              "      <td>...</td>\n",
              "      <td>1</td>\n",
              "      <td>0</td>\n",
              "      <td>0</td>\n",
              "      <td>1</td>\n",
              "      <td>0</td>\n",
              "      <td>0</td>\n",
              "      <td>NaN</td>\n",
              "      <td>0</td>\n",
              "      <td>0</td>\n",
              "      <td>41</td>\n",
              "    </tr>\n",
              "    <tr>\n",
              "      <th>1</th>\n",
              "      <td>1</td>\n",
              "      <td>KR_6415275424</td>\n",
              "      <td>True</td>\n",
              "      <td>28714</td>\n",
              "      <td>6069</td>\n",
              "      <td>45</td>\n",
              "      <td>9.0</td>\n",
              "      <td>334</td>\n",
              "      <td>82</td>\n",
              "      <td>37285</td>\n",
              "      <td>...</td>\n",
              "      <td>1</td>\n",
              "      <td>1</td>\n",
              "      <td>0</td>\n",
              "      <td>0</td>\n",
              "      <td>0</td>\n",
              "      <td>0</td>\n",
              "      <td>NaN</td>\n",
              "      <td>0</td>\n",
              "      <td>1</td>\n",
              "      <td>26</td>\n",
              "    </tr>\n",
              "    <tr>\n",
              "      <th>2</th>\n",
              "      <td>2</td>\n",
              "      <td>KR_6423763038</td>\n",
              "      <td>True</td>\n",
              "      <td>23253</td>\n",
              "      <td>2203</td>\n",
              "      <td>43</td>\n",
              "      <td>8.6</td>\n",
              "      <td>365</td>\n",
              "      <td>83</td>\n",
              "      <td>25383</td>\n",
              "      <td>...</td>\n",
              "      <td>0</td>\n",
              "      <td>0</td>\n",
              "      <td>0</td>\n",
              "      <td>0</td>\n",
              "      <td>0</td>\n",
              "      <td>1</td>\n",
              "      <td>HEXTECH_DRAGON</td>\n",
              "      <td>1</td>\n",
              "      <td>0</td>\n",
              "      <td>33</td>\n",
              "    </tr>\n",
              "    <tr>\n",
              "      <th>3</th>\n",
              "      <td>3</td>\n",
              "      <td>KR_6416730851</td>\n",
              "      <td>False</td>\n",
              "      <td>22236</td>\n",
              "      <td>4126</td>\n",
              "      <td>42</td>\n",
              "      <td>8.4</td>\n",
              "      <td>314</td>\n",
              "      <td>72</td>\n",
              "      <td>20574</td>\n",
              "      <td>...</td>\n",
              "      <td>0</td>\n",
              "      <td>0</td>\n",
              "      <td>0</td>\n",
              "      <td>0</td>\n",
              "      <td>0</td>\n",
              "      <td>0</td>\n",
              "      <td>HEXTECH_DRAGON</td>\n",
              "      <td>1</td>\n",
              "      <td>0</td>\n",
              "      <td>21</td>\n",
              "    </tr>\n",
              "    <tr>\n",
              "      <th>4</th>\n",
              "      <td>4</td>\n",
              "      <td>KR_6421561510</td>\n",
              "      <td>False</td>\n",
              "      <td>28362</td>\n",
              "      <td>3772</td>\n",
              "      <td>44</td>\n",
              "      <td>8.8</td>\n",
              "      <td>367</td>\n",
              "      <td>52</td>\n",
              "      <td>28946</td>\n",
              "      <td>...</td>\n",
              "      <td>1</td>\n",
              "      <td>0</td>\n",
              "      <td>1</td>\n",
              "      <td>0</td>\n",
              "      <td>0</td>\n",
              "      <td>0</td>\n",
              "      <td>NaN</td>\n",
              "      <td>0</td>\n",
              "      <td>1</td>\n",
              "      <td>34</td>\n",
              "    </tr>\n",
              "    <tr>\n",
              "      <th>...</th>\n",
              "      <td>...</td>\n",
              "      <td>...</td>\n",
              "      <td>...</td>\n",
              "      <td>...</td>\n",
              "      <td>...</td>\n",
              "      <td>...</td>\n",
              "      <td>...</td>\n",
              "      <td>...</td>\n",
              "      <td>...</td>\n",
              "      <td>...</td>\n",
              "      <td>...</td>\n",
              "      <td>...</td>\n",
              "      <td>...</td>\n",
              "      <td>...</td>\n",
              "      <td>...</td>\n",
              "      <td>...</td>\n",
              "      <td>...</td>\n",
              "      <td>...</td>\n",
              "      <td>...</td>\n",
              "      <td>...</td>\n",
              "      <td>...</td>\n",
              "    </tr>\n",
              "    <tr>\n",
              "      <th>1516</th>\n",
              "      <td>1516</td>\n",
              "      <td>KR_6424983956</td>\n",
              "      <td>True</td>\n",
              "      <td>30554</td>\n",
              "      <td>3244</td>\n",
              "      <td>47</td>\n",
              "      <td>9.4</td>\n",
              "      <td>396</td>\n",
              "      <td>102</td>\n",
              "      <td>29471</td>\n",
              "      <td>...</td>\n",
              "      <td>1</td>\n",
              "      <td>0</td>\n",
              "      <td>1</td>\n",
              "      <td>0</td>\n",
              "      <td>0</td>\n",
              "      <td>1</td>\n",
              "      <td>WATER_DRAGON</td>\n",
              "      <td>1</td>\n",
              "      <td>0</td>\n",
              "      <td>22</td>\n",
              "    </tr>\n",
              "    <tr>\n",
              "      <th>1517</th>\n",
              "      <td>1517</td>\n",
              "      <td>KR_6421600762</td>\n",
              "      <td>False</td>\n",
              "      <td>27689</td>\n",
              "      <td>6009</td>\n",
              "      <td>44</td>\n",
              "      <td>8.8</td>\n",
              "      <td>336</td>\n",
              "      <td>67</td>\n",
              "      <td>30941</td>\n",
              "      <td>...</td>\n",
              "      <td>0</td>\n",
              "      <td>0</td>\n",
              "      <td>0</td>\n",
              "      <td>0</td>\n",
              "      <td>0</td>\n",
              "      <td>1</td>\n",
              "      <td>CHEMTECH_DRAGON</td>\n",
              "      <td>1</td>\n",
              "      <td>1</td>\n",
              "      <td>22</td>\n",
              "    </tr>\n",
              "    <tr>\n",
              "      <th>1518</th>\n",
              "      <td>1518</td>\n",
              "      <td>KR_6421531877</td>\n",
              "      <td>True</td>\n",
              "      <td>31522</td>\n",
              "      <td>4172</td>\n",
              "      <td>45</td>\n",
              "      <td>9.0</td>\n",
              "      <td>340</td>\n",
              "      <td>60</td>\n",
              "      <td>38168</td>\n",
              "      <td>...</td>\n",
              "      <td>0</td>\n",
              "      <td>0</td>\n",
              "      <td>0</td>\n",
              "      <td>0</td>\n",
              "      <td>0</td>\n",
              "      <td>1</td>\n",
              "      <td>HEXTECH_DRAGON</td>\n",
              "      <td>1</td>\n",
              "      <td>0</td>\n",
              "      <td>23</td>\n",
              "    </tr>\n",
              "    <tr>\n",
              "      <th>1519</th>\n",
              "      <td>1519</td>\n",
              "      <td>KR_6419297103</td>\n",
              "      <td>True</td>\n",
              "      <td>29826</td>\n",
              "      <td>3953</td>\n",
              "      <td>47</td>\n",
              "      <td>9.4</td>\n",
              "      <td>380</td>\n",
              "      <td>95</td>\n",
              "      <td>30348</td>\n",
              "      <td>...</td>\n",
              "      <td>0</td>\n",
              "      <td>0</td>\n",
              "      <td>0</td>\n",
              "      <td>0</td>\n",
              "      <td>0</td>\n",
              "      <td>0</td>\n",
              "      <td>NaN</td>\n",
              "      <td>0</td>\n",
              "      <td>0</td>\n",
              "      <td>18</td>\n",
              "    </tr>\n",
              "    <tr>\n",
              "      <th>1520</th>\n",
              "      <td>1520</td>\n",
              "      <td>KR_6424954348</td>\n",
              "      <td>False</td>\n",
              "      <td>22837</td>\n",
              "      <td>3787</td>\n",
              "      <td>44</td>\n",
              "      <td>8.8</td>\n",
              "      <td>349</td>\n",
              "      <td>80</td>\n",
              "      <td>19630</td>\n",
              "      <td>...</td>\n",
              "      <td>1</td>\n",
              "      <td>0</td>\n",
              "      <td>0</td>\n",
              "      <td>1</td>\n",
              "      <td>0</td>\n",
              "      <td>1</td>\n",
              "      <td>CHEMTECH_DRAGON</td>\n",
              "      <td>1</td>\n",
              "      <td>0</td>\n",
              "      <td>22</td>\n",
              "    </tr>\n",
              "  </tbody>\n",
              "</table>\n",
              "<p>1521 rows × 55 columns</p>\n",
              "</div>"
            ],
            "text/plain": [
              "      Unnamed: 0         gameId  blueWins  blueTotalGolds  blueCurrentGolds  \\\n",
              "0              0  KR_6419756778      True           28431              5816   \n",
              "1              1  KR_6415275424      True           28714              6069   \n",
              "2              2  KR_6423763038      True           23253              2203   \n",
              "3              3  KR_6416730851     False           22236              4126   \n",
              "4              4  KR_6421561510     False           28362              3772   \n",
              "...          ...            ...       ...             ...               ...   \n",
              "1516        1516  KR_6424983956      True           30554              3244   \n",
              "1517        1517  KR_6421600762     False           27689              6009   \n",
              "1518        1518  KR_6421531877      True           31522              4172   \n",
              "1519        1519  KR_6419297103      True           29826              3953   \n",
              "1520        1520  KR_6424954348     False           22837              3787   \n",
              "\n",
              "      blueTotalLevel  blueAvgLevel  blueTotalMinionKills  \\\n",
              "0                 46           9.2                   361   \n",
              "1                 45           9.0                   334   \n",
              "2                 43           8.6                   365   \n",
              "3                 42           8.4                   314   \n",
              "4                 44           8.8                   367   \n",
              "...              ...           ...                   ...   \n",
              "1516              47           9.4                   396   \n",
              "1517              44           8.8                   336   \n",
              "1518              45           9.0                   340   \n",
              "1519              47           9.4                   380   \n",
              "1520              44           8.8                   349   \n",
              "\n",
              "      blueTotalJungleMinionKills  blueTotalDamageToChampion  ...  \\\n",
              "0                             80                      25870  ...   \n",
              "1                             82                      37285  ...   \n",
              "2                             83                      25383  ...   \n",
              "3                             72                      20574  ...   \n",
              "4                             52                      28946  ...   \n",
              "...                          ...                        ...  ...   \n",
              "1516                         102                      29471  ...   \n",
              "1517                          67                      30941  ...   \n",
              "1518                          60                      38168  ...   \n",
              "1519                          95                      30348  ...   \n",
              "1520                          80                      19630  ...   \n",
              "\n",
              "      redTowerKills  redMidTowerKills  redTopTowerKills  redBotTowerKills  \\\n",
              "0                 1                 0                 0                 1   \n",
              "1                 1                 1                 0                 0   \n",
              "2                 0                 0                 0                 0   \n",
              "3                 0                 0                 0                 0   \n",
              "4                 1                 0                 1                 0   \n",
              "...             ...               ...               ...               ...   \n",
              "1516              1                 0                 1                 0   \n",
              "1517              0                 0                 0                 0   \n",
              "1518              0                 0                 0                 0   \n",
              "1519              0                 0                 0                 0   \n",
              "1520              1                 0                 0                 1   \n",
              "\n",
              "      redInhibitor  redFirstDragon    redDragonType  redDragon redRiftHeralds  \\\n",
              "0                0               0              NaN          0              0   \n",
              "1                0               0              NaN          0              1   \n",
              "2                0               1   HEXTECH_DRAGON          1              0   \n",
              "3                0               0   HEXTECH_DRAGON          1              0   \n",
              "4                0               0              NaN          0              1   \n",
              "...            ...             ...              ...        ...            ...   \n",
              "1516             0               1     WATER_DRAGON          1              0   \n",
              "1517             0               1  CHEMTECH_DRAGON          1              1   \n",
              "1518             0               1   HEXTECH_DRAGON          1              0   \n",
              "1519             0               0              NaN          0              0   \n",
              "1520             0               1  CHEMTECH_DRAGON          1              0   \n",
              "\n",
              "      matchMin  \n",
              "0           41  \n",
              "1           26  \n",
              "2           33  \n",
              "3           21  \n",
              "4           34  \n",
              "...        ...  \n",
              "1516        22  \n",
              "1517        22  \n",
              "1518        23  \n",
              "1519        18  \n",
              "1520        22  \n",
              "\n",
              "[1521 rows x 55 columns]"
            ]
          },
          "execution_count": 6,
          "metadata": {},
          "output_type": "execute_result"
        }
      ],
      "source": [
        "cl15 = pd.read_csv(\"/Users/ichang-ug/Documents/GitHub/esports_YSAL/LOL/Data/CL15.csv\")\n",
        "cl15"
      ]
    },
    {
      "cell_type": "code",
      "execution_count": 7,
      "metadata": {},
      "outputs": [
        {
          "name": "stdout",
          "output_type": "stream",
          "text": [
            "tier, count inputs ignored.\n",
            "downloading TimelineData!\n"
          ]
        },
        {
          "name": "stderr",
          "output_type": "stream",
          "text": [
            "  7%|▋         | 100/1521 [01:17<15:21,  1.54it/s]"
          ]
        },
        {
          "name": "stdout",
          "output_type": "stream",
          "text": [
            "api cost full : infinite loop start\n",
            "loop location :  100\n",
            "try 120 second wait time\n"
          ]
        },
        {
          "name": "stderr",
          "output_type": "stream",
          "text": [
            "  7%|▋         | 101/1521 [03:20<14:40:34, 37.21s/it]"
          ]
        },
        {
          "name": "stdout",
          "output_type": "stream",
          "text": [
            "200\n",
            "total wait time :  122.07031893730164\n",
            "recovery api cost\n"
          ]
        },
        {
          "name": "stderr",
          "output_type": "stream",
          "text": [
            " 13%|█▎        | 200/1521 [04:45<18:54,  1.16it/s]   "
          ]
        },
        {
          "name": "stdout",
          "output_type": "stream",
          "text": [
            "api cost full : infinite loop start\n",
            "loop location :  200\n",
            "try 120 second wait time\n"
          ]
        },
        {
          "name": "stderr",
          "output_type": "stream",
          "text": [
            " 13%|█▎        | 201/1521 [06:48<13:41:18, 37.33s/it]"
          ]
        },
        {
          "name": "stdout",
          "output_type": "stream",
          "text": [
            "200\n",
            "total wait time :  121.67137789726257\n",
            "recovery api cost\n"
          ]
        },
        {
          "name": "stderr",
          "output_type": "stream",
          "text": [
            " 20%|█▉        | 300/1521 [08:04<09:36,  2.12it/s]   "
          ]
        },
        {
          "name": "stdout",
          "output_type": "stream",
          "text": [
            "api cost full : infinite loop start\n",
            "loop location :  300\n",
            "try 120 second wait time\n"
          ]
        },
        {
          "name": "stderr",
          "output_type": "stream",
          "text": [
            " 20%|█▉        | 301/1521 [10:07<12:32:16, 37.00s/it]"
          ]
        },
        {
          "name": "stdout",
          "output_type": "stream",
          "text": [
            "200\n",
            "total wait time :  121.85430192947388\n",
            "recovery api cost\n"
          ]
        },
        {
          "name": "stderr",
          "output_type": "stream",
          "text": [
            " 26%|██▋       | 400/1521 [11:19<13:23,  1.39it/s]   "
          ]
        },
        {
          "name": "stdout",
          "output_type": "stream",
          "text": [
            "api cost full : infinite loop start\n",
            "loop location :  400\n",
            "try 120 second wait time\n"
          ]
        },
        {
          "name": "stderr",
          "output_type": "stream",
          "text": [
            " 26%|██▋       | 401/1521 [13:21<11:36:54, 37.33s/it]"
          ]
        },
        {
          "name": "stdout",
          "output_type": "stream",
          "text": [
            "200\n",
            "total wait time :  122.03425598144531\n",
            "recovery api cost\n"
          ]
        },
        {
          "name": "stderr",
          "output_type": "stream",
          "text": [
            " 33%|███▎      | 500/1521 [14:54<09:41,  1.76it/s]   "
          ]
        },
        {
          "name": "stdout",
          "output_type": "stream",
          "text": [
            "api cost full : infinite loop start\n",
            "loop location :  500\n",
            "try 120 second wait time\n"
          ]
        },
        {
          "name": "stderr",
          "output_type": "stream",
          "text": [
            " 33%|███▎      | 501/1521 [16:56<10:28:00, 36.94s/it]"
          ]
        },
        {
          "name": "stdout",
          "output_type": "stream",
          "text": [
            "200\n",
            "total wait time :  121.51142978668213\n",
            "recovery api cost\n"
          ]
        },
        {
          "name": "stderr",
          "output_type": "stream",
          "text": [
            " 39%|███▉      | 600/1521 [18:27<11:57,  1.28it/s]   "
          ]
        },
        {
          "name": "stdout",
          "output_type": "stream",
          "text": [
            "api cost full : infinite loop start\n",
            "loop location :  600\n",
            "try 120 second wait time\n"
          ]
        },
        {
          "name": "stderr",
          "output_type": "stream",
          "text": [
            " 40%|███▉      | 601/1521 [20:29<9:29:25, 37.14s/it]"
          ]
        },
        {
          "name": "stdout",
          "output_type": "stream",
          "text": [
            "200\n",
            "total wait time :  121.57745218276978\n",
            "recovery api cost\n"
          ]
        },
        {
          "name": "stderr",
          "output_type": "stream",
          "text": [
            " 46%|████▌     | 700/1521 [21:46<07:52,  1.74it/s]  "
          ]
        },
        {
          "name": "stdout",
          "output_type": "stream",
          "text": [
            "api cost full : infinite loop start\n",
            "loop location :  700\n",
            "try 120 second wait time\n"
          ]
        },
        {
          "name": "stderr",
          "output_type": "stream",
          "text": [
            " 46%|████▌     | 701/1521 [23:48<8:25:04, 36.96s/it]"
          ]
        },
        {
          "name": "stdout",
          "output_type": "stream",
          "text": [
            "200\n",
            "total wait time :  121.58061003684998\n",
            "recovery api cost\n"
          ]
        },
        {
          "name": "stderr",
          "output_type": "stream",
          "text": [
            " 73%|███████▎  | 1116/1521 [33:35<04:33,  1.48it/s] "
          ]
        },
        {
          "name": "stdout",
          "output_type": "stream",
          "text": [
            "api cost full : infinite loop start\n",
            "loop location :  1116\n",
            "try 120 second wait time\n"
          ]
        },
        {
          "name": "stderr",
          "output_type": "stream",
          "text": [
            " 73%|███████▎  | 1117/1521 [35:38<4:11:08, 37.30s/it]"
          ]
        },
        {
          "name": "stdout",
          "output_type": "stream",
          "text": [
            "200\n",
            "total wait time :  122.5030038356781\n",
            "recovery api cost\n"
          ]
        },
        {
          "name": "stderr",
          "output_type": "stream",
          "text": [
            " 80%|███████▉  | 1216/1521 [37:15<05:41,  1.12s/it]  "
          ]
        },
        {
          "name": "stdout",
          "output_type": "stream",
          "text": [
            "api cost full : infinite loop start\n",
            "loop location :  1216\n",
            "try 120 second wait time\n"
          ]
        },
        {
          "name": "stderr",
          "output_type": "stream",
          "text": [
            " 80%|████████  | 1217/1521 [39:18<3:09:50, 37.47s/it]"
          ]
        },
        {
          "name": "stdout",
          "output_type": "stream",
          "text": [
            "200\n",
            "total wait time :  121.85012316703796\n",
            "recovery api cost\n"
          ]
        },
        {
          "name": "stderr",
          "output_type": "stream",
          "text": [
            "100%|██████████| 1521/1521 [46:29<00:00,  1.83s/it]  "
          ]
        },
        {
          "name": "stdout",
          "output_type": "stream",
          "text": [
            "TimelineData downloaded!\n"
          ]
        },
        {
          "name": "stderr",
          "output_type": "stream",
          "text": [
            "\n"
          ]
        }
      ],
      "source": [
        "df = getLoLData2.getTimelineData(api_key, 5,min = 15, count=1, match_input=True, matchId=cl15[\"gameId\"])\n",
        "df.to_csv(\"/Users/ichang-ug/Documents/GitHub/esports_YSAL/LOL/Data/CL15.csv\")"
      ]
    },
    {
      "cell_type": "code",
      "execution_count": null,
      "metadata": {},
      "outputs": [],
      "source": []
    }
  ],
  "metadata": {
    "colab": {
      "provenance": []
    },
    "kernelspec": {
      "display_name": "Python 3",
      "name": "python3"
    },
    "language_info": {
      "codemirror_mode": {
        "name": "ipython",
        "version": 3
      },
      "file_extension": ".py",
      "mimetype": "text/x-python",
      "name": "python",
      "nbconvert_exporter": "python",
      "pygments_lexer": "ipython3",
      "version": "3.10.10"
    }
  },
  "nbformat": 4,
  "nbformat_minor": 0
}
