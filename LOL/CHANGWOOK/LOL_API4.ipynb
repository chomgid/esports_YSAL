{
  "cells": [
    {
      "cell_type": "code",
      "execution_count": 1,
      "metadata": {
        "id": "PbNI67ASzatd"
      },
      "outputs": [],
      "source": [
        "import requests\n",
        "import json\n",
        "import time\n",
        "import pandas as pd\n",
        "from tqdm import tqdm\n",
        "import numpy as np\n",
        "\n",
        "api_key = \"RGAPI-abf9a888-e6cf-48fe-a747-10a1a6ababb1\""
      ]
    },
    {
      "cell_type": "code",
      "execution_count": 2,
      "metadata": {},
      "outputs": [],
      "source": [
        "url=\"https://kr.api.riotgames.com/lol/league/v4/entries/RANKED_SOLO_5x5/DIAMOND/III?page=1&api_key=\" + api_key"
      ]
    },
    {
      "cell_type": "code",
      "execution_count": 3,
      "metadata": {},
      "outputs": [
        {
          "name": "stdout",
          "output_type": "stream",
          "text": [
            "나는동네북이라네\n",
            "건학이\n",
            "llIIIllIlllIlIl\n",
            "jikbakgurl\n",
            "펜타닐마약바니걸\n",
            "나나나눈누\n",
            "리아쥬아\n",
            "해가 아름다웠어\n",
            "W1NGMAN\n",
            "누나 제발\n",
            "프로응애러\n",
            "Seasons Change\n",
            "숟가락 정점\n",
            "닉값제데로함\n",
            "벌레들과 춤을\n",
            "땡스기빙데이\n",
            "쌍쌍쌍\n",
            "심신비정상인\n",
            "족밥처럼 굴지마\n",
            "김홍순3\n",
            "Chovy 팬입니다\n",
            "싸우고싶다\n",
            "눈 예뻐지고 시포\n",
            "PIXELNU\n",
            "누수액\n",
            "KOR961010\n",
            "탱커챔\n",
            "작은 미어캣\n",
            "진짜 못참겠는데\n",
            "하이 눈 김주호\n",
            "다이아들다주거\n",
            "천국에서 온 자\n",
            "Mannim2\n",
            "싸발연이\n",
            "Eqecx\n",
            "야옹야옹송아지\n",
            "상어 코 때리기\n",
            "마산 조루왕\n",
            "세화여고 이요원\n",
            "SEK4\n",
            "나는할수있습니다\n",
            "생 혼\n",
            "뚜 딴\n",
            "쥐종대왕\n",
            "llllIIIIIllllll\n",
            "원천징수영끌7천\n",
            "이응빡\n",
            "데마시아 컷\n",
            "23년생원딜러\n",
            "tlswlemwkddls\n",
            "zl존Er락DARK왕\n",
            "Karsc\n",
            "배고파요헝그리\n",
            "bixin32567904\n",
            "잠시만놀게\n",
            "Round One\n",
            "폭유 정욱\n",
            "그 총\n",
            "말걸지마라잡종\n",
            "오뚜기300분미트볼\n",
            "5코3성람머스\n",
            "깽 랑\n",
            "뭘그래뻐이보노\n",
            "jiumeng\n",
            "Park Shin Won\n",
            "FA Silky\n",
            "마스터이금비\n",
            "채원이귀엽지\n",
            "겜에정떨어진사람\n",
            "샨테비스탄\n",
            "빨간색banana\n",
            "백 산\n",
            "HappY Game DotaX\n",
            "TES99\n",
            "암살자가요\n",
            "재능의 개화\n",
            "뚱녀만골라팬다\n",
            "잘했써\n",
            "코르키개안좋음\n",
            "이렇게까지해야하\n",
            "체리콕도둑\n",
            "저어어엉글러\n",
            "똥  뿌  직\n",
            "kr7\n",
            "허쉬초코토네이도\n",
            "상호리\n",
            "꼬시기만지는유현\n",
            "FreeBro\n",
            "낮잠zz\n",
            "먹던콩\n",
            "탑라인만가는사람\n",
            "0크리에이터4에버\n",
            "와두콩\n",
            "돌진완\n",
            "쥬지튼튼영운이\n",
            "Rebirth Cookie\n",
            "겨울을 기다려요\n",
            "Dramaturgy\n",
            "이동혓\n",
            "해물탕수육\n",
            "땅진이입니다\n",
            "귤 킹\n",
            "겨울엔 찬물\n",
            "껸과류\n",
            "빈둥빙둥\n",
            "임영록\n",
            "자지잡놈\n",
            "건들면터지는원딜\n",
            "두엔날드자두\n",
            "푸욜뿌욜\n",
            "Barret M82A1\n",
            "상호민교뜨뜨\n",
            "화약통 대신 딱콩\n",
            "리아리토\n",
            "이즈잡아주세요\n",
            "가나다나가나다나\n",
            "커리맛 똥\n",
            "빡치면 너도하셈\n",
            "그님 티 모요\n",
            "숯불돼지고기\n",
            "강프로식사잡숴써\n",
            "성민치\n",
            "최 효 팔\n",
            "약속된승리의검\n",
            "By사탕막대\n",
            "봉담쭈니\n",
            "prideofmyparents\n",
            "윤태준2번째계정\n",
            "천하의 정글러\n",
            "포챠나 인형\n",
            "나답게\n",
            "심점숙\n",
            "무관귀1신\n",
            "평화공원\n",
            "자크 베놈\n",
            "구데기킬러\n",
            "동 빙\n",
            "도토리비빔막국수\n",
            "실패한 삶의 남자\n",
            "레드보리\n",
            "yangfanchuhai\n",
            "비응신도구\n",
            "Seopport\n",
            "전지적르블랑시점\n",
            "낭만없는\n",
            "이대론안돼\n",
            "벌 헤는 밤\n",
            "여왕의 진가\n",
            "뚱스라이팅\n",
            "김재환3\n",
            "인천동양동불주먹\n",
            "열정 그리고 냉정\n",
            "anycoloryoulike\n",
            "붉은 너구리\n",
            "원딜벽느낀사람\n",
            "상남자 권혁\n",
            "이화시장두번째집\n",
            "y3n\n",
            "차광선글라스\n",
            "폐관수련다시시작\n",
            "진심모드 반수민\n",
            "Ie0 messi\n",
            "오홍영입니다\n",
            "립 스\n",
            "유빈이 지켜 줘\n",
            "용현핸섬\n",
            "악하시아꼬치활짝\n",
            "리신머가리\n",
            "엠 돌\n",
            "잠실여고 수아\n",
            "갈비굽는장인\n",
            "Imagine that\n",
            "맥심모델흑정몬\n",
            "Solace\n",
            "밥음복\n",
            "syrahW\n",
            "아이오니아\n",
            "채팅게임 롤\n",
            "23년4월24일와라\n",
            "나쁜하루보내세요\n",
            "cs에민감한사람\n",
            "a1dc\n",
            "혼자자요\n",
            "조 쯩\n",
            "신형만fan\n",
            "2007 10 12\n",
            "참을라\n",
            "캣뽀즈\n",
            "Valh4lla\n",
            "곽두팔남친\n",
            "아이러브유\n",
            "어리둥절엉망진창\n",
            "플레티넘 망나니\n",
            "안가싫어부르지마\n",
            "lllIlIIlIlIIl\n",
            "잘해보고 싶은데\n",
            "세우스입니다\n",
            "첫눈에 그대와\n",
            "덜비빈비빕밥\n",
            "퀴여운코콤미\n",
            "노유미 노브라움\n",
            "zsxcasdasd\n",
            "HanDy\n",
            "뽀상진\n",
            "고무통523개\n"
          ]
        }
      ],
      "source": [
        "r = requests.get(url)\n",
        "r = r.json()\n",
        "for i in r:\n",
        "    print(i['summonerName'])"
      ]
    },
    {
      "cell_type": "code",
      "execution_count": 4,
      "metadata": {},
      "outputs": [],
      "source": [
        "import getLoLData2"
      ]
    },
    {
      "cell_type": "code",
      "execution_count": 5,
      "metadata": {},
      "outputs": [
        {
          "name": "stdout",
          "output_type": "stream",
          "text": [
            "no match input.\n",
            "downloading summonerID!\n",
            "summonerId downloaded!\n",
            "downloading puuid!\n"
          ]
        },
        {
          "name": "stderr",
          "output_type": "stream",
          "text": [
            " 48%|████▊     | 98/205 [00:26<00:28,  3.79it/s]"
          ]
        },
        {
          "name": "stdout",
          "output_type": "stream",
          "text": [
            "api cost full : infinite loop start\n",
            "loop location :  N-FuTa7vqWBXXJqUmPKPcSmjiVyv-YuSHkpFH4Sof6dFHH0\n",
            "try 120 second wait time\n"
          ]
        },
        {
          "name": "stderr",
          "output_type": "stream",
          "text": [
            " 48%|████▊     | 99/205 [02:27<1:04:12, 36.35s/it]"
          ]
        },
        {
          "name": "stdout",
          "output_type": "stream",
          "text": [
            "200\n",
            "total wait time : 120.33803606033325\n",
            "recovery api cost\n"
          ]
        },
        {
          "name": "stderr",
          "output_type": "stream",
          "text": [
            " 97%|█████████▋| 198/205 [02:55<00:02,  3.11it/s] "
          ]
        },
        {
          "name": "stdout",
          "output_type": "stream",
          "text": [
            "api cost full : infinite loop start\n",
            "loop location :  AKmlV4YWG27Eh65oUFMGMVGWnbjc97GyaRm7z2kIyQPWWA\n",
            "try 120 second wait time\n"
          ]
        },
        {
          "name": "stderr",
          "output_type": "stream",
          "text": [
            " 97%|█████████▋| 199/205 [04:55<03:38, 36.39s/it]"
          ]
        },
        {
          "name": "stdout",
          "output_type": "stream",
          "text": [
            "200\n",
            "total wait time : 120.31945991516113\n",
            "recovery api cost\n"
          ]
        },
        {
          "name": "stderr",
          "output_type": "stream",
          "text": [
            "100%|██████████| 205/205 [04:57<00:00,  1.45s/it]\n"
          ]
        },
        {
          "name": "stdout",
          "output_type": "stream",
          "text": [
            "puuid downloaded!\n",
            "downloading matchId!\n"
          ]
        },
        {
          "name": "stderr",
          "output_type": "stream",
          "text": [
            " 49%|████▉     | 100/205 [00:28<00:31,  3.32it/s]"
          ]
        },
        {
          "name": "stdout",
          "output_type": "stream",
          "text": [
            "api cost full : infinite loop start\n",
            "loop location:  JU3GfM-SnTSiPkIqdJsutfh_7kt--ABJrJi0hcGzKZ3pqJ8l5waN-guetRssV0CFKU6YdkdPxNHlug\n",
            "try 120 second wait time\n"
          ]
        },
        {
          "name": "stderr",
          "output_type": "stream",
          "text": [
            " 49%|████▉     | 101/205 [02:28<1:03:03, 36.38s/it]"
          ]
        },
        {
          "name": "stdout",
          "output_type": "stream",
          "text": [
            "200\n",
            "total wait time : 120.30142188072205\n",
            "recovery api cost\n"
          ]
        },
        {
          "name": "stderr",
          "output_type": "stream",
          "text": [
            " 98%|█████████▊| 200/205 [02:58<00:01,  3.52it/s]  "
          ]
        },
        {
          "name": "stdout",
          "output_type": "stream",
          "text": [
            "api cost full : infinite loop start\n",
            "loop location:  cA4DmDMv3s4h_JATKirm2QaGzF1SHECzx8sLlWdfzDRJjgY2rDCL10tSPq6qADafoWO4wu3WJ8JacQ\n",
            "try 120 second wait time\n"
          ]
        },
        {
          "name": "stderr",
          "output_type": "stream",
          "text": [
            " 98%|█████████▊| 201/205 [04:58<02:25, 36.36s/it]"
          ]
        },
        {
          "name": "stdout",
          "output_type": "stream",
          "text": [
            "200\n",
            "total wait time : 120.31490087509155\n",
            "recovery api cost\n"
          ]
        },
        {
          "name": "stderr",
          "output_type": "stream",
          "text": [
            "100%|██████████| 205/205 [05:00<00:00,  1.46s/it]\n"
          ]
        },
        {
          "name": "stdout",
          "output_type": "stream",
          "text": [
            "matchId downloaded!\n",
            "downloading TimelineData!\n"
          ]
        },
        {
          "name": "stderr",
          "output_type": "stream",
          "text": [
            "  5%|▍         | 95/2049 [00:51<17:10,  1.90it/s]"
          ]
        },
        {
          "name": "stdout",
          "output_type": "stream",
          "text": [
            "api cost full : infinite loop start\n",
            "loop location :  95\n",
            "try 120 second wait time\n"
          ]
        },
        {
          "name": "stderr",
          "output_type": "stream",
          "text": [
            "  5%|▍         | 96/2049 [02:53<20:01:07, 36.90s/it]"
          ]
        },
        {
          "name": "stdout",
          "output_type": "stream",
          "text": [
            "200\n",
            "total wait time :  121.53433513641357\n",
            "recovery api cost\n"
          ]
        },
        {
          "name": "stderr",
          "output_type": "stream",
          "text": [
            " 10%|▉         | 195/2049 [03:49<17:40,  1.75it/s]  "
          ]
        },
        {
          "name": "stdout",
          "output_type": "stream",
          "text": [
            "api cost full : infinite loop start\n",
            "loop location :  195\n",
            "try 120 second wait time\n"
          ]
        },
        {
          "name": "stderr",
          "output_type": "stream",
          "text": [
            " 10%|▉         | 196/2049 [05:50<18:59:31, 36.90s/it]"
          ]
        },
        {
          "name": "stdout",
          "output_type": "stream",
          "text": [
            "200\n",
            "total wait time :  121.42164826393127\n",
            "recovery api cost\n"
          ]
        },
        {
          "name": "stderr",
          "output_type": "stream",
          "text": [
            " 14%|█▍        | 295/2049 [06:47<14:55,  1.96it/s]   "
          ]
        },
        {
          "name": "stdout",
          "output_type": "stream",
          "text": [
            "api cost full : infinite loop start\n",
            "loop location :  295\n",
            "try 120 second wait time\n"
          ]
        },
        {
          "name": "stderr",
          "output_type": "stream",
          "text": [
            " 14%|█▍        | 296/2049 [08:49<17:57:42, 36.89s/it]"
          ]
        },
        {
          "name": "stdout",
          "output_type": "stream",
          "text": [
            "200\n",
            "total wait time :  121.5353479385376\n",
            "recovery api cost\n"
          ]
        },
        {
          "name": "stderr",
          "output_type": "stream",
          "text": [
            " 19%|█▉        | 395/2049 [09:44<14:32,  1.90it/s]   "
          ]
        },
        {
          "name": "stdout",
          "output_type": "stream",
          "text": [
            "api cost full : infinite loop start\n",
            "loop location :  395\n",
            "try 120 second wait time\n"
          ]
        },
        {
          "name": "stderr",
          "output_type": "stream",
          "text": [
            " 19%|█▉        | 396/2049 [11:46<16:57:27, 36.93s/it]"
          ]
        },
        {
          "name": "stdout",
          "output_type": "stream",
          "text": [
            "200\n",
            "total wait time :  121.62150597572327\n",
            "recovery api cost\n"
          ]
        },
        {
          "name": "stderr",
          "output_type": "stream",
          "text": [
            " 24%|██▍       | 495/2049 [12:41<14:34,  1.78it/s]   "
          ]
        },
        {
          "name": "stdout",
          "output_type": "stream",
          "text": [
            "api cost full : infinite loop start\n",
            "loop location :  495\n",
            "try 120 second wait time\n"
          ]
        },
        {
          "name": "stderr",
          "output_type": "stream",
          "text": [
            " 24%|██▍       | 496/2049 [14:42<15:55:44, 36.93s/it]"
          ]
        },
        {
          "name": "stdout",
          "output_type": "stream",
          "text": [
            "200\n",
            "total wait time :  121.51827001571655\n",
            "recovery api cost\n"
          ]
        },
        {
          "name": "stderr",
          "output_type": "stream",
          "text": [
            " 29%|██▉       | 595/2049 [15:38<12:32,  1.93it/s]   "
          ]
        },
        {
          "name": "stdout",
          "output_type": "stream",
          "text": [
            "api cost full : infinite loop start\n",
            "loop location :  595\n",
            "try 120 second wait time\n"
          ]
        },
        {
          "name": "stderr",
          "output_type": "stream",
          "text": [
            " 29%|██▉       | 596/2049 [17:40<14:54:24, 36.93s/it]"
          ]
        },
        {
          "name": "stdout",
          "output_type": "stream",
          "text": [
            "200\n",
            "total wait time :  121.66033101081848\n",
            "recovery api cost\n"
          ]
        },
        {
          "name": "stderr",
          "output_type": "stream",
          "text": [
            " 34%|███▍      | 695/2049 [18:34<12:44,  1.77it/s]   "
          ]
        },
        {
          "name": "stdout",
          "output_type": "stream",
          "text": [
            "api cost full : infinite loop start\n",
            "loop location :  695\n",
            "try 120 second wait time\n"
          ]
        },
        {
          "name": "stderr",
          "output_type": "stream",
          "text": [
            " 34%|███▍      | 696/2049 [20:36<13:52:48, 36.93s/it]"
          ]
        },
        {
          "name": "stdout",
          "output_type": "stream",
          "text": [
            "200\n",
            "total wait time :  121.54920172691345\n",
            "recovery api cost\n"
          ]
        },
        {
          "name": "stderr",
          "output_type": "stream",
          "text": [
            " 39%|███▉      | 795/2049 [21:30<11:57,  1.75it/s]   "
          ]
        },
        {
          "name": "stdout",
          "output_type": "stream",
          "text": [
            "api cost full : infinite loop start\n",
            "loop location :  795\n",
            "try 120 second wait time\n"
          ]
        },
        {
          "name": "stderr",
          "output_type": "stream",
          "text": [
            " 39%|███▉      | 796/2049 [23:32<12:51:26, 36.94s/it]"
          ]
        },
        {
          "name": "stdout",
          "output_type": "stream",
          "text": [
            "200\n",
            "total wait time :  121.55345392227173\n",
            "recovery api cost\n"
          ]
        },
        {
          "name": "stderr",
          "output_type": "stream",
          "text": [
            " 44%|████▎     | 895/2049 [24:26<11:05,  1.73it/s]   "
          ]
        },
        {
          "name": "stdout",
          "output_type": "stream",
          "text": [
            "api cost full : infinite loop start\n",
            "loop location :  895\n",
            "try 120 second wait time\n"
          ]
        },
        {
          "name": "stderr",
          "output_type": "stream",
          "text": [
            " 44%|████▎     | 896/2049 [26:28<11:51:01, 37.00s/it]"
          ]
        },
        {
          "name": "stdout",
          "output_type": "stream",
          "text": [
            "200\n",
            "total wait time :  121.74752283096313\n",
            "recovery api cost\n"
          ]
        },
        {
          "name": "stderr",
          "output_type": "stream",
          "text": [
            " 49%|████▊     | 995/2049 [27:26<09:05,  1.93it/s]   "
          ]
        },
        {
          "name": "stdout",
          "output_type": "stream",
          "text": [
            "api cost full : infinite loop start\n",
            "loop location :  995\n",
            "try 120 second wait time\n"
          ]
        },
        {
          "name": "stderr",
          "output_type": "stream",
          "text": [
            " 49%|████▊     | 996/2049 [1:01:08<177:29:25, 606.81s/it]"
          ]
        },
        {
          "name": "stdout",
          "output_type": "stream",
          "text": [
            "200\n",
            "total wait time :  2021.2161388397217\n",
            "recovery api cost\n"
          ]
        },
        {
          "name": "stderr",
          "output_type": "stream",
          "text": [
            " 49%|████▉     | 1009/2049 [1:01:15<1:51:16,  6.42s/it]  "
          ]
        }
      ],
      "source": [
        "df = getLoLData2.getTimelineData(api_key, 6,10, count=10)\n",
        "df.to_csv(\"/Users/ichang-ug/Documents/GitHub/esports_YSAL/LOL/Data//SI10.csv\")"
      ]
    },
    {
      "cell_type": "code",
      "execution_count": 4,
      "metadata": {},
      "outputs": [],
      "source": [
        "import getLoLData2"
      ]
    },
    {
      "cell_type": "code",
      "execution_count": 6,
      "metadata": {},
      "outputs": [
        {
          "ename": "KeyError",
          "evalue": "'gameId'",
          "output_type": "error",
          "traceback": [
            "\u001b[0;31m---------------------------------------------------------------------------\u001b[0m",
            "\u001b[0;31mKeyError\u001b[0m                                  Traceback (most recent call last)",
            "File \u001b[0;32m/opt/homebrew/lib/python3.10/site-packages/pandas/core/indexes/base.py:3802\u001b[0m, in \u001b[0;36mIndex.get_loc\u001b[0;34m(self, key, method, tolerance)\u001b[0m\n\u001b[1;32m   3801\u001b[0m \u001b[39mtry\u001b[39;00m:\n\u001b[0;32m-> 3802\u001b[0m     \u001b[39mreturn\u001b[39;00m \u001b[39mself\u001b[39;49m\u001b[39m.\u001b[39;49m_engine\u001b[39m.\u001b[39;49mget_loc(casted_key)\n\u001b[1;32m   3803\u001b[0m \u001b[39mexcept\u001b[39;00m \u001b[39mKeyError\u001b[39;00m \u001b[39mas\u001b[39;00m err:\n",
            "File \u001b[0;32m/opt/homebrew/lib/python3.10/site-packages/pandas/_libs/index.pyx:138\u001b[0m, in \u001b[0;36mpandas._libs.index.IndexEngine.get_loc\u001b[0;34m()\u001b[0m\n",
            "File \u001b[0;32m/opt/homebrew/lib/python3.10/site-packages/pandas/_libs/index.pyx:165\u001b[0m, in \u001b[0;36mpandas._libs.index.IndexEngine.get_loc\u001b[0;34m()\u001b[0m\n",
            "File \u001b[0;32mpandas/_libs/hashtable_class_helper.pxi:5745\u001b[0m, in \u001b[0;36mpandas._libs.hashtable.PyObjectHashTable.get_item\u001b[0;34m()\u001b[0m\n",
            "File \u001b[0;32mpandas/_libs/hashtable_class_helper.pxi:5753\u001b[0m, in \u001b[0;36mpandas._libs.hashtable.PyObjectHashTable.get_item\u001b[0;34m()\u001b[0m\n",
            "\u001b[0;31mKeyError\u001b[0m: 'gameId'",
            "\nThe above exception was the direct cause of the following exception:\n",
            "\u001b[0;31mKeyError\u001b[0m                                  Traceback (most recent call last)",
            "Cell \u001b[0;32mIn[6], line 2\u001b[0m\n\u001b[1;32m      1\u001b[0m br10 \u001b[39m=\u001b[39m pd\u001b[39m.\u001b[39mread_csv(\u001b[39m\"\u001b[39m\u001b[39m/Users/ichang-ug/Documents/GitHub/esports_YSAL/LOL/Data/BR10.csv\u001b[39m\u001b[39m\"\u001b[39m)\n\u001b[0;32m----> 2\u001b[0m br10[\u001b[39m\"\u001b[39;49m\u001b[39mgameId\u001b[39;49m\u001b[39m\"\u001b[39;49m]\n\u001b[1;32m      3\u001b[0m df \u001b[39m=\u001b[39m getLoLData2\u001b[39m.\u001b[39mgetTimelineData(api_key, \u001b[39m0\u001b[39m,\u001b[39m10\u001b[39m, match_input\u001b[39m=\u001b[39m\u001b[39mTrue\u001b[39;00m, matchId\u001b[39m=\u001b[39mbr10[\u001b[39m\"\u001b[39m\u001b[39mgameId\u001b[39m\u001b[39m\"\u001b[39m])\n\u001b[1;32m      4\u001b[0m df\u001b[39m.\u001b[39mto_csv(\u001b[39m\"\u001b[39m\u001b[39m/Users/ichang-ug/Documents/GitHub/esports_YSAL/LOL/Data/BR10.csv\u001b[39m\u001b[39m\"\u001b[39m)\n",
            "File \u001b[0;32m/opt/homebrew/lib/python3.10/site-packages/pandas/core/frame.py:3807\u001b[0m, in \u001b[0;36mDataFrame.__getitem__\u001b[0;34m(self, key)\u001b[0m\n\u001b[1;32m   3805\u001b[0m \u001b[39mif\u001b[39;00m \u001b[39mself\u001b[39m\u001b[39m.\u001b[39mcolumns\u001b[39m.\u001b[39mnlevels \u001b[39m>\u001b[39m \u001b[39m1\u001b[39m:\n\u001b[1;32m   3806\u001b[0m     \u001b[39mreturn\u001b[39;00m \u001b[39mself\u001b[39m\u001b[39m.\u001b[39m_getitem_multilevel(key)\n\u001b[0;32m-> 3807\u001b[0m indexer \u001b[39m=\u001b[39m \u001b[39mself\u001b[39;49m\u001b[39m.\u001b[39;49mcolumns\u001b[39m.\u001b[39;49mget_loc(key)\n\u001b[1;32m   3808\u001b[0m \u001b[39mif\u001b[39;00m is_integer(indexer):\n\u001b[1;32m   3809\u001b[0m     indexer \u001b[39m=\u001b[39m [indexer]\n",
            "File \u001b[0;32m/opt/homebrew/lib/python3.10/site-packages/pandas/core/indexes/base.py:3804\u001b[0m, in \u001b[0;36mIndex.get_loc\u001b[0;34m(self, key, method, tolerance)\u001b[0m\n\u001b[1;32m   3802\u001b[0m     \u001b[39mreturn\u001b[39;00m \u001b[39mself\u001b[39m\u001b[39m.\u001b[39m_engine\u001b[39m.\u001b[39mget_loc(casted_key)\n\u001b[1;32m   3803\u001b[0m \u001b[39mexcept\u001b[39;00m \u001b[39mKeyError\u001b[39;00m \u001b[39mas\u001b[39;00m err:\n\u001b[0;32m-> 3804\u001b[0m     \u001b[39mraise\u001b[39;00m \u001b[39mKeyError\u001b[39;00m(key) \u001b[39mfrom\u001b[39;00m \u001b[39merr\u001b[39;00m\n\u001b[1;32m   3805\u001b[0m \u001b[39mexcept\u001b[39;00m \u001b[39mTypeError\u001b[39;00m:\n\u001b[1;32m   3806\u001b[0m     \u001b[39m# If we have a listlike key, _check_indexing_error will raise\u001b[39;00m\n\u001b[1;32m   3807\u001b[0m     \u001b[39m#  InvalidIndexError. Otherwise we fall through and re-raise\u001b[39;00m\n\u001b[1;32m   3808\u001b[0m     \u001b[39m#  the TypeError.\u001b[39;00m\n\u001b[1;32m   3809\u001b[0m     \u001b[39mself\u001b[39m\u001b[39m.\u001b[39m_check_indexing_error(key)\n",
            "\u001b[0;31mKeyError\u001b[0m: 'gameId'"
          ]
        }
      ],
      "source": [
        "br10 = pd.read_csv(\"/Users/ichang-ug/Documents/GitHub/esports_YSAL/LOL/Data/BR10.csv\")\n",
        "br10[\"gameId\"]\n",
        "df = getLoLData2.getTimelineData(api_key, 0,10, match_input=True, matchId=br10[\"gameId\"])\n",
        "df.to_csv(\"/Users/ichang-ug/Documents/GitHub/esports_YSAL/LOL/Data/BR10.csv\")"
      ]
    },
    {
      "cell_type": "code",
      "execution_count": null,
      "metadata": {},
      "outputs": [],
      "source": []
    }
  ],
  "metadata": {
    "colab": {
      "provenance": []
    },
    "kernelspec": {
      "display_name": "Python 3",
      "name": "python3"
    },
    "language_info": {
      "codemirror_mode": {
        "name": "ipython",
        "version": 3
      },
      "file_extension": ".py",
      "mimetype": "text/x-python",
      "name": "python",
      "nbconvert_exporter": "python",
      "pygments_lexer": "ipython3",
      "version": "3.10.10"
    }
  },
  "nbformat": 4,
  "nbformat_minor": 0
}
