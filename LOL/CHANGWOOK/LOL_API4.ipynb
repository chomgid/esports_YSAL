{
  "cells": [
    {
      "cell_type": "code",
      "execution_count": 1,
      "metadata": {
        "id": "PbNI67ASzatd"
      },
      "outputs": [],
      "source": [
        "import requests\n",
        "import json\n",
        "import time\n",
        "import pandas as pd\n",
        "from tqdm import tqdm\n",
        "import numpy as np\n",
        "\n",
        "api_key = \"RGAPI-abf9a888-e6cf-48fe-a747-10a1a6ababb1\""
      ]
    },
    {
      "cell_type": "code",
      "execution_count": 2,
      "metadata": {},
      "outputs": [],
      "source": [
        "url=\"https://kr.api.riotgames.com/lol/league/v4/entries/RANKED_SOLO_5x5/DIAMOND/III?page=1&api_key=\" + api_key"
      ]
    },
    {
      "cell_type": "code",
      "execution_count": 3,
      "metadata": {},
      "outputs": [
        {
          "name": "stdout",
          "output_type": "stream",
          "text": [
            "나는동네북이라네\n",
            "건학이\n",
            "llIIIllIlllIlIl\n",
            "jikbakgurl\n",
            "펜타닐마약바니걸\n",
            "나나나눈누\n",
            "리아쥬아\n",
            "해가 아름다웠어\n",
            "W1NGMAN\n",
            "누나 제발\n",
            "프로응애러\n",
            "Seasons Change\n",
            "숟가락 정점\n",
            "닉값제데로함\n",
            "벌레들과 춤을\n",
            "땡스기빙데이\n",
            "쌍쌍쌍\n",
            "심신비정상인\n",
            "족밥처럼 굴지마\n",
            "김홍순3\n",
            "Chovy 팬입니다\n",
            "싸우고싶다\n",
            "눈 예뻐지고 시포\n",
            "PIXELNU\n",
            "누수액\n",
            "KOR961010\n",
            "탱커챔\n",
            "작은 미어캣\n",
            "진짜 못참겠는데\n",
            "하이 눈 김주호\n",
            "다이아들다주거\n",
            "천국에서 온 자\n",
            "Mannim2\n",
            "비정상적인 팀운\n",
            "싸발연이\n",
            "Eqecx\n",
            "야옹야옹송아지\n",
            "상어 코 때리기\n",
            "마산 조루왕\n",
            "세화여고 이요원\n",
            "SEK4\n",
            "나는할수있습니다\n",
            "생 혼\n",
            "뚜 딴\n",
            "쥐종대왕\n",
            "llllIIIIIllllll\n",
            "원천징수영끌7천\n",
            "이응빡\n",
            "데마시아 컷\n",
            "23년생원딜러\n",
            "tlswlemwkddls\n",
            "zl존Er락DARK왕\n",
            "Karsc\n",
            "배고파요헝그리\n",
            "bixin32567904\n",
            "잠시만놀게\n",
            "Round One\n",
            "폭유 정욱\n",
            "그 총\n",
            "말걸지마라잡종\n",
            "오뚜기300분미트볼\n",
            "5코3성람머스\n",
            "깽 랑\n",
            "뭘그래뻐이보노\n",
            "이재명식 누누\n",
            "얼굴완전작음\n",
            "jiumeng\n",
            "Park Shin Won\n",
            "FA Silky\n",
            "마스터이금비\n",
            "채원이귀엽지\n",
            "겜에정떨어진사람\n",
            "샨테비스탄\n",
            "빨간색banana\n",
            "백 산\n",
            "HappY Game DotaX\n",
            "TES99\n",
            "암살자가요\n",
            "재능의 개화\n",
            "뚱녀만골라팬다\n",
            "잘했써\n",
            "코르키개안좋음\n",
            "이렇게까지해야하\n",
            "체리콕도둑\n",
            "저어어엉글러\n",
            "똥  뿌  직\n",
            "kr7\n",
            "허쉬초코토네이도\n",
            "상호리\n",
            "꼬시기만지는유현\n",
            "FreeBro\n",
            "낮잠zz\n",
            "먹던콩\n",
            "탑라인만가는사람\n",
            "와두콩\n",
            "돌진완\n",
            "쥬지튼튼영운이\n",
            "Rebirth Cookie\n",
            "겨울을 기다려요\n",
            "Dramaturgy\n",
            "이동혓\n",
            "해물탕수육\n",
            "땅진이입니다\n",
            "귤 킹\n",
            "겨울엔 찬물\n",
            "껸과류\n",
            "빈둥빙둥\n",
            "임영록\n",
            "자지잡놈\n",
            "건들면터지는원딜\n",
            "두엔날드자두\n",
            "푸욜뿌욜\n",
            "단대미쳐패는놈\n",
            "상호민교뜨뜨\n",
            "화약통 대신 딱콩\n",
            "리아리토\n",
            "이즈잡아주세요\n",
            "가나다나가나다나\n",
            "커리맛 똥\n",
            "빡치면 너도하셈\n",
            "IGOLNIK\n",
            "그님 티 모요\n",
            "숯불돼지고기\n",
            "강프로식사잡숴써\n",
            "성민치\n",
            "최 효 팔\n",
            "약속된승리의검\n",
            "By사탕막대\n",
            "봉담쭈니\n",
            "prideofmyparents\n",
            "윤태준2번째계정\n",
            "천하의 정글러\n",
            "포챠나 인형\n",
            "나답게\n",
            "무관귀1신\n",
            "평화공원\n",
            "자크 베놈\n",
            "구데기킬러\n",
            "동 빙\n",
            "도토리비빔막국수\n",
            "실패한 삶의 남자\n",
            "레드보리\n",
            "yangfanchuhai\n",
            "비응신도구\n",
            "Seopport\n",
            "전지적르블랑시점\n",
            "낭만없는\n",
            "이대론안돼\n",
            "벌 헤는 밤\n",
            "여왕의 진가\n",
            "뚱스라이팅\n",
            "김재환3\n",
            "인천동양동불주먹\n",
            "열정 그리고 냉정\n",
            "anycoloryoulike\n",
            "붉은 너구리\n",
            "원딜벽느낀사람\n",
            "상남자 권혁\n",
            "이화시장두번째집\n",
            "y3n\n",
            "차광선글라스\n",
            "폐관수련다시시작\n",
            "진심모드 반수민\n",
            "Ie0 messi\n",
            "오홍영입니다\n",
            "립 스\n",
            "유빈이 지켜 줘\n",
            "용현핸섬\n",
            "리신머가리\n",
            "엠 돌\n",
            "잠실여고 수아\n",
            "첫판노갱\n",
            "갈비굽는장인\n",
            "Imagine that\n",
            "T1 김예원\n",
            "Solace\n",
            "밥음복\n",
            "syrahW\n",
            "아이오니아\n",
            "채팅게임 롤\n",
            "23년4월24일와라\n",
            "나쁜하루보내세요\n",
            "cs에민감한사람\n",
            "a1dc\n",
            "혼자자요\n",
            "조 쯩\n",
            "신형만fan\n",
            "2007 10 12\n",
            "참을라\n",
            "캣뽀즈\n",
            "Valh4lla\n",
            "곽두팔남친\n",
            "아이러브유\n",
            "어리둥절엉망진창\n",
            "플레티넘 망나니\n",
            "안가싫어부르지마\n",
            "lllIlIIlIlIIl\n",
            "골통분쇄자류성현\n",
            "잘해보고 싶은데\n",
            "세우스입니다\n",
            "첫눈에 그대와\n",
            "덜비빈비빕밥\n",
            "퀴여운코콤미\n",
            "노유미 노브라움\n",
            "zsxcasdasd\n"
          ]
        }
      ],
      "source": [
        "r = requests.get(url)\n",
        "r = r.json()\n",
        "for i in r:\n",
        "    print(i['summonerName'])"
      ]
    },
    {
      "cell_type": "code",
      "execution_count": 4,
      "metadata": {},
      "outputs": [],
      "source": [
        "import getLoLData2"
      ]
    },
    {
      "cell_type": "code",
      "execution_count": 8,
      "metadata": {},
      "outputs": [
        {
          "name": "stdout",
          "output_type": "stream",
          "text": [
            "downloading summonerID!\n",
            "summonerId downloaded!\n",
            "downloading puuid!\n"
          ]
        },
        {
          "name": "stderr",
          "output_type": "stream",
          "text": [
            " 48%|████▊     | 99/205 [00:51<00:52,  2.03it/s]"
          ]
        },
        {
          "name": "stdout",
          "output_type": "stream",
          "text": [
            "api cost full : infinite loop start\n",
            "loop location :  gf9neIPfViNNHnOOzne7DIWGcxymz6st97n1p4G-oObdZaE\n",
            "try 120 second wait time\n"
          ]
        },
        {
          "name": "stderr",
          "output_type": "stream",
          "text": [
            " 49%|████▉     | 100/205 [02:52<1:04:18, 36.75s/it]"
          ]
        },
        {
          "name": "stdout",
          "output_type": "stream",
          "text": [
            "200\n",
            "total wait time : 120.97806119918823\n",
            "recovery api cost\n"
          ]
        },
        {
          "name": "stderr",
          "output_type": "stream",
          "text": [
            " 97%|█████████▋| 199/205 [03:47<00:03,  1.66it/s]  "
          ]
        },
        {
          "name": "stdout",
          "output_type": "stream",
          "text": [
            "api cost full : infinite loop start\n",
            "loop location :  MG1PgMEugVnRZ-5_IdwkxHqm0Jup_o_4JAmpr0Ov-DQpKRk\n",
            "try 120 second wait time\n"
          ]
        },
        {
          "name": "stderr",
          "output_type": "stream",
          "text": [
            " 98%|█████████▊| 200/205 [05:49<03:03, 36.75s/it]"
          ]
        },
        {
          "name": "stdout",
          "output_type": "stream",
          "text": [
            "200\n",
            "total wait time : 120.470547914505\n",
            "recovery api cost\n"
          ]
        },
        {
          "name": "stderr",
          "output_type": "stream",
          "text": [
            "100%|██████████| 205/205 [05:51<00:00,  1.71s/it]\n"
          ]
        },
        {
          "name": "stdout",
          "output_type": "stream",
          "text": [
            "puuid downloaded!\n",
            "downloading matchId!\n"
          ]
        },
        {
          "name": "stderr",
          "output_type": "stream",
          "text": [
            " 49%|████▉     | 100/205 [00:52<00:50,  2.08it/s]"
          ]
        },
        {
          "name": "stdout",
          "output_type": "stream",
          "text": [
            "api cost full : infinite loop start\n",
            "loop location:  AtnI339H3bjrSSDH60AVAcwAkpYS5IjEe62VAs8gNiUBekb_MndswLO2-9XdTLkhoQM2KFxqvNismw\n",
            "try 120 second wait time\n"
          ]
        },
        {
          "name": "stderr",
          "output_type": "stream",
          "text": [
            " 49%|████▉     | 101/205 [02:53<1:03:26, 36.60s/it]"
          ]
        },
        {
          "name": "stdout",
          "output_type": "stream",
          "text": [
            "200\n",
            "total wait time : 120.46110510826111\n",
            "recovery api cost\n"
          ]
        },
        {
          "name": "stderr",
          "output_type": "stream",
          "text": [
            " 98%|█████████▊| 200/205 [03:38<00:02,  2.31it/s]  "
          ]
        },
        {
          "name": "stdout",
          "output_type": "stream",
          "text": [
            "api cost full : infinite loop start\n",
            "loop location:  QxwdatmuGN1FumJIV4777wBKmhhjt7Zdvl-F2Gi8LQxGvwk3q7i7PgJsM5xP8EFKnvBgQrie2YZh8g\n",
            "try 120 second wait time\n"
          ]
        },
        {
          "name": "stderr",
          "output_type": "stream",
          "text": [
            " 98%|█████████▊| 201/205 [05:39<02:26, 36.59s/it]"
          ]
        },
        {
          "name": "stdout",
          "output_type": "stream",
          "text": [
            "200\n",
            "total wait time : 120.59776401519775\n",
            "recovery api cost\n"
          ]
        },
        {
          "name": "stderr",
          "output_type": "stream",
          "text": [
            "100%|██████████| 205/205 [05:42<00:00,  1.67s/it]\n"
          ]
        },
        {
          "name": "stdout",
          "output_type": "stream",
          "text": [
            "matchId downloaded!\n",
            "downloading TimelineData!\n"
          ]
        },
        {
          "name": "stderr",
          "output_type": "stream",
          "text": [
            " 46%|████▋     | 95/205 [01:34<01:26,  1.28it/s] "
          ]
        },
        {
          "name": "stdout",
          "output_type": "stream",
          "text": [
            "api cost full : infinite loop start\n",
            "loop location :  95\n",
            "try 120 second wait time\n"
          ]
        },
        {
          "name": "stderr",
          "output_type": "stream",
          "text": [
            " 47%|████▋     | 96/205 [03:36<1:07:48, 37.33s/it]"
          ]
        },
        {
          "name": "stdout",
          "output_type": "stream",
          "text": [
            "200\n",
            "total wait time :  122.22234106063843\n",
            "recovery api cost\n"
          ]
        },
        {
          "name": "stderr",
          "output_type": "stream",
          "text": [
            " 95%|█████████▌| 195/205 [04:45<00:05,  1.67it/s] "
          ]
        },
        {
          "name": "stdout",
          "output_type": "stream",
          "text": [
            "api cost full : infinite loop start\n",
            "loop location :  195\n",
            "try 120 second wait time\n"
          ]
        },
        {
          "name": "stderr",
          "output_type": "stream",
          "text": [
            " 96%|█████████▌| 196/205 [06:47<05:34, 37.14s/it]"
          ]
        },
        {
          "name": "stdout",
          "output_type": "stream",
          "text": [
            "200\n",
            "total wait time :  122.16341710090637\n",
            "recovery api cost\n"
          ]
        },
        {
          "name": "stderr",
          "output_type": "stream",
          "text": [
            "100%|██████████| 205/205 [06:55<00:00,  2.03s/it]"
          ]
        },
        {
          "name": "stdout",
          "output_type": "stream",
          "text": [
            "TimelineData downloaded!\n"
          ]
        },
        {
          "name": "stderr",
          "output_type": "stream",
          "text": [
            "\n"
          ]
        }
      ],
      "source": [
        "df = getLoLData2.getTimelineData(api_key, 6,15)\n",
        "df.to_csv(\"/Users/ichang-ug/Documents/GitHub/esports_YSAL/LOL/Data//SI15.csv\")"
      ]
    },
    {
      "cell_type": "code",
      "execution_count": null,
      "metadata": {},
      "outputs": [],
      "source": []
    }
  ],
  "metadata": {
    "colab": {
      "provenance": []
    },
    "kernelspec": {
      "display_name": "Python 3",
      "name": "python3"
    },
    "language_info": {
      "codemirror_mode": {
        "name": "ipython",
        "version": 3
      },
      "file_extension": ".py",
      "mimetype": "text/x-python",
      "name": "python",
      "nbconvert_exporter": "python",
      "pygments_lexer": "ipython3",
      "version": "3.10.10"
    }
  },
  "nbformat": 4,
  "nbformat_minor": 0
}
