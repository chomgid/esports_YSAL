{
  "cells": [
    {
      "cell_type": "code",
      "execution_count": 71,
      "metadata": {
        "id": "PbNI67ASzatd"
      },
      "outputs": [],
      "source": [
        "import requests\n",
        "import json\n",
        "import time\n",
        "import pandas as pd\n",
        "from tqdm import tqdm\n",
        "import numpy as np\n",
        "\n",
        "api_key = \"RGAPI-46815531-94e2-4eca-935a-3ecb13c0474b\""
      ]
    },
    {
      "cell_type": "code",
      "execution_count": 68,
      "metadata": {
        "id": "_UQYzNHy_f3R"
      },
      "outputs": [],
      "source": [
        "#챌린저 summoner ID 가져오기\n",
        "url=\"https://kr.api.riotgames.com/lol/league/v4/challengerleagues/by-queue/RANKED_SOLO_5x5?api_key=\"+api_key\n",
        "\n",
        "summonerId = {}\n",
        "r = requests.get(url)\n",
        "r = r.json()['entries']\n",
        "\n",
        "for i in r:\n",
        "    summonerId[i['summonerName']] = i['summonerId']\n"
      ]
    },
    {
      "cell_type": "code",
      "execution_count": 69,
      "metadata": {
        "colab": {
          "base_uri": "https://localhost:8080/"
        },
        "id": "bFHzlUVm_f3S",
        "outputId": "3b6a5ce4-cc19-475d-ea0d-6c888984b1aa"
      },
      "outputs": [
        {
          "name": "stderr",
          "output_type": "stream",
          "text": [
            " 33%|███▎      | 99/300 [00:54<01:02,  3.22it/s]"
          ]
        },
        {
          "name": "stdout",
          "output_type": "stream",
          "text": [
            "api cost full : infinite loop start\n",
            "loop location :  3U0z8vvDNaM5rtWbGhBMRuS33tB1XLrliq50HCdJ9xJ1wZg\n",
            "try 120 second wait time\n"
          ]
        },
        {
          "name": "stderr",
          "output_type": "stream",
          "text": [
            " 33%|███▎      | 99/300 [00:57<01:56,  1.72it/s]\n"
          ]
        },
        {
          "ename": "KeyboardInterrupt",
          "evalue": "",
          "output_type": "error",
          "traceback": [
            "\u001b[0;31m---------------------------------------------------------------------------\u001b[0m",
            "\u001b[0;31mKeyboardInterrupt\u001b[0m                         Traceback (most recent call last)",
            "Cell \u001b[0;32mIn[69], line 18\u001b[0m\n\u001b[1;32m     16\u001b[0m \u001b[39mif\u001b[39;00m r\u001b[39m.\u001b[39mstatus_code \u001b[39m==\u001b[39m \u001b[39m429\u001b[39m:\n\u001b[1;32m     17\u001b[0m     \u001b[39mprint\u001b[39m(\u001b[39m'\u001b[39m\u001b[39mtry 120 second wait time\u001b[39m\u001b[39m'\u001b[39m)\n\u001b[0;32m---> 18\u001b[0m     time\u001b[39m.\u001b[39;49msleep (\u001b[39m120\u001b[39;49m)\n\u001b[1;32m     20\u001b[0m     r \u001b[39m=\u001b[39m requests\u001b[39m.\u001b[39mget (url2)\n\u001b[1;32m     21\u001b[0m     \u001b[39mprint\u001b[39m(r\u001b[39m.\u001b[39mstatus_code)\n",
            "\u001b[0;31mKeyboardInterrupt\u001b[0m: "
          ]
        }
      ],
      "source": [
        "# summonerId를 통해 puuid 추출\n",
        "puuid = {}\n",
        "\n",
        "for i, j in zip(tqdm(summonerId.values()) , summonerId.keys()) :\n",
        "    url2 ='https://kr.api.riotgames.com/lol/summoner/v4/summoners/'+i+ '?api_key='+api_key\n",
        "    r = requests.get (url2)\n",
        "\n",
        "    if r.status_code == 200:\n",
        "        pass\n",
        "    elif r.status_code == 429:\n",
        "        print ('api cost full : infinite loop start')\n",
        "        print ('loop location : ',i)\n",
        "        start_time = time.time ()\n",
        "\n",
        "        while True:\n",
        "            if r.status_code == 429:\n",
        "                print('try 120 second wait time')\n",
        "                time.sleep (120)\n",
        "                \n",
        "                r = requests.get (url2)\n",
        "                print(r.status_code)\n",
        "            elif r.status_code == 200:\n",
        "                print('total wait time :' , time.time() - start_time)\n",
        "                print('recovery api cost')\n",
        "                break\n",
        "    r = r.json()\n",
        "    puuid[r['name']] = r['puuid']\n",
        "            "
      ]
    },
    {
      "cell_type": "code",
      "execution_count": null,
      "metadata": {
        "id": "3zowcOj3_f3T",
        "outputId": "f9e12d0d-a6f6-4188-d0cf-97f6bb19a2f6"
      },
      "outputs": [
        {
          "name": "stderr",
          "output_type": "stream",
          "text": [
            " 33%|███▎      | 99/300 [00:48<01:26,  2.32it/s]"
          ]
        },
        {
          "name": "stdout",
          "output_type": "stream",
          "text": [
            "api cost full : infinite loop start\n",
            "loop location:  axqqqY1iD32sAJz-hXFAUvEbzy8eXLKh7Sb94cy7HV06TNsSyoPSrKnzcUxMRLiZVVqltif0mg58LA\n",
            "try 120 second wait time\n"
          ]
        },
        {
          "name": "stderr",
          "output_type": "stream",
          "text": [
            " 33%|███▎      | 100/300 [02:50<2:02:23, 36.72s/it]"
          ]
        },
        {
          "name": "stdout",
          "output_type": "stream",
          "text": [
            "200\n",
            "total wait time : 120.98767113685608\n",
            "recovery api cost\n"
          ]
        },
        {
          "name": "stderr",
          "output_type": "stream",
          "text": [
            " 66%|██████▋   | 199/300 [03:34<00:40,  2.50it/s]  "
          ]
        },
        {
          "name": "stdout",
          "output_type": "stream",
          "text": [
            "api cost full : infinite loop start\n",
            "loop location:  1ltOClu_tQjEoA-eCdNzAodvnh6s_RssAYdi34hndS_BAxi5Gr_iqJzyivULpsc4rWQ06BYxv9xZaA\n",
            "try 120 second wait time\n"
          ]
        },
        {
          "name": "stderr",
          "output_type": "stream",
          "text": [
            " 67%|██████▋   | 200/300 [05:35<1:01:00, 36.61s/it]"
          ]
        },
        {
          "name": "stdout",
          "output_type": "stream",
          "text": [
            "200\n",
            "total wait time : 120.71778297424316\n",
            "recovery api cost\n"
          ]
        },
        {
          "name": "stderr",
          "output_type": "stream",
          "text": [
            "100%|█████████▉| 299/300 [06:23<00:00,  2.41it/s]  "
          ]
        },
        {
          "name": "stdout",
          "output_type": "stream",
          "text": [
            "api cost full : infinite loop start\n",
            "loop location:  MpkP02aYrZGJM95s3Ql5H79KGiEgFjVWuSQekUpFAMBSRJ9Gx-qPtZZjp3jfKf1BSxbvFrI74QTMzQ\n",
            "try 120 second wait time\n"
          ]
        },
        {
          "name": "stderr",
          "output_type": "stream",
          "text": [
            "100%|██████████| 300/300 [08:24<00:00,  1.68s/it]"
          ]
        },
        {
          "name": "stdout",
          "output_type": "stream",
          "text": [
            "200\n",
            "total wait time : 120.57295107841492\n",
            "recovery api cost\n"
          ]
        },
        {
          "name": "stderr",
          "output_type": "stream",
          "text": [
            "\n"
          ]
        }
      ],
      "source": [
        "matchId =set()\n",
        "for i in tqdm(puuid.values()):\n",
        "    match_url = \"https://asia.api.riotgames.com/lol/match/v5/matches/by-puuid/\"+i+\"/ids?start=0&count=10&api_key=\" + api_key\n",
        "    r_match = requests.get(match_url)\n",
        "\n",
        "    if r_match.status_code ==200:\n",
        "        pass\n",
        "    elif r_match.status_code==429:\n",
        "        print('api cost full : infinite loop start')\n",
        "        print('loop location: ' ,i)\n",
        "        start_time=time.time()\n",
        "    \n",
        "        while True:\n",
        "            if r_match.status_code == 429:\n",
        "                print('try 120 second wait time')\n",
        "                time.sleep (120)\n",
        "                \n",
        "                r_match = requests.get (match_url)\n",
        "                print(r_match.status_code)\n",
        "            elif r_match.status_code == 200:\n",
        "                print('total wait time :' , time.time() - start_time)\n",
        "                print('recovery api cost')\n",
        "                break\n",
        "    \n",
        "    matchId.update(r_match.json())\n",
        "\n",
        "\n",
        "\n"
      ]
    },
    {
      "cell_type": "code",
      "execution_count": 81,
      "metadata": {},
      "outputs": [
        {
          "data": {
            "text/plain": [
              "[1, 2, 3]"
            ]
          },
          "execution_count": 81,
          "metadata": {},
          "output_type": "execute_result"
        }
      ],
      "source": [
        "a = set()\n",
        "a.update([1,2,3])\n",
        "list(a)\n"
      ]
    },
    {
      "cell_type": "code",
      "execution_count": null,
      "metadata": {
        "colab": {
          "base_uri": "https://localhost:8080/"
        },
        "id": "c7tMQH0m_f3U",
        "outputId": "c25eb2df-878d-4254-dc36-a7dff959c2f4"
      },
      "outputs": [
        {
          "name": "stderr",
          "output_type": "stream",
          "text": [
            "100%|██████████| 19/19 [00:22<00:00,  1.16s/it]\n"
          ]
        }
      ],
      "source": [
        "matchdata = {}\n",
        "matchwins = {}\n",
        "for i in tqdm(matchId):\n",
        "    url = \"https://asia.api.riotgames.com/lol/match/v5/matches/\"+i+\"/timeline?api_key=\"+api_key\n",
        "    r = requests.get(url)\n",
        "\n",
        "    if r.status_code ==200:\n",
        "        pass\n",
        "    elif r.status_code==429:\n",
        "        print('api cost full : infinite loop start')\n",
        "        print('loop location: ' ,i)\n",
        "        start_time=time.time()\n",
        "    \n",
        "        while True:\n",
        "            if r.status_code == 429:\n",
        "                print('try 120 second wait time')\n",
        "                time.sleep (120)\n",
        "                \n",
        "                r = requests.get (match_url)\n",
        "                print(r_match.status_code)\n",
        "            elif r.status_code == 200:\n",
        "                print('total wait time :' , time.time() - start_time)\n",
        "                print('recovery api cost')\n",
        "                break\n",
        "        \n",
        "    try:\n",
        "        matchdata[i]=r.json()['info']['frames'][10]\n",
        "        # matchwins[]\n",
        "    except:\n",
        "        print(\"Error\")\n",
        "\n",
        "\n"
      ]
    },
    {
      "cell_type": "code",
      "execution_count": 72,
      "metadata": {
        "id": "9lAhpqGm_f3W"
      },
      "outputs": [],
      "source": [
        "matchId = ['KR_6416085964', 'KR_6416039783', 'KR_6416021626', 'KR_6415864679', 'KR_6415827891']"
      ]
    },
    {
      "cell_type": "code",
      "execution_count": 78,
      "metadata": {
        "colab": {
          "base_uri": "https://localhost:8080/"
        },
        "id": "cIYwd7WeHHdo",
        "outputId": "02a43982-8350-4fd2-e2e6-c95acd29cdf8"
      },
      "outputs": [
        {
          "name": "stderr",
          "output_type": "stream",
          "text": [
            " 20%|██        | 1/5 [00:00<00:01,  2.28it/s]"
          ]
        },
        {
          "name": "stdout",
          "output_type": "stream",
          "text": [
            "None\n",
            "data crawling success\n"
          ]
        },
        {
          "name": "stderr",
          "output_type": "stream",
          "text": [
            " 40%|████      | 2/5 [00:00<00:01,  2.13it/s]"
          ]
        },
        {
          "name": "stdout",
          "output_type": "stream",
          "text": [
            "None\n",
            "data crawling success\n"
          ]
        },
        {
          "name": "stderr",
          "output_type": "stream",
          "text": [
            " 80%|████████  | 4/5 [00:01<00:00,  2.35it/s]"
          ]
        },
        {
          "name": "stdout",
          "output_type": "stream",
          "text": [
            "None\n",
            "data crawling success\n"
          ]
        },
        {
          "name": "stderr",
          "output_type": "stream",
          "text": [
            "100%|██████████| 5/5 [00:02<00:00,  2.28it/s]"
          ]
        },
        {
          "name": "stdout",
          "output_type": "stream",
          "text": [
            "None\n",
            "data crawling success\n"
          ]
        },
        {
          "name": "stderr",
          "output_type": "stream",
          "text": [
            "\n"
          ]
        }
      ],
      "source": [
        "min = 10\n",
        "\n",
        "# use columns\n",
        "use_columns = ['gameId','blueWins','blueTotalGolds','blueCurrentGolds','blueTotalLevel'\\\n",
        "                      ,'blueAvgLevel','blueTotalMinionKills','blueTotalJungleMinionKills'\n",
        "                      ,'blueFirstBlood','blueKill','blueDeath','blueAssist'\\\n",
        "                      ,'blueWardPlaced','blueWardKills','blueFirstTower','blueFirstInhibitor'\\\n",
        "                      ,'blueFirstTowerLane'\\\n",
        "                      ,'blueTowerKills','blueMidTowerKills','blueTopTowerKills','blueBotTowerKills'\\\n",
        "                      ,'blueInhibitor','blueFirstDragon','blueDragnoType','blueDragon','blueRiftHeralds'\\\n",
        "                      ,'redWins','redTotalGolds','redCurrentGolds','redTotalLevel'\\\n",
        "                      ,'redAvgLevel','redTotalMinionKills','redTotalJungleMinionKills'\n",
        "                      ,'redFirstBlood','redKill','redDeath','redAssist'\\\n",
        "                      ,'redWardPlaced','redWardKills','redFirstTower','redFirstInhibitor'\\\n",
        "                      ,'redFirstTowerLane'\\\n",
        "                      ,'redTowerKills','redMidTowerKills','redTopTowerKills','redBotTowerKills'\\\n",
        "                      ,'redInhibitor','redFirstDragon','redDragnoType','redDragon','redRiftHeralds']\n",
        "\n",
        "chal_timeline_df = pd.DataFrame()\n",
        "chal_timeline_df1 = pd.DataFrame()\n",
        "\n",
        "for b in tqdm(range(len(matchId))):\n",
        "  game_id = matchId[b]\n",
        "  url = 'https://asia.api.riotgames.com/lol/match/v5/matches/' + game_id +'/timeline/?api_key=' + api_key\n",
        "  req = requests.get(url)\n",
        "  # print(req.status_code)\n",
        "\n",
        "  # 응답 테스트 부분\n",
        "  if req.status_code == 200:\n",
        "            pass\n",
        "\n",
        "  elif req.status_code == 429:\n",
        "      print('api cost full : infinite loop start')\n",
        "      print('loop location : ', b)\n",
        "      start_time = time.time()\n",
        "\n",
        "      while True:\n",
        "          if req.status_code == 429:\n",
        "\n",
        "              print('try 120 second wait time')\n",
        "              time.sleep(121)\n",
        "\n",
        "              req = requests.get(match_url)\n",
        "              print(req.status_code)\n",
        "\n",
        "          elif req.status_code == 200:\n",
        "              print('total wait time : ', time.time() - start_time)\n",
        "              print('recovery api cost')\n",
        "              break\n",
        "\n",
        "  elif req.status_code == 503:\n",
        "      print('service available error')\n",
        "      start_time = time.time()\n",
        "\n",
        "      while True:\n",
        "          if req.status_code == 503 or req.status_code == 429:\n",
        "\n",
        "              print('try 10 second wait time')\n",
        "              time.sleep(10)\n",
        "\n",
        "              req = requests.get(match_url)\n",
        "              print(req.status_code)\n",
        "\n",
        "          elif req.status_code == 200:\n",
        "              print('total error wait time : ', time.time() - start_time)\n",
        "              print('recovery api cost')\n",
        "              break\n",
        "  elif req.status_code == 403: # api갱신이 필요\n",
        "      print('you need api renewal')\n",
        "      print('break')\n",
        "      break\n",
        "  # 응답 테스트 끝\n",
        "\n",
        "  # 필요부분만 가져오기\n",
        "  if len(req.json()['info']['frames']) <10:\n",
        "    continue\n",
        "  else:\n",
        "    frames = req.json()['info']['frames']\n",
        "\n",
        "  # 승패 확인\n",
        "  lastEvent = frames[-1]['events'][-1]\n",
        "  if lastEvent['type']==\"GAME_END\":\n",
        "    if lastEvent['winningTeam'] == 100:\n",
        "      blueWins='True'\n",
        "      redWins = 'False'\n",
        "    else:\n",
        "      blueWins=\"False\"\n",
        "      redWins = \"True\"\n",
        "  else:\n",
        "    pass\n",
        "  \n",
        "\n",
        "  participant = frames[10]['participantFrames']\n",
        "  bluetotal_gold, bluecurrent_gold, bluetotal_level,bluetotal_minionkill,bluetotal_jungleminionkill = [],[],[],[],[]\n",
        "  redtotal_gold, redcurrent_gold, redtotal_level,redtotal_minionkill, redtotal_jungleminionkill = [],[],[],[],[]\n",
        "  \n",
        "\n",
        "  for i in range(len(participant)):\n",
        "    i = i+1\n",
        "    if 1<=i<5:\n",
        "      bluetotal_gold.append(participant[str(i)]['totalGold'])\n",
        "      bluecurrent_gold.append(participant[str(i)]['currentGold'])\n",
        "      bluetotal_level.append(participant[str(i)]['level'])\n",
        "      bluetotal_minionkill.append(participant[str(i)]['minionsKilled'])\n",
        "      bluetotal_jungleminionkill.append(participant[str(i)]['jungleMinionsKilled'])\n",
        "    else:\n",
        "      redtotal_gold.append(participant[str(i)]['totalGold'])\n",
        "      redcurrent_gold.append(participant[str(i)]['currentGold'])\n",
        "      redtotal_level.append(participant[str(i)]['level'])\n",
        "      redtotal_minionkill.append(participant[str(i)]['minionsKilled'])\n",
        "      redtotal_jungleminionkill.append(participant[str(i)]['jungleMinionsKilled'])\n",
        "\n",
        "\n",
        "  #timestamp별로 독립적인 변수들을 나타내므로 n분까지의 데이터를 수집하기 위해서는 계속 중첩해서 더해줘야 함\n",
        "  blue_kill, red_kill = 0,0\n",
        "  blue_firstkill, red_firstkill = 0,0\n",
        "  blue_assist, red_assist = 0,0\n",
        "  red_death, blue_death = 0,0\n",
        "  blue_wardplace, red_wardplace = 0,0\n",
        "  blue_wardkill, red_wardkill = 0,0\n",
        "  blue_elite, red_elite = 0,0\n",
        "  blue_rift, red_rift = 0,0\n",
        "  blue_dragon, red_dragon = 0,0\n",
        "  blue_baron, red_baron = 0,0\n",
        "  blue_firstdragon, red_firstdragon = 0,0\n",
        "  blue_dragontype, red_dragontype = [],[]\n",
        "  blue_firstbaron, red_firstbaron = 0,0\n",
        "  blue_tower,red_tower = 0,0\n",
        "  blue_firsttower, red_firsttower = 0,0\n",
        "  blue_firsttowerlane, red_firsttowerlane = [],[]\n",
        "  blue_midtower, red_midtower = 0,0\n",
        "  blue_toptower, red_toptower = 0,0\n",
        "  blue_bottower, red_bottower = 0,0\n",
        "  blue_inhibitor, red_inhibitor = 0,0\n",
        "  blue_firstinhibitor, red_firstinhibitor = 0,0\n",
        "\n",
        "\n",
        "  for y in range(1, min+1):\n",
        "    events = frames[y]['events']\n",
        "\n",
        "    for x in range(len(events)):\n",
        "      \n",
        "      # 와드 제거\n",
        "      if events[x]['type'] == 'WARD_KILL':\n",
        "        if 1 <= events[x]['killerId'] <= 5:\n",
        "            blue_wardkill += 1\n",
        "        else:\n",
        "            red_wardkill += 1\n",
        "      \n",
        "      # 와드 박기\n",
        "      elif events[x]['type'] == 'WARD_PLACED':\n",
        "        if 1 <= events[x]['creatorId'] <= 5:\n",
        "            blue_wardplace += 1\n",
        "        else:\n",
        "            red_wardplace += 1\n",
        "      \n",
        "      # 킬\n",
        "      elif events[x]['type'] == 'CHAMPION_KILL': \n",
        "        if 1 <= events[x]['killerId'] <= 5:\n",
        "          if red_kill ==0 and blue_kill ==0:\n",
        "              blue_firstkill += 1\n",
        "          else:\n",
        "              pass\n",
        "          blue_kill += 1\n",
        "          red_death += 1\n",
        "\n",
        "          # 블루 어시스트\n",
        "          if 'assistingParticipantIds' in events[x]:\n",
        "            blue_assist += len(events[x]['assistingParticipantIds'])\n",
        "          else:\n",
        "            pass\n",
        "\n",
        "\n",
        "        else:\n",
        "          if red_kill ==0 and blue_kill ==0:\n",
        "              red_firstkill += 1\n",
        "          else:\n",
        "              pass\n",
        "          red_kill += 1\n",
        "          blue_death += 1\n",
        "\n",
        "          # 레드 어시스트\n",
        "          if 'assistingParticipantIds' in events[x]:\n",
        "            red_assist += len(events[x]['assistingParticipantIds'])\n",
        "          else:\n",
        "            pass\n",
        "\n",
        "      \n",
        "      # 중요 몹(드래곤, 전령, 바론) 킬\n",
        "      elif events[x]['type'] == 'ELITE_MONSTER_KILL':\n",
        "        if 1 <= events[x]['killerId'] <= 5:\n",
        "          blue_elite += 1\n",
        "\n",
        "          if events[x]['monsterType']== 'DRAGON':\n",
        "            if red_dragon ==0 and blue_dragon == 0:\n",
        "                  blue_firstdragon += 1\n",
        "            else:\n",
        "                pass\n",
        "\n",
        "            blue_dragontype.append(events[x]['monsterSubType'])\n",
        "            blue_dragon += 1\n",
        "\n",
        "\n",
        "\n",
        "          elif events[x]['monsterType']== 'RIFTHERALD':\n",
        "            blue_rift += 1\n",
        "\n",
        "          elif events[x]['monsterType']== 'BARON_NASHOR':\n",
        "            if red_baron ==0 and blue_dragon == 0:\n",
        "              blue_firstbaron += 1\n",
        "            else:\n",
        "              pass\n",
        "\n",
        "            blue_baron += 1\n",
        "\n",
        "        else:\n",
        "          red_elite += 1\n",
        "\n",
        "          if events[x]['monsterType']== 'DRAGON':\n",
        "            if red_dragon ==0 and blue_dragon == 0:\n",
        "                  red_firstdragon += 1\n",
        "            else:\n",
        "                pass\n",
        "\n",
        "            red_dragontype.append(events[x]['monsterSubType'])\n",
        "            red_dragon += 1\n",
        "\n",
        "\n",
        "\n",
        "          elif events[x]['monsterType']== 'RIFTHERALD':\n",
        "            red_rift += 1\n",
        "\n",
        "          elif events[x]['monsterType']== 'BARON_NASHOR':\n",
        "            if red_baron ==0 and blue_dragon == 0:\n",
        "                  red_firstbaron += 1\n",
        "            else:\n",
        "                pass\n",
        "\n",
        "            red_baron += 1\n",
        "      \n",
        "      # 구조물 파괴\n",
        "      elif events[x]['type'] == 'BUILDING_KILL':\n",
        "        if 1 <= events[x]['killerId'] <= 5:\n",
        "          \n",
        "          # 블루 타워 파괴\n",
        "          if events[x]['buildingType'] == 'TOWER_BUILDING':\n",
        "            if red_tower == 0 and blue_tower ==0:\n",
        "              blue_firsttower += 1\n",
        "              blue_firsttowerlane.append(events[x]['laneType'])\n",
        "\n",
        "            else:\n",
        "              pass\n",
        "\n",
        "            blue_tower += 1\n",
        "\n",
        "            if events[x]['laneType'] == 'MID_LANE':\n",
        "              blue_midtower += 1\n",
        "\n",
        "            elif events[x]['laneType'] == 'TOP_LANE':\n",
        "              blue_toptower += 1\n",
        "\n",
        "            elif events[x]['laneType'] == 'BOT_LANE':\n",
        "              blue_bottower += 1\n",
        "\n",
        "\n",
        "          # 블루 억제기 파괴\n",
        "          elif events[x]['buildingType'] == 'INHIBITOR_BUILDING':\n",
        "            if red_inhibitor == 0 and blue_inhibitor ==0:\n",
        "                blue_firstinhibitor += 1\n",
        "\n",
        "            else:\n",
        "                pass\n",
        "\n",
        "            blue_inhibitor += 1\n",
        "\n",
        "        else:\n",
        "\n",
        "          # 레드 타워 파괴\n",
        "          if events[x]['buildingType'] == 'TOWER_BUILDING':\n",
        "            if red_tower == 0 and blue_tower ==0:\n",
        "                red_firsttower += 1\n",
        "                red_firsttowerlane.append(events[x]['laneType'])\n",
        "\n",
        "            else:\n",
        "                pass\n",
        "\n",
        "            red_tower += 1\n",
        "\n",
        "            if events[x]['laneType'] == 'MID_LANE':\n",
        "                red_midtower += 1\n",
        "\n",
        "            elif events[x]['laneType'] == 'TOP_LANE':\n",
        "                red_toptower += 1\n",
        "\n",
        "            elif events[x]['laneType'] == 'BOT_LANE':\n",
        "                red_bottower += 1\n",
        "\n",
        "          # 레드 억제기 파괴\n",
        "          elif events[x]['buildingType'] == 'INHIBITOR_BUILDING':\n",
        "            if red_inhibitor == 0 and blue_inhibitor ==0:\n",
        "                red_firstinhibitor += 1\n",
        "\n",
        "            else:\n",
        "                pass\n",
        "\n",
        "            red_inhibitor += 1\n",
        "\n",
        "\n",
        "  try:\n",
        "    blue_firsttowerlane = blue_firsttowerlane[0]\n",
        "  except:\n",
        "    blue_firsttowerlane= None\n",
        "  try: \n",
        "    blue_dragontype=blue_dragontype[0]\n",
        "  except:\n",
        "    blue_dragontype=None\n",
        "  try:\n",
        "    red_firsttowerlane = red_firsttowerlane[0]\n",
        "  except:\n",
        "    red_firsttowerlane = None\n",
        "  try:\n",
        "    red_dragontype=red_dragontype[0]\n",
        "  except:\n",
        "    red_dragontype =None\n",
        "    \n",
        "  data_list = [game_id,blueWins,np.sum(bluetotal_gold)\\\n",
        "            ,np.sum(bluecurrent_gold),np.sum(bluetotal_level),np.mean(bluetotal_level)\\\n",
        "            ,np.sum(bluetotal_minionkill),np.sum(bluetotal_jungleminionkill)\\\n",
        "            ,blue_firstkill,blue_kill,blue_death,blue_assist,blue_wardplace,blue_wardkill\\\n",
        "            ,blue_firsttower,blue_firstinhibitor,blue_firsttowerlane,blue_tower\\\n",
        "            ,blue_midtower,blue_toptower,blue_bottower,blue_inhibitor,blue_firstdragon\\\n",
        "            ,blue_dragontype,blue_dragon,blue_rift\\\n",
        "            ,redWins,np.sum(redtotal_gold)\\\n",
        "            ,np.sum(redcurrent_gold),np.sum(redtotal_level),np.mean(redtotal_level)\\\n",
        "            ,np.sum(redtotal_minionkill),np.sum(redtotal_jungleminionkill)\\\n",
        "            ,red_firstkill,red_kill,red_death,red_assist,red_wardplace,red_wardkill\\\n",
        "            ,red_firsttower,red_firstinhibitor,red_firsttowerlane,red_tower\\\n",
        "            ,red_midtower,red_toptower,red_bottower,red_inhibitor,red_firstdragon\\\n",
        "            ,red_dragontype,red_dragon,red_rift]     \n",
        "  \n",
        "  \n",
        "  \n",
        "  data_test = data_list\n",
        "\n",
        "  chal_timeline_df = pd.DataFrame(np.array([data_list]), columns=use_columns)\n",
        "  chal_timeline_df1 = pd.concat([chal_timeline_df1, chal_timeline_df])\n",
        "\n",
        "  print('data crawling success')\n",
        "\n",
        "  # if b!=0 and b%2000 ==0:\n",
        "  #   chal_timeline_df = pd.concat([chal_timeline_df, ])\n"
      ]
    },
    {
      "cell_type": "code",
      "execution_count": 76,
      "metadata": {},
      "outputs": [
        {
          "data": {
            "text/plain": [
              "0    None\n",
              "0    None\n",
              "0    None\n",
              "0    None\n",
              "Name: blueFirstTowerLane, dtype: object"
            ]
          },
          "execution_count": 76,
          "metadata": {},
          "output_type": "execute_result"
        }
      ],
      "source": [
        "chal_timeline_df1[[\"blueFirstTowerLane\"],]"
      ]
    },
    {
      "cell_type": "code",
      "execution_count": null,
      "metadata": {},
      "outputs": [
        {
          "name": "stdout",
          "output_type": "stream",
          "text": [
            "[]\n",
            "None\n",
            "[]\n",
            "None\n",
            "[]\n",
            "None\n",
            "['EARTH_DRAGON']\n",
            "EARTH_DRAGON\n"
          ]
        }
      ],
      "source": [
        "for d in [blue_firsttowerlane, blue_dragontype, red_firsttowerlane, red_dragontype]:\n",
        "     print(d)\n",
        "     if d==[]:\n",
        "        d = None\n",
        "     else:\n",
        "        d = d[0]\n",
        "     print(d)\n",
        "\n",
        "        "
      ]
    },
    {
      "cell_type": "code",
      "execution_count": null,
      "metadata": {},
      "outputs": [
        {
          "data": {
            "text/plain": [
              "'blueDragnoType'"
            ]
          },
          "execution_count": 35,
          "metadata": {},
          "output_type": "execute_result"
        }
      ],
      "source": [
        "use_columns[23]"
      ]
    },
    {
      "cell_type": "code",
      "execution_count": null,
      "metadata": {},
      "outputs": [],
      "source": [
        "def changer(alist):\n",
        "    if alist==[]:\n",
        "        alist = None\n",
        "    else:\n",
        "        alist = alist[0]\n",
        "    print(alist)"
      ]
    },
    {
      "cell_type": "code",
      "execution_count": null,
      "metadata": {},
      "outputs": [
        {
          "name": "stdout",
          "output_type": "stream",
          "text": [
            "None\n"
          ]
        }
      ],
      "source": [
        "blue_firsttowerlane=None\n",
        "print(blue_firsttowerlane)"
      ]
    },
    {
      "cell_type": "code",
      "execution_count": 53,
      "metadata": {},
      "outputs": [
        {
          "data": {
            "text/plain": [
              "[]"
            ]
          },
          "execution_count": 53,
          "metadata": {},
          "output_type": "execute_result"
        }
      ],
      "source": [
        "blue_firsttowerlane"
      ]
    },
    {
      "cell_type": "code",
      "execution_count": 45,
      "metadata": {},
      "outputs": [
        {
          "data": {
            "text/plain": [
              "['KR_6416085964',\n",
              " 'False',\n",
              " 13333,\n",
              " 1408,\n",
              " 27,\n",
              " 6.75,\n",
              " 191,\n",
              " 57,\n",
              " 1,\n",
              " 5,\n",
              " 5,\n",
              " 5,\n",
              " 15,\n",
              " 3,\n",
              " 0,\n",
              " 0,\n",
              " [],\n",
              " 0,\n",
              " 0,\n",
              " 0,\n",
              " 0,\n",
              " 0,\n",
              " 0,\n",
              " [],\n",
              " 0,\n",
              " 0,\n",
              " 'True',\n",
              " 19050,\n",
              " 2075,\n",
              " 38,\n",
              " 6.333333333333333,\n",
              " 221,\n",
              " 52,\n",
              " 0,\n",
              " 5,\n",
              " 5,\n",
              " 5,\n",
              " 18,\n",
              " 1,\n",
              " 0,\n",
              " 0,\n",
              " [],\n",
              " 0,\n",
              " 0,\n",
              " 0,\n",
              " 0,\n",
              " 0,\n",
              " 1,\n",
              " ['EARTH_DRAGON'],\n",
              " 1,\n",
              " 0]"
            ]
          },
          "execution_count": 45,
          "metadata": {},
          "output_type": "execute_result"
        }
      ],
      "source": [
        "data_test"
      ]
    },
    {
      "cell_type": "code",
      "execution_count": 21,
      "metadata": {
        "colab": {
          "base_uri": "https://localhost:8080/"
        },
        "id": "xejSxXjjzVax",
        "outputId": "d8106957-aeb5-4075-afb6-618fd36b6d66"
      },
      "outputs": [
        {
          "name": "stdout",
          "output_type": "stream",
          "text": [
            "Empty DataFrame\n",
            "Columns: []\n",
            "Index: []\n"
          ]
        }
      ],
      "source": [
        "print(chal_timeline_df)"
      ]
    },
    {
      "cell_type": "code",
      "execution_count": 14,
      "metadata": {
        "id": "MCuiXyAZlkZ3"
      },
      "outputs": [
        {
          "data": {
            "text/html": [
              "<div>\n",
              "<style scoped>\n",
              "    .dataframe tbody tr th:only-of-type {\n",
              "        vertical-align: middle;\n",
              "    }\n",
              "\n",
              "    .dataframe tbody tr th {\n",
              "        vertical-align: top;\n",
              "    }\n",
              "\n",
              "    .dataframe thead th {\n",
              "        text-align: right;\n",
              "    }\n",
              "</style>\n",
              "<table border=\"1\" class=\"dataframe\">\n",
              "  <thead>\n",
              "    <tr style=\"text-align: right;\">\n",
              "      <th></th>\n",
              "      <th>0</th>\n",
              "      <th>1</th>\n",
              "      <th>2</th>\n",
              "    </tr>\n",
              "  </thead>\n",
              "  <tbody>\n",
              "    <tr>\n",
              "      <th>0</th>\n",
              "      <td>0</td>\n",
              "      <td>1</td>\n",
              "      <td>3</td>\n",
              "    </tr>\n",
              "  </tbody>\n",
              "</table>\n",
              "</div>"
            ],
            "text/plain": [
              "   0  1  2\n",
              "0  0  1  3"
            ]
          },
          "execution_count": 14,
          "metadata": {},
          "output_type": "execute_result"
        }
      ],
      "source": [
        "a=0\n",
        "b=1\n",
        "c=3\n",
        "data_list = [a,b\\\n",
        "             ,c]\n",
        "pd.DataFrame(np.array([data_list]))"
      ]
    },
    {
      "cell_type": "code",
      "execution_count": 37,
      "metadata": {},
      "outputs": [
        {
          "ename": "ValueError",
          "evalue": "setting an array element with a sequence. The requested array has an inhomogeneous shape after 1 dimensions. The detected shape was (4,) + inhomogeneous part.",
          "output_type": "error",
          "traceback": [
            "\u001b[0;31m---------------------------------------------------------------------------\u001b[0m",
            "\u001b[0;31mValueError\u001b[0m                                Traceback (most recent call last)",
            "Cell \u001b[0;32mIn[37], line 2\u001b[0m\n\u001b[1;32m      1\u001b[0m data\u001b[39m=\u001b[39m [\u001b[39m1\u001b[39m,\u001b[39m2\u001b[39m,\u001b[39m3\u001b[39m,[]]\n\u001b[0;32m----> 2\u001b[0m np\u001b[39m.\u001b[39;49marray(data)\n\u001b[1;32m      3\u001b[0m data[\u001b[39m0\u001b[39m]\n",
            "\u001b[0;31mValueError\u001b[0m: setting an array element with a sequence. The requested array has an inhomogeneous shape after 1 dimensions. The detected shape was (4,) + inhomogeneous part."
          ]
        }
      ],
      "source": [
        "data= [1,2,3,[]]\n",
        "np.array(data)\n",
        "data[0]"
      ]
    },
    {
      "cell_type": "code",
      "execution_count": 42,
      "metadata": {},
      "outputs": [
        {
          "data": {
            "text/plain": [
              "True"
            ]
          },
          "execution_count": 42,
          "metadata": {},
          "output_type": "execute_result"
        }
      ],
      "source": [
        "data[3] == []\n"
      ]
    },
    {
      "cell_type": "code",
      "execution_count": null,
      "metadata": {},
      "outputs": [],
      "source": []
    }
  ],
  "metadata": {
    "colab": {
      "provenance": []
    },
    "kernelspec": {
      "display_name": "Python 3",
      "name": "python3"
    },
    "language_info": {
      "codemirror_mode": {
        "name": "ipython",
        "version": 3
      },
      "file_extension": ".py",
      "mimetype": "text/x-python",
      "name": "python",
      "nbconvert_exporter": "python",
      "pygments_lexer": "ipython3",
      "version": "3.10.10"
    }
  },
  "nbformat": 4,
  "nbformat_minor": 0
}
