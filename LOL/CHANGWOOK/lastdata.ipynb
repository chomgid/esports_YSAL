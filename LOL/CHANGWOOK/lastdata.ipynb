{
 "cells": [
  {
   "cell_type": "code",
   "execution_count": 16,
   "metadata": {},
   "outputs": [],
   "source": [
    "import pandas as pd\n",
    "cl15 = pd.read_csv(\"/Users/ichang-ug/Documents/GitHub/esports_YSAL/LOL/Data/CL15.csv\")\n",
    "gm15 = pd.read_csv(\"/Users/ichang-ug/Documents/GitHub/esports_YSAL/LOL/Data/GM15.csv\")\n",
    "api_key = \"RGAPI-def75b24-3914-4a63-83e3-8bfd24f2c617\"\n",
    "\n"
   ]
  },
  {
   "cell_type": "code",
   "execution_count": 11,
   "metadata": {},
   "outputs": [],
   "source": [
    "import requests\n",
    "import json\n",
    "import time\n",
    "import pandas as pd\n",
    "from tqdm import tqdm\n",
    "import numpy as np"
   ]
  },
  {
   "cell_type": "code",
   "execution_count": 13,
   "metadata": {},
   "outputs": [
    {
     "data": {
      "text/plain": [
       "0       KR_6419756778\n",
       "1       KR_6415275424\n",
       "2       KR_6423763038\n",
       "3       KR_6416730851\n",
       "4       KR_6421561510\n",
       "            ...      \n",
       "1516    KR_6424983956\n",
       "1517    KR_6421600762\n",
       "1518    KR_6421531877\n",
       "1519    KR_6419297103\n",
       "1520    KR_6424954348\n",
       "Name: gameId, Length: 1521, dtype: object"
      ]
     },
     "execution_count": 13,
     "metadata": {},
     "output_type": "execute_result"
    }
   ],
   "source": [
    "cl15[\"gameId\"]"
   ]
  },
  {
   "cell_type": "code",
   "execution_count": 19,
   "metadata": {},
   "outputs": [],
   "source": [
    "# matchId를 이용해 lastdata 가져오기\n",
    "def getLastData(api_key, tier):\n",
    "    '''\n",
    "    return gameData on specific min in pandas.DataFrame\n",
    "    args:\n",
    "        api_key(str or in list) : your Riot api key or keys\n",
    "        tier(int) : 0 for challenger, 1 for grandmaster, 2 for master\n",
    "        min : minutes\n",
    "    '''\n",
    "    matchId = gm15[\"gameId\"]\n",
    "\n",
    "    \n",
    "    print(\"downloading Last Data\")\n",
    "    \n",
    "\n",
    "    \n",
    "\n",
    "    # use columns\n",
    "    use_columns = ['gameId','blueWins','blueTotalGolds','blueCurrentGolds','blueTotalLevel'\\\n",
    "                        ,'blueAvgLevel','blueTotalMinionKills','blueTotalJungleMinionKills','blueTotalDamageToChampion'\\\n",
    "                        ,'blueFirstBlood','blueKill','blueDeath','blueAssist'\\\n",
    "                        ,'blueWardPlaced','blueWardKills','blueFirstTower','blueFirstInhibitor'\\\n",
    "                        ,'blueFirstTowerLane'\\\n",
    "                        ,'blueTowerKills','blueMidTowerKills','blueTopTowerKills','blueBotTowerKills'\\\n",
    "                        ,'blueInhibitor','blueFirstDragon','blueDragonType','blueDragon','blueRiftHeralds'\\\n",
    "                        ,'redWins','redTotalGolds','redCurrentGolds','redTotalLevel'\\\n",
    "                        ,'redAvgLevel','redTotalMinionKills','redTotalJungleMinionKills','redTotalDamageToChampion'\\\n",
    "                        ,'redFirstBlood','redKill','redDeath','redAssist'\\\n",
    "                        ,'redWardPlaced','redWardKills','redFirstTower','redFirstInhibitor'\\\n",
    "                        ,'redFirstTowerLane'\\\n",
    "                        ,'redTowerKills','redMidTowerKills','redTopTowerKills','redBotTowerKills'\\\n",
    "                        ,'redInhibitor','redFirstDragon','redDragonType','redDragon','redRiftHeralds']\n",
    "\n",
    "    chal_timeline_df = pd.DataFrame()\n",
    "\n",
    "    for b in tqdm(range(len(matchId))):\n",
    "        game_id = matchId[b]\n",
    "        url = 'https://asia.api.riotgames.com/lol/match/v5/matches/' + game_id +'/timeline/?api_key=' + api_key\n",
    "        req = requests.get(url)\n",
    "        # print(req.status_code)\n",
    "\n",
    "        # 응답 테스트 부분\n",
    "        if req.status_code == 200:\n",
    "                    pass\n",
    "                \n",
    "        elif req.status_code == 429:\n",
    "            print('api cost full : infinite loop start')\n",
    "            print('loop location : ', b)\n",
    "            start_time = time.time()\n",
    "\n",
    "            while True:\n",
    "                if req.status_code == 429:\n",
    "\n",
    "                    print('try 120 second wait time')\n",
    "                    time.sleep(121)\n",
    "\n",
    "                    req = requests.get(url)\n",
    "                    print(req.status_code)\n",
    "\n",
    "                elif req.status_code == 200:\n",
    "                    print('total wait time : ', time.time() - start_time)\n",
    "                    print('recovery api cost')\n",
    "                    break\n",
    "\n",
    "        elif req.status_code == 503:\n",
    "            print('service available error')\n",
    "            start_time = time.time()\n",
    "\n",
    "            while True:\n",
    "                if req.status_code == 503 or req.status_code == 429:\n",
    "\n",
    "                    print('try 10 second wait time')\n",
    "                    time.sleep(10)\n",
    "\n",
    "                    req = requests.get(url)\n",
    "                    print(req.status_code)\n",
    "\n",
    "                elif req.status_code == 200:\n",
    "                    print('total error wait time : ', time.time() - start_time)\n",
    "                    print('recovery api cost')\n",
    "                    break\n",
    "        elif req.status_code == 403: # api갱신이 필요\n",
    "            print('you need api renewal')\n",
    "            print('break')\n",
    "            break\n",
    "        # 응답 테스트 끝\n",
    "\n",
    "        \n",
    "        frames = req.json()['info']['frames']\n",
    "\n",
    "        # 승패 확인\n",
    "        lastEvent = frames[-1]['events'][-1]\n",
    "        if lastEvent['type']==\"GAME_END\":\n",
    "            if lastEvent['winningTeam'] == 100:\n",
    "                blueWins='True'\n",
    "                redWins = 'False'\n",
    "            else:\n",
    "                blueWins=\"False\"\n",
    "                redWins = \"True\"\n",
    "        else:\n",
    "            pass\n",
    "        \n",
    "\n",
    "        participant = frames[-1]['participantFrames']\n",
    "        bluetotal_gold, bluecurrent_gold, bluetotal_level,bluetotal_minionkill,bluetotal_jungleminionkill,bluetotal_damage = [],[],[],[],[],[]\n",
    "        redtotal_gold, redcurrent_gold, redtotal_level,redtotal_minionkill, redtotal_jungleminionkill,redtotal_damage = [],[],[],[],[],[]\n",
    "        \n",
    "\n",
    "        for i in range(len(participant)):\n",
    "            i = i+1\n",
    "            if 1<=i<5:\n",
    "                bluetotal_gold.append(participant[str(i)]['totalGold'])\n",
    "                bluecurrent_gold.append(participant[str(i)]['currentGold'])\n",
    "                bluetotal_level.append(participant[str(i)]['level'])\n",
    "                bluetotal_minionkill.append(participant[str(i)]['minionsKilled'])\n",
    "                bluetotal_jungleminionkill.append(participant[str(i)]['jungleMinionsKilled'])\n",
    "                bluetotal_damage.append(participant[str(i)][\"damageStats\"][\"totalDamageDoneToChampions\"])\n",
    "            else:\n",
    "                redtotal_gold.append(participant[str(i)]['totalGold'])\n",
    "                redcurrent_gold.append(participant[str(i)]['currentGold'])\n",
    "                redtotal_level.append(participant[str(i)]['level'])\n",
    "                redtotal_minionkill.append(participant[str(i)]['minionsKilled'])\n",
    "                redtotal_jungleminionkill.append(participant[str(i)]['jungleMinionsKilled'])\n",
    "                redtotal_damage.append(participant[str(i)][\"damageStats\"][\"totalDamageDoneToChampions\"])\n",
    "\n",
    "\n",
    "        #timestamp별로 독립적인 변수들을 나타내므로 n분까지의 데이터를 수집하기 위해서는 계속 중첩해서 더해줘야 함\n",
    "        blue_kill, red_kill = 0,0\n",
    "        blue_firstkill, red_firstkill = 0,0\n",
    "        blue_assist, red_assist = 0,0\n",
    "        red_death, blue_death = 0,0\n",
    "        blue_wardplace, red_wardplace = 0,0\n",
    "        blue_wardkill, red_wardkill = 0,0\n",
    "        blue_elite, red_elite = 0,0\n",
    "        blue_rift, red_rift = 0,0\n",
    "        blue_dragon, red_dragon = 0,0\n",
    "        blue_baron, red_baron = 0,0\n",
    "        blue_firstdragon, red_firstdragon = 0,0\n",
    "        blue_dragontype, red_dragontype = [],[]\n",
    "        blue_firstbaron, red_firstbaron = 0,0\n",
    "        blue_tower,red_tower = 0,0\n",
    "        blue_firsttower, red_firsttower = 0,0\n",
    "        blue_firsttowerlane, red_firsttowerlane = [],[]\n",
    "        blue_midtower, red_midtower = 0,0\n",
    "        blue_toptower, red_toptower = 0,0\n",
    "        blue_bottower, red_bottower = 0,0\n",
    "        blue_inhibitor, red_inhibitor = 0,0\n",
    "        blue_firstinhibitor, red_firstinhibitor = 0,0\n",
    "\n",
    "\n",
    "        for y in range(len(frames)):\n",
    "            events = frames[y]['events']\n",
    "\n",
    "            for x in range(len(events)):\n",
    "            \n",
    "                # 와드 제거\n",
    "                if events[x]['type'] == 'WARD_KILL':\n",
    "                    if 1 <= events[x]['killerId'] <= 5:\n",
    "                        blue_wardkill += 1\n",
    "                    else:\n",
    "                        red_wardkill += 1\n",
    "                \n",
    "                # 와드 박기\n",
    "                elif events[x]['type'] == 'WARD_PLACED':\n",
    "                    if 1 <= events[x]['creatorId'] <= 5:\n",
    "                        blue_wardplace += 1\n",
    "                    else:\n",
    "                        red_wardplace += 1\n",
    "                \n",
    "                # 킬\n",
    "                elif events[x]['type'] == 'CHAMPION_KILL': \n",
    "                    if 1 <= events[x]['killerId'] <= 5:\n",
    "                        if red_kill ==0 and blue_kill ==0:\n",
    "                            blue_firstkill += 1\n",
    "                        else:\n",
    "                            pass\n",
    "                        blue_kill += 1\n",
    "                        red_death += 1\n",
    "\n",
    "                        # 블루 어시스트\n",
    "                        if 'assistingParticipantIds' in events[x]:\n",
    "                            blue_assist += len(events[x]['assistingParticipantIds'])\n",
    "                        else:\n",
    "                            pass\n",
    "\n",
    "\n",
    "                    else:\n",
    "                        if red_kill ==0 and blue_kill ==0:\n",
    "                            red_firstkill += 1\n",
    "                        else:\n",
    "                            pass\n",
    "                        red_kill += 1\n",
    "                        blue_death += 1\n",
    "\n",
    "                        # 레드 어시스트\n",
    "                        if 'assistingParticipantIds' in events[x]:\n",
    "                            red_assist += len(events[x]['assistingParticipantIds'])\n",
    "                        else:\n",
    "                            pass\n",
    "\n",
    "                \n",
    "                # 중요 몹(드래곤, 전령, 바론) 킬\n",
    "                elif events[x]['type'] == 'ELITE_MONSTER_KILL':\n",
    "                    if 1 <= events[x]['killerId'] <= 5:\n",
    "                        blue_elite += 1\n",
    "\n",
    "                        if events[x]['monsterType']== 'DRAGON':\n",
    "                            if red_dragon ==0 and blue_dragon == 0:\n",
    "                                blue_firstdragon += 1\n",
    "                            else:\n",
    "                                pass\n",
    "\n",
    "                            blue_dragontype.append(events[x]['monsterSubType'])\n",
    "                            blue_dragon += 1\n",
    "\n",
    "\n",
    "\n",
    "                        elif events[x]['monsterType']== 'RIFTHERALD':\n",
    "                            blue_rift += 1\n",
    "\n",
    "                        elif events[x]['monsterType']== 'BARON_NASHOR':\n",
    "                            if red_baron ==0 and blue_dragon == 0:\n",
    "                                blue_firstbaron += 1    \n",
    "                            else:\n",
    "                                pass\n",
    "\n",
    "                            blue_baron += 1\n",
    "\n",
    "                    else:\n",
    "                        red_elite += 1\n",
    "\n",
    "                        if events[x]['monsterType']== 'DRAGON':\n",
    "                            if red_dragon ==0 and blue_dragon == 0:\n",
    "                                red_firstdragon += 1\n",
    "                            else:\n",
    "                                pass\n",
    "\n",
    "                            red_dragontype.append(events[x]['monsterSubType'])\n",
    "                            red_dragon += 1\n",
    "\n",
    "\n",
    "\n",
    "                        elif events[x]['monsterType']== 'RIFTHERALD':\n",
    "                            red_rift += 1\n",
    "\n",
    "                        elif events[x]['monsterType']== 'BARON_NASHOR':\n",
    "                            if red_baron ==0 and blue_dragon == 0:\n",
    "                                red_firstbaron += 1\n",
    "                            else:\n",
    "                                pass\n",
    "\n",
    "                            red_baron += 1\n",
    "                \n",
    "                # 구조물 파괴\n",
    "                elif events[x]['type'] == 'BUILDING_KILL':\n",
    "                    if 1 <= events[x]['killerId'] <= 5:\n",
    "                    \n",
    "                        # 블루 타워 파괴\n",
    "                        if events[x]['buildingType'] == 'TOWER_BUILDING':\n",
    "                            if red_tower == 0 and blue_tower ==0:\n",
    "                                blue_firsttower += 1\n",
    "                                blue_firsttowerlane.append(events[x]['laneType'])\n",
    "\n",
    "                            else:\n",
    "                                pass\n",
    "\n",
    "                            blue_tower += 1\n",
    "\n",
    "                            if events[x]['laneType'] == 'MID_LANE':\n",
    "                                blue_midtower += 1\n",
    "\n",
    "                            elif events[x]['laneType'] == 'TOP_LANE':\n",
    "                                blue_toptower += 1\n",
    "\n",
    "                            elif events[x]['laneType'] == 'BOT_LANE':\n",
    "                                blue_bottower += 1\n",
    "\n",
    "\n",
    "                        # 블루 억제기 파괴\n",
    "                        elif events[x]['buildingType'] == 'INHIBITOR_BUILDING':\n",
    "                            if red_inhibitor == 0 and blue_inhibitor ==0:\n",
    "                                blue_firstinhibitor += 1\n",
    "\n",
    "                            else:\n",
    "                                pass\n",
    "\n",
    "                            blue_inhibitor += 1\n",
    "\n",
    "                    else:\n",
    "\n",
    "                        # 레드 타워 파괴\n",
    "                        if events[x]['buildingType'] == 'TOWER_BUILDING':\n",
    "                            if red_tower == 0 and blue_tower ==0:\n",
    "                                red_firsttower += 1\n",
    "                                red_firsttowerlane.append(events[x]['laneType'])\n",
    "\n",
    "                            else:\n",
    "                                pass\n",
    "\n",
    "                            red_tower += 1\n",
    "\n",
    "                            if events[x]['laneType'] == 'MID_LANE':\n",
    "                                red_midtower += 1\n",
    "\n",
    "                            elif events[x]['laneType'] == 'TOP_LANE':\n",
    "                                red_toptower += 1\n",
    "\n",
    "                            elif events[x]['laneType'] == 'BOT_LANE':\n",
    "                                red_bottower += 1\n",
    "\n",
    "                        # 레드 억제기 파괴\n",
    "                        elif events[x]['buildingType'] == 'INHIBITOR_BUILDING':\n",
    "                            if red_inhibitor == 0 and blue_inhibitor ==0:\n",
    "                                red_firstinhibitor += 1\n",
    "\n",
    "                            else:\n",
    "                                pass\n",
    "\n",
    "                            red_inhibitor += 1\n",
    "\n",
    "\n",
    "# list값으로 반환되는 변수들을 string으로 바꾸는 부분\n",
    "        try:\n",
    "            blue_firsttowerlane = blue_firsttowerlane[0]\n",
    "        except:\n",
    "            blue_firsttowerlane= None\n",
    "        try: \n",
    "            blue_dragontype[0]\n",
    "            try:\n",
    "                blue_dragontype[1]\n",
    "                try:\n",
    "                    blue_dragontype[2]\n",
    "                    try:\n",
    "                        blue_dragontype[3]\n",
    "                        try:\n",
    "                            blue_dragontype[4]\n",
    "                            blue_dragontype = blue_dragontype[0] + \",\" + blue_dragontype[1] + \",\" + blue_dragontype[2] + \",\" + blue_dragontype[3]+ \",\" + blue_dragontype[4]\n",
    "                        except:\n",
    "                            blue_dragontype = blue_dragontype[0] + \",\" + blue_dragontype[1] + \",\" + blue_dragontype[2] + \",\" + blue_dragontype[3]\n",
    "                    except:\n",
    "                        blue_dragontype = blue_dragontype[0] + \",\" + blue_dragontype[1] + \",\" + blue_dragontype[2]\n",
    "                except:\n",
    "                    blue_dragontype = blue_dragontype[0] + \",\" + blue_dragontype[1]\n",
    "            except:\n",
    "                blue_dragontype = blue_dragontype[0]\n",
    "        except:\n",
    "            blue_dragontype=None\n",
    "        try:\n",
    "            red_firsttowerlane = red_firsttowerlane[0]\n",
    "        except:\n",
    "            red_firsttowerlane = None\n",
    "        try: \n",
    "            red_dragontype[0]\n",
    "            try:\n",
    "                red_dragontype[1]\n",
    "                try:\n",
    "                    red_dragontype[2]\n",
    "                    try:\n",
    "                        red_dragontype[3]\n",
    "                        try:\n",
    "                            red_dragontype[4]\n",
    "                            red_dragontype = red_dragontype[0] + \",\" + red_dragontype[1] + \",\" + red_dragontype[2] + \",\" + red_dragontype[3] + \",\" + red_dragontype[4]\n",
    "                        except:\n",
    "                            red_dragontype = red_dragontype[0] + \",\" + red_dragontype[1] + \",\" + red_dragontype[2] + \",\" + red_dragontype[3]\n",
    "                    except:\n",
    "                        red_dragontype = red_dragontype[0] + \",\" + red_dragontype[1] + \",\" + red_dragontype[2]\n",
    "                except:\n",
    "                    red_dragontype = red_dragontype[0] + \",\" + red_dragontype[1]\n",
    "            except:\n",
    "                red_dragontype = red_dragontype[0]\n",
    "        except:\n",
    "            red_dragontype=None\n",
    "        \n",
    "        data_list = [game_id,blueWins,np.sum(bluetotal_gold)\\\n",
    "                    ,np.sum(bluecurrent_gold),np.sum(bluetotal_level),np.mean(bluetotal_level)\\\n",
    "                    ,np.sum(bluetotal_minionkill),np.sum(bluetotal_jungleminionkill),np.sum(bluetotal_damage)\\\n",
    "                    ,blue_firstkill,blue_kill,blue_death,blue_assist,blue_wardplace,blue_wardkill\\\n",
    "                    ,blue_firsttower,blue_firstinhibitor,blue_firsttowerlane,blue_tower\\\n",
    "                    ,blue_midtower,blue_toptower,blue_bottower,blue_inhibitor,blue_firstdragon\\\n",
    "                    ,blue_dragontype,blue_dragon,blue_rift\\\n",
    "                    ,redWins,np.sum(redtotal_gold)\\\n",
    "                    ,np.sum(redcurrent_gold),np.sum(redtotal_level),np.mean(redtotal_level)\\\n",
    "                    ,np.sum(redtotal_minionkill),np.sum(redtotal_jungleminionkill),np.sum(redtotal_damage)\\\n",
    "                    ,red_firstkill,red_kill,red_death,red_assist,red_wardplace,red_wardkill\\\n",
    "                    ,red_firsttower,red_firstinhibitor,red_firsttowerlane,red_tower\\\n",
    "                    ,red_midtower,red_toptower,red_bottower,red_inhibitor,red_firstdragon\\\n",
    "                    ,red_dragontype,red_dragon,red_rift]\n",
    "\n",
    "        chal_timeline_df1 = pd.DataFrame(np.array([data_list]), columns=use_columns)\n",
    "        chal_timeline_df = pd.concat([chal_timeline_df, chal_timeline_df1])\n",
    "\n",
    "    # if b != 0 and b % 2000 == 0:  # feature가 많다보니 반복문 2000씩 끊어서 수집\n",
    "    #     chal_timeline_df = pd.concat([chal_timeline_df, chal_timeline_df1])\n",
    "    #     chal_timeline_df1 = pd.DataFrame()\n",
    "\n",
    "    print(\"TimelineData downloaded!\")\n",
    "    return chal_timeline_df"
   ]
  },
  {
   "cell_type": "code",
   "execution_count": 20,
   "metadata": {},
   "outputs": [
    {
     "name": "stdout",
     "output_type": "stream",
     "text": [
      "downloading Last Data\n"
     ]
    },
    {
     "name": "stderr",
     "output_type": "stream",
     "text": [
      "  3%|▎         | 100/3832 [01:17<35:02,  1.77it/s] "
     ]
    },
    {
     "name": "stdout",
     "output_type": "stream",
     "text": [
      "api cost full : infinite loop start\n",
      "loop location :  100\n",
      "try 120 second wait time\n"
     ]
    },
    {
     "name": "stderr",
     "output_type": "stream",
     "text": [
      "  3%|▎         | 101/3832 [03:19<38:22:11, 37.02s/it]"
     ]
    },
    {
     "name": "stdout",
     "output_type": "stream",
     "text": [
      "200\n",
      "total wait time :  121.83425426483154\n",
      "recovery api cost\n"
     ]
    },
    {
     "name": "stderr",
     "output_type": "stream",
     "text": [
      "  5%|▌         | 200/3832 [04:19<1:05:25,  1.08s/it] "
     ]
    },
    {
     "name": "stdout",
     "output_type": "stream",
     "text": [
      "api cost full : infinite loop start\n",
      "loop location :  200\n",
      "try 120 second wait time\n"
     ]
    },
    {
     "name": "stderr",
     "output_type": "stream",
     "text": [
      "  5%|▌         | 201/3832 [06:22<37:54:26, 37.58s/it]"
     ]
    },
    {
     "name": "stdout",
     "output_type": "stream",
     "text": [
      "200\n",
      "total wait time :  122.0944619178772\n",
      "recovery api cost\n"
     ]
    },
    {
     "name": "stderr",
     "output_type": "stream",
     "text": [
      "  8%|▊         | 300/3832 [07:19<28:03,  2.10it/s]   "
     ]
    },
    {
     "name": "stdout",
     "output_type": "stream",
     "text": [
      "api cost full : infinite loop start\n",
      "loop location :  300\n",
      "try 120 second wait time\n"
     ]
    },
    {
     "name": "stderr",
     "output_type": "stream",
     "text": [
      "  8%|▊         | 301/3832 [09:21<36:25:41, 37.14s/it]"
     ]
    },
    {
     "name": "stdout",
     "output_type": "stream",
     "text": [
      "200\n",
      "total wait time :  122.44481015205383\n",
      "recovery api cost\n"
     ]
    },
    {
     "name": "stderr",
     "output_type": "stream",
     "text": [
      " 10%|█         | 400/3832 [10:20<27:54,  2.05it/s]   "
     ]
    },
    {
     "name": "stdout",
     "output_type": "stream",
     "text": [
      "api cost full : infinite loop start\n",
      "loop location :  400\n",
      "try 120 second wait time\n"
     ]
    },
    {
     "name": "stderr",
     "output_type": "stream",
     "text": [
      " 10%|█         | 401/3832 [12:22<35:12:38, 36.94s/it]"
     ]
    },
    {
     "name": "stdout",
     "output_type": "stream",
     "text": [
      "200\n",
      "total wait time :  121.74602890014648\n",
      "recovery api cost\n"
     ]
    },
    {
     "name": "stderr",
     "output_type": "stream",
     "text": [
      " 13%|█▎        | 500/3832 [13:17<27:40,  2.01it/s]   "
     ]
    },
    {
     "name": "stdout",
     "output_type": "stream",
     "text": [
      "api cost full : infinite loop start\n",
      "loop location :  500\n",
      "try 120 second wait time\n"
     ]
    },
    {
     "name": "stderr",
     "output_type": "stream",
     "text": [
      " 13%|█▎        | 501/3832 [15:19<34:07:21, 36.88s/it]"
     ]
    },
    {
     "name": "stdout",
     "output_type": "stream",
     "text": [
      "200\n",
      "total wait time :  121.51605892181396\n",
      "recovery api cost\n"
     ]
    },
    {
     "name": "stderr",
     "output_type": "stream",
     "text": [
      " 16%|█▌        | 600/3832 [16:18<33:34,  1.60it/s]   "
     ]
    },
    {
     "name": "stdout",
     "output_type": "stream",
     "text": [
      "api cost full : infinite loop start\n",
      "loop location :  600\n",
      "try 120 second wait time\n"
     ]
    },
    {
     "name": "stderr",
     "output_type": "stream",
     "text": [
      " 16%|█▌        | 601/3832 [18:21<33:33:39, 37.39s/it]"
     ]
    },
    {
     "name": "stdout",
     "output_type": "stream",
     "text": [
      "200\n",
      "total wait time :  122.91919612884521\n",
      "recovery api cost\n"
     ]
    },
    {
     "name": "stderr",
     "output_type": "stream",
     "text": [
      " 18%|█▊        | 700/3832 [19:42<43:55,  1.19it/s]   "
     ]
    },
    {
     "name": "stdout",
     "output_type": "stream",
     "text": [
      "api cost full : infinite loop start\n",
      "loop location :  700\n",
      "try 120 second wait time\n"
     ]
    },
    {
     "name": "stderr",
     "output_type": "stream",
     "text": [
      " 18%|█▊        | 701/3832 [21:44<32:27:49, 37.33s/it]"
     ]
    },
    {
     "name": "stdout",
     "output_type": "stream",
     "text": [
      "200\n",
      "total wait time :  121.76418113708496\n",
      "recovery api cost\n"
     ]
    },
    {
     "name": "stderr",
     "output_type": "stream",
     "text": [
      " 21%|██        | 800/3832 [23:02<39:45,  1.27it/s]   "
     ]
    },
    {
     "name": "stdout",
     "output_type": "stream",
     "text": [
      "api cost full : infinite loop start\n",
      "loop location :  800\n",
      "try 120 second wait time\n"
     ]
    },
    {
     "name": "stderr",
     "output_type": "stream",
     "text": [
      " 21%|██        | 801/3832 [25:05<31:35:32, 37.52s/it]"
     ]
    },
    {
     "name": "stdout",
     "output_type": "stream",
     "text": [
      "200\n",
      "total wait time :  122.23033404350281\n",
      "recovery api cost\n"
     ]
    },
    {
     "name": "stderr",
     "output_type": "stream",
     "text": [
      " 23%|██▎       | 900/3832 [26:26<33:11,  1.47it/s]   "
     ]
    },
    {
     "name": "stdout",
     "output_type": "stream",
     "text": [
      "api cost full : infinite loop start\n",
      "loop location :  900\n",
      "try 120 second wait time\n"
     ]
    },
    {
     "name": "stderr",
     "output_type": "stream",
     "text": [
      " 24%|██▎       | 901/3832 [28:29<30:24:38, 37.35s/it]"
     ]
    },
    {
     "name": "stdout",
     "output_type": "stream",
     "text": [
      "200\n",
      "total wait time :  122.49087190628052\n",
      "recovery api cost\n"
     ]
    },
    {
     "name": "stderr",
     "output_type": "stream",
     "text": [
      " 26%|██▌       | 1000/3832 [30:06<34:42,  1.36it/s]  "
     ]
    },
    {
     "name": "stdout",
     "output_type": "stream",
     "text": [
      "api cost full : infinite loop start\n",
      "loop location :  1000\n",
      "try 120 second wait time\n"
     ]
    },
    {
     "name": "stderr",
     "output_type": "stream",
     "text": [
      " 26%|██▌       | 1001/3832 [32:09<29:17:10, 37.24s/it]"
     ]
    },
    {
     "name": "stdout",
     "output_type": "stream",
     "text": [
      "200\n",
      "total wait time :  122.15643906593323\n",
      "recovery api cost\n"
     ]
    },
    {
     "name": "stderr",
     "output_type": "stream",
     "text": [
      " 29%|██▊       | 1100/3832 [33:50<39:33,  1.15it/s]   "
     ]
    },
    {
     "name": "stdout",
     "output_type": "stream",
     "text": [
      "api cost full : infinite loop start\n",
      "loop location :  1100\n",
      "try 120 second wait time\n"
     ]
    },
    {
     "name": "stderr",
     "output_type": "stream",
     "text": [
      " 29%|██▊       | 1101/3832 [35:53<28:18:23, 37.31s/it]"
     ]
    },
    {
     "name": "stdout",
     "output_type": "stream",
     "text": [
      "200\n",
      "total wait time :  122.05501890182495\n",
      "recovery api cost\n"
     ]
    },
    {
     "name": "stderr",
     "output_type": "stream",
     "text": [
      " 31%|███▏      | 1200/3832 [37:20<31:15,  1.40it/s]   "
     ]
    },
    {
     "name": "stdout",
     "output_type": "stream",
     "text": [
      "api cost full : infinite loop start\n",
      "loop location :  1200\n",
      "try 120 second wait time\n"
     ]
    },
    {
     "name": "stderr",
     "output_type": "stream",
     "text": [
      " 31%|███▏      | 1201/3832 [39:22<27:09:33, 37.16s/it]"
     ]
    },
    {
     "name": "stdout",
     "output_type": "stream",
     "text": [
      "200\n",
      "total wait time :  121.90851092338562\n",
      "recovery api cost\n"
     ]
    },
    {
     "name": "stderr",
     "output_type": "stream",
     "text": [
      " 34%|███▍      | 1300/3832 [40:53<27:50,  1.52it/s]   "
     ]
    },
    {
     "name": "stdout",
     "output_type": "stream",
     "text": [
      "api cost full : infinite loop start\n",
      "loop location :  1300\n",
      "try 120 second wait time\n"
     ]
    },
    {
     "name": "stderr",
     "output_type": "stream",
     "text": [
      " 34%|███▍      | 1301/3832 [42:55<26:05:40, 37.12s/it]"
     ]
    },
    {
     "name": "stdout",
     "output_type": "stream",
     "text": [
      "200\n",
      "total wait time :  121.7766363620758\n",
      "recovery api cost\n"
     ]
    },
    {
     "name": "stderr",
     "output_type": "stream",
     "text": [
      " 37%|███▋      | 1400/3832 [44:27<36:02,  1.12it/s]   "
     ]
    },
    {
     "name": "stdout",
     "output_type": "stream",
     "text": [
      "api cost full : infinite loop start\n",
      "loop location :  1400\n",
      "try 120 second wait time\n"
     ]
    },
    {
     "name": "stderr",
     "output_type": "stream",
     "text": [
      " 37%|███▋      | 1401/3832 [46:30<25:18:31, 37.48s/it]"
     ]
    },
    {
     "name": "stdout",
     "output_type": "stream",
     "text": [
      "200\n",
      "total wait time :  122.347158908844\n",
      "recovery api cost\n"
     ]
    },
    {
     "name": "stderr",
     "output_type": "stream",
     "text": [
      " 39%|███▉      | 1500/3832 [47:57<21:19,  1.82it/s]   "
     ]
    },
    {
     "name": "stdout",
     "output_type": "stream",
     "text": [
      "api cost full : infinite loop start\n",
      "loop location :  1500\n",
      "try 120 second wait time\n"
     ]
    },
    {
     "name": "stderr",
     "output_type": "stream",
     "text": [
      " 39%|███▉      | 1501/3832 [50:00<24:07:12, 37.25s/it]"
     ]
    },
    {
     "name": "stdout",
     "output_type": "stream",
     "text": [
      "200\n",
      "total wait time :  122.418133020401\n",
      "recovery api cost\n"
     ]
    },
    {
     "name": "stderr",
     "output_type": "stream",
     "text": [
      " 42%|████▏     | 1600/3832 [51:32<36:25,  1.02it/s]   "
     ]
    },
    {
     "name": "stdout",
     "output_type": "stream",
     "text": [
      "api cost full : infinite loop start\n",
      "loop location :  1600\n",
      "try 120 second wait time\n"
     ]
    },
    {
     "name": "stderr",
     "output_type": "stream",
     "text": [
      " 42%|████▏     | 1601/3832 [53:35<23:16:31, 37.56s/it]"
     ]
    },
    {
     "name": "stdout",
     "output_type": "stream",
     "text": [
      "200\n",
      "total wait time :  121.9557580947876\n",
      "recovery api cost\n"
     ]
    },
    {
     "name": "stderr",
     "output_type": "stream",
     "text": [
      " 44%|████▍     | 1700/3832 [54:47<20:25,  1.74it/s]   "
     ]
    },
    {
     "name": "stdout",
     "output_type": "stream",
     "text": [
      "api cost full : infinite loop start\n",
      "loop location :  1700\n",
      "try 120 second wait time\n"
     ]
    },
    {
     "name": "stderr",
     "output_type": "stream",
     "text": [
      " 44%|████▍     | 1701/3832 [56:50<22:01:14, 37.20s/it]"
     ]
    },
    {
     "name": "stdout",
     "output_type": "stream",
     "text": [
      "200\n",
      "total wait time :  122.26217794418335\n",
      "recovery api cost\n"
     ]
    },
    {
     "name": "stderr",
     "output_type": "stream",
     "text": [
      " 47%|████▋     | 1800/3832 [58:12<27:42,  1.22it/s]   "
     ]
    },
    {
     "name": "stdout",
     "output_type": "stream",
     "text": [
      "api cost full : infinite loop start\n",
      "loop location :  1800\n",
      "try 120 second wait time\n"
     ]
    },
    {
     "name": "stderr",
     "output_type": "stream",
     "text": [
      " 47%|████▋     | 1801/3832 [1:00:15<21:07:31, 37.45s/it]"
     ]
    },
    {
     "name": "stdout",
     "output_type": "stream",
     "text": [
      "200\n",
      "total wait time :  122.63186526298523\n",
      "recovery api cost\n"
     ]
    },
    {
     "name": "stderr",
     "output_type": "stream",
     "text": [
      " 50%|████▉     | 1900/3832 [1:01:43<33:29,  1.04s/it]   "
     ]
    },
    {
     "name": "stdout",
     "output_type": "stream",
     "text": [
      "api cost full : infinite loop start\n",
      "loop location :  1900\n",
      "try 120 second wait time\n"
     ]
    },
    {
     "name": "stderr",
     "output_type": "stream",
     "text": [
      " 50%|████▉     | 1901/3832 [1:03:45<20:08:05, 37.54s/it]"
     ]
    },
    {
     "name": "stdout",
     "output_type": "stream",
     "text": [
      "200\n",
      "total wait time :  122.3061089515686\n",
      "recovery api cost\n"
     ]
    },
    {
     "name": "stderr",
     "output_type": "stream",
     "text": [
      " 52%|█████▏    | 2000/3832 [1:05:04<25:57,  1.18it/s]   "
     ]
    },
    {
     "name": "stdout",
     "output_type": "stream",
     "text": [
      "api cost full : infinite loop start\n",
      "loop location :  2000\n",
      "try 120 second wait time\n"
     ]
    },
    {
     "name": "stderr",
     "output_type": "stream",
     "text": [
      " 52%|█████▏    | 2001/3832 [1:07:07<18:59:26, 37.34s/it]"
     ]
    },
    {
     "name": "stdout",
     "output_type": "stream",
     "text": [
      "200\n",
      "total wait time :  122.0488429069519\n",
      "recovery api cost\n"
     ]
    },
    {
     "name": "stderr",
     "output_type": "stream",
     "text": [
      " 55%|█████▍    | 2100/3832 [1:08:34<23:00,  1.25it/s]   "
     ]
    },
    {
     "name": "stdout",
     "output_type": "stream",
     "text": [
      "api cost full : infinite loop start\n",
      "loop location :  2100\n",
      "try 120 second wait time\n"
     ]
    },
    {
     "name": "stderr",
     "output_type": "stream",
     "text": [
      " 55%|█████▍    | 2101/3832 [1:10:36<17:56:18, 37.31s/it]"
     ]
    },
    {
     "name": "stdout",
     "output_type": "stream",
     "text": [
      "200\n",
      "total wait time :  122.0824089050293\n",
      "recovery api cost\n"
     ]
    },
    {
     "name": "stderr",
     "output_type": "stream",
     "text": [
      " 57%|█████▋    | 2200/3832 [1:12:00<19:23,  1.40it/s]   "
     ]
    },
    {
     "name": "stdout",
     "output_type": "stream",
     "text": [
      "api cost full : infinite loop start\n",
      "loop location :  2200\n",
      "try 120 second wait time\n"
     ]
    },
    {
     "name": "stderr",
     "output_type": "stream",
     "text": [
      " 57%|█████▋    | 2201/3832 [1:14:02<16:52:29, 37.25s/it]"
     ]
    },
    {
     "name": "stdout",
     "output_type": "stream",
     "text": [
      "200\n",
      "total wait time :  122.20412802696228\n",
      "recovery api cost\n"
     ]
    },
    {
     "name": "stderr",
     "output_type": "stream",
     "text": [
      " 59%|█████▉    | 2256/3832 [1:14:59<34:38,  1.32s/it]   "
     ]
    }
   ],
   "source": [
    "df = getLastData(api_key,0)\n",
    "df.to_csv(\"/Users/ichang-ug/Documents/GitHub/esports_YSAL/LOL/CHANGWOOK/gm15_last.csv\")"
   ]
  },
  {
   "cell_type": "code",
   "execution_count": 15,
   "metadata": {},
   "outputs": [
    {
     "name": "stdout",
     "output_type": "stream",
     "text": [
      "downloading Last Data\n"
     ]
    },
    {
     "name": "stderr",
     "output_type": "stream",
     "text": [
      "  7%|▋         | 100/1521 [00:53<12:46,  1.85it/s]\n"
     ]
    },
    {
     "ename": "KeyError",
     "evalue": "'info'",
     "output_type": "error",
     "traceback": [
      "\u001b[0;31m---------------------------------------------------------------------------\u001b[0m",
      "\u001b[0;31mKeyError\u001b[0m                                  Traceback (most recent call last)",
      "Cell \u001b[0;32mIn[15], line 2\u001b[0m\n\u001b[1;32m      1\u001b[0m api_keys \u001b[39m=\u001b[39m [\u001b[39m'\u001b[39m\u001b[39mRGAPI-def75b24-3914-4a63-83e3-8bfd24f2c617\u001b[39m\u001b[39m'\u001b[39m,\u001b[39m'\u001b[39m\u001b[39mRGAPI-0eac258d-60c1-44ed-9caf-206bc3ff36fc\u001b[39m\u001b[39m'\u001b[39m]\n\u001b[0;32m----> 2\u001b[0m df \u001b[39m=\u001b[39m getLastData(api_keys,\u001b[39m0\u001b[39;49m)\n",
      "Cell \u001b[0;32mIn[14], line 101\u001b[0m, in \u001b[0;36mgetLastData\u001b[0;34m(api_keys, tier)\u001b[0m\n\u001b[1;32m     97\u001b[0m     \u001b[39mbreak\u001b[39;00m\n\u001b[1;32m     98\u001b[0m \u001b[39m# 응답 테스트 끝\u001b[39;00m\n\u001b[0;32m--> 101\u001b[0m frames \u001b[39m=\u001b[39m req\u001b[39m.\u001b[39;49mjson()[\u001b[39m'\u001b[39;49m\u001b[39minfo\u001b[39;49m\u001b[39m'\u001b[39;49m][\u001b[39m'\u001b[39m\u001b[39mframes\u001b[39m\u001b[39m'\u001b[39m]\n\u001b[1;32m    103\u001b[0m \u001b[39m# 승패 확인\u001b[39;00m\n\u001b[1;32m    104\u001b[0m lastEvent \u001b[39m=\u001b[39m frames[\u001b[39m-\u001b[39m\u001b[39m1\u001b[39m][\u001b[39m'\u001b[39m\u001b[39mevents\u001b[39m\u001b[39m'\u001b[39m][\u001b[39m-\u001b[39m\u001b[39m1\u001b[39m]\n",
      "\u001b[0;31mKeyError\u001b[0m: 'info'"
     ]
    }
   ],
   "source": [
    "\n"
   ]
  },
  {
   "cell_type": "code",
   "execution_count": null,
   "metadata": {},
   "outputs": [],
   "source": []
  }
 ],
 "metadata": {
  "kernelspec": {
   "display_name": "Python 3",
   "language": "python",
   "name": "python3"
  },
  "language_info": {
   "codemirror_mode": {
    "name": "ipython",
    "version": 3
   },
   "file_extension": ".py",
   "mimetype": "text/x-python",
   "name": "python",
   "nbconvert_exporter": "python",
   "pygments_lexer": "ipython3",
   "version": "3.10.10"
  },
  "orig_nbformat": 4
 },
 "nbformat": 4,
 "nbformat_minor": 2
}
